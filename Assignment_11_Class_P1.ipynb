{
  "nbformat": 4,
  "nbformat_minor": 0,
  "metadata": {
    "colab": {
      "provenance": [],
      "authorship_tag": "ABX9TyO3oJ1mXn/+evFLxcTTjB5D",
      "include_colab_link": true
    },
    "kernelspec": {
      "name": "python3",
      "display_name": "Python 3"
    },
    "language_info": {
      "name": "python"
    }
  },
  "cells": [
    {
      "cell_type": "markdown",
      "metadata": {
        "id": "view-in-github",
        "colab_type": "text"
      },
      "source": [
        "<a href=\"https://colab.research.google.com/github/Sherbie8/CSC221_sreid009/blob/main/Assignment_11_Class_P1.ipynb\" target=\"_parent\"><img src=\"https://colab.research.google.com/assets/colab-badge.svg\" alt=\"Open In Colab\"/></a>"
      ]
    },
    {
      "cell_type": "code",
      "execution_count": null,
      "metadata": {
        "id": "daV1tOI2qVjB",
        "colab": {
          "base_uri": "https://localhost:8080/"
        },
        "outputId": "e13a3d55-dde8-45d5-f55f-cb953e758299"
      },
      "outputs": [
        {
          "output_type": "stream",
          "name": "stdout",
          "text": [
            "my dog's name is Mochi.\n",
            "My dog is 6 years old.\n",
            "Mochi is now sitting.\n",
            "\n",
            "Your dog's name is Lucy.\n",
            "Your dog is 3 years old.\n",
            "Lucy is now sitting.\n"
          ]
        }
      ],
      "source": [
        "#Structure of a class program\n",
        "\n",
        "class Dog:\n",
        "\n",
        "  def __init__ (self, name, age):\n",
        "\n",
        "    self.name = name\n",
        "    self.age = age\n",
        "\n",
        "  def sit(self):\n",
        "\n",
        "    print(f\"{self.name} is now sitting.\")\n",
        "\n",
        "\n",
        "  def roll_over(self):\n",
        "\n",
        "    print(f\"{self.name} rolled over!\")\n",
        "\n",
        "class Dog:\n",
        "  my_dog = Dog('Mochi', 6)\n",
        "  your_dog = Dog('Lucy', 3)\n",
        "\n",
        "  print(f\"my dog's name is {my_dog.name}.\")\n",
        "  print(f\"My dog is {my_dog.age} years old.\")\n",
        "  my_dog.sit()\n",
        "\n",
        "  print(f\"\\nYour dog's name is {your_dog.name}.\")\n",
        "  print(f\"Your dog is {your_dog.age} years old.\")\n",
        "  your_dog.sit()\n"
      ]
    },
    {
      "cell_type": "code",
      "source": [],
      "metadata": {
        "id": "bFJjZ3TGSnYO"
      },
      "execution_count": null,
      "outputs": []
    },
    {
      "cell_type": "code",
      "source": [
        "#Exercise 9-2\n",
        "class Restaurant:\n",
        "\n",
        "  def __init__ (self, name, cuisine):\n",
        "\n",
        "    self.name = name\n",
        "    self.cuisine = cuisine\n",
        "\n",
        "  def restaurant_type(self):\n",
        "\n",
        "    print(f\"{self.name} is a restuarant chain.\")\n",
        "\n",
        "  def open_restaurant(self):\n",
        "\n",
        "    print(f\"{self.name} is open!\")\n",
        "\n",
        "class Restuarant:\n",
        "\n",
        "  restaurant_1 = Restaurant('Island Vibes', 'Jamaican')\n",
        "  restaurant_2 = Restaurant('Jade Buffet', 'Chinese')\n",
        "  restaurant_3 = Restaurant('Panera', 'Brunch')\n",
        "\n",
        "  print(f\"{restaurant_1.name}\\n\")\n",
        "\n",
        "  restaurant_1.restaurant_type()\n",
        "\n",
        "  print(f\"Its known for its {restaurant_1.cuisine} cuisine.\")\n",
        "\n",
        "  restaurant_1.open_restaurant()\n",
        "\n",
        "  #########\n",
        "\n",
        "  print(f\"\\n{restaurant_2.name}\\n\")\n",
        "\n",
        "  restaurant_2.restaurant_type()\n",
        "\n",
        "  print(f\"Its known for its {restaurant_2.cuisine} cuisine.\")\n",
        "\n",
        "  restaurant_2.open_restaurant()\n",
        "\n",
        "  #########\n",
        "\n",
        "  print(f\"\\n{restaurant_3.name}\\n\")\n",
        "\n",
        "  restaurant_3.restaurant_type()\n",
        "\n",
        "  print(f\"Its known for its {restaurant_3.cuisine} cuisine.\")\n",
        "\n",
        "  restaurant_3.open_restaurant()\n"
      ],
      "metadata": {
        "id": "CDFgaBaQrjyP",
        "colab": {
          "base_uri": "https://localhost:8080/"
        },
        "outputId": "984d91e1-d003-40d9-b8e8-73b3ab89087b"
      },
      "execution_count": null,
      "outputs": [
        {
          "output_type": "stream",
          "name": "stdout",
          "text": [
            "Island Vibes\n",
            "\n",
            "Island Vibes is a restuarant chain.\n",
            "Its known for its Jamaican cuisine.\n",
            "Island Vibes is open!\n",
            "\n",
            "Jade Buffet\n",
            "\n",
            "Jade Buffet is a restuarant chain.\n",
            "Its known for its Chinese cuisine.\n",
            "Jade Buffet is open!\n",
            "\n",
            "Panera\n",
            "\n",
            "Panera is a restuarant chain.\n",
            "Its known for its Brunch cuisine.\n",
            "Panera is open!\n"
          ]
        }
      ]
    },
    {
      "cell_type": "code",
      "source": [
        "#Exercise 9-3\n",
        "\n",
        "class User:\n",
        "\n",
        "  def __init__(self, first_name, last_name, age, sex, weight, height):\n",
        "\n",
        "    self.first_name = first_name\n",
        "    self.last_name = last_name\n",
        "    self.age = age\n",
        "    self.sex = sex\n",
        "    self.height = height\n",
        "    self.weight = weight\n",
        "\n",
        "  def describe_user(self):\n",
        "\n",
        "    print(f\"{self.first_name.title()} {self.last_name.title()} is a {self.age} year old {self.sex} at {self.height} weighing {self.weight} pounds.\")\n",
        "\n",
        "\n",
        "  def greet_user(self):\n",
        "\n",
        "    print(f\"\\nHello, {self.first_name.title()}!\\n\")\n",
        "\n",
        "class User:\n",
        "\n",
        "  User_1 = User('Samuel', 'Reid', '21', 'Male', '130', '5\"8')\n",
        "  User_2 = User('Vermaline', 'Thomas', '30', 'Female', '150', '5\"5')\n",
        "  User_3 = User('Peter', 'Hugo', '22', 'Male', '160', '5\"9')\n",
        "\n",
        "\n",
        "\n",
        "  User_1.greet_user()\n",
        "  User_1.describe_user()\n",
        "\n",
        "  User_2.greet_user()\n",
        "  User_2.describe_user()\n",
        "\n",
        "  User_3.greet_user()\n",
        "  User_3.describe_user()\n"
      ],
      "metadata": {
        "id": "_fQwrs9xRlYD"
      },
      "execution_count": null,
      "outputs": []
    },
    {
      "cell_type": "code",
      "source": [
        "#Car Program\n",
        "class Car:\n",
        "\n",
        "  def __init__(self, make, model, year):\n",
        "\n",
        "    self.make = make\n",
        "    self.model = model\n",
        "    self.year = year\n",
        "    self.odometer_reading = 0\n",
        "\n",
        "  def get_descriptive_name(self):\n",
        "\n",
        "    long_name = f\"{self.year} {self.make} {self.model}\"\n",
        "\n",
        "    return long_name.title()\n",
        "\n",
        "  def read_odometer(self):\n",
        "\n",
        "    print(f\"This car has {self.odometer_reading} miles on it.\")\n",
        "\n",
        "\n",
        "  def update_odometer(self, mileage):\n",
        "\n",
        "    self.odometer_reading = mileage\n",
        "\n",
        "\n",
        "    if mileage >= self.odometer_reading:\n",
        "\n",
        "      self.odometer_reading = mileage\n",
        "\n",
        "    else:\n",
        "      print(\"Your can't roll back an odometer!\")\n",
        "\n",
        "  def increment_odometer(self, miles):\n",
        "\n",
        "    self.odometer_reading += miles\n",
        "\n",
        "\n",
        "my_new_car = Car('audi', 'a4', '2024')\n",
        "my_used_car = Car('subaru', 'outback', 2019)\n",
        "\n",
        "print(my_new_car.get_descriptive_name())\n",
        "\n",
        "my_new_car.read_odometer()\n",
        "my_new_car.update_odometer(23)\n",
        "my_new_car.read_odometer()\n",
        "\n",
        "print(my_used_car.get_descriptive_name())\n",
        "\n",
        "my_used_car.update_odometer(23_500)\n",
        "my_used_car.read_odometer()\n",
        "my_used_car.increment_odometer(100)\n",
        "my_used_car.read_odometer()\n"
      ],
      "metadata": {
        "id": "_RbGZT42Q7VX",
        "colab": {
          "base_uri": "https://localhost:8080/"
        },
        "outputId": "18d29622-b8d0-4873-d034-3a8e3f275c16"
      },
      "execution_count": null,
      "outputs": [
        {
          "output_type": "stream",
          "name": "stdout",
          "text": [
            "2024 Audi A4\n",
            "This car has 0 miles on it.\n",
            "This car has 23 miles on it.\n",
            "2019 Subaru Outback\n",
            "This car has 23500 miles on it.\n",
            "This car has 23600 miles on it.\n"
          ]
        }
      ]
    },
    {
      "cell_type": "code",
      "source": [
        "#Electric_car.py\n",
        "class Car:\n",
        "\n",
        "  def __init__(self, make, model, year):\n",
        "\n",
        "    self.make = make\n",
        "    self.model = model\n",
        "    self.year = year\n",
        "    self.odometer_reading = 0\n",
        "\n",
        "  def get_descriptive_name(self):\n",
        "\n",
        "    long_name = f\"{self.year} {self.make} {self.model}\"\n",
        "    return long_name.title()\n",
        "\n",
        "    my_leaf = ElectricCar('nissan', 'leaf', 2024)\n",
        "\n",
        "    print(my_leaf.get_descriptive_name())\n",
        "\n",
        "  def read_odometer(self):\n",
        "\n",
        "    print(f\"This car has {self.odometer_reading} miles on it.\")\n",
        "\n",
        "  def update_odometer(self, mileage):\n",
        "\n",
        "    self.odometer_reading = mileage\n",
        "\n",
        "    if mileage >= self.odometer_reading:\n",
        "\n",
        "      self.odometer_reading = mileage\n",
        "\n",
        "    else:\n",
        "      print(\"Your can't roll back an odometer!\")\n",
        "\n",
        "  def increment_odometer(self, miles):\n",
        "\n",
        "    self.odometer_reading += miles\n",
        "\n",
        "\n",
        "class Battery:\n",
        "  def __init__(self, battery_size=40):\n",
        "\n",
        "    self.battery_size = battery_size\n",
        "\n",
        "  def describe_battery(self):\n",
        "\n",
        "    print(f\"This car has a {self.battery_size}-kWh battery.\")\n",
        "\n",
        "  def get_range(self):\n",
        "\n",
        "    if self.battery_size == 40:\n",
        "      range = 150\n",
        "\n",
        "    elif self.battery_size == 65:\n",
        "      range = 225\n",
        "\n",
        "    print(f\"This car can go about {range} miles on a full charge.\")\n",
        "\n",
        "class ElectricCar(Car):\n",
        "\n",
        "  def __init__(self, make, model, year):\n",
        "\n",
        "    super().__init__(make, model, year)\n",
        "\n",
        "    self.battery = Battery()\n",
        "\n",
        "  def describe_battery(self):\n",
        "\n",
        "    print(f\"This car has a {self.battery_size}-kWh battery.\")\n",
        "\n",
        "  def fill_gas_tank(self):\n",
        "\n",
        "    print(\"This car doesn't have a gas tank!\")\n",
        "\n",
        "\n",
        "my_leaf = ElectricCar('nissan', 'leaf', 2024)\n",
        "print(my_leaf.get_descriptive_name())\n",
        "my_leaf.battery.describe_battery()\n",
        "my_leaf.battery.get_range()\n",
        "my_leaf.fill_gas_tank()\n",
        "\n",
        "\n"
      ],
      "metadata": {
        "colab": {
          "base_uri": "https://localhost:8080/"
        },
        "id": "gEPAmgljI8-I",
        "outputId": "e9020d9a-c630-4429-89d6-f9b3f667dd68"
      },
      "execution_count": null,
      "outputs": [
        {
          "output_type": "stream",
          "name": "stdout",
          "text": [
            "2024 Nissan Leaf\n",
            "This car has a 40-kWh battery.\n",
            "This car can go about 150 miles on a full charge.\n",
            "This car doesn't have a gas tank!\n"
          ]
        }
      ]
    },
    {
      "cell_type": "code",
      "source": [
        "#Exercise 9-6\n",
        "\n",
        "class Restaurant:\n",
        "\n",
        "  def __init__ (self, name, cuisine):\n",
        "\n",
        "    self.name = name\n",
        "    self.cuisine = cuisine\n",
        "\n",
        "  def restaurant_type(self):\n",
        "\n",
        "    print(f\"{self.name} is a restuarant chain.\")\n",
        "\n",
        "  def open_restaurant(self):\n",
        "\n",
        "    print(f\"{self.name} is open!\")\n",
        "\n",
        "class Restuarant:\n",
        "\n",
        "  restaurant_1 = Restaurant('Island Vibes', 'Jamaican')\n",
        "  restaurant_2 = Restaurant('Jade Buffet', 'Chinese')\n",
        "  restaurant_3 = Restaurant('Panera', 'Brunch')\n",
        "\n",
        "  print(f\"{restaurant_1.name}\\n\")\n",
        "\n",
        "  restaurant_1.restaurant_type()\n",
        "\n",
        "  print(f\"Its known for its {restaurant_1.cuisine} cuisine.\")\n",
        "\n",
        "  restaurant_1.open_restaurant()\n",
        "\n",
        "class IceCreamStand(Restaurant):\n",
        "\n",
        "  def __init__(self, name, cuisine):\n",
        "    super().__init__(name, cuisine)\n",
        "\n",
        "\n",
        "  def flavors(self):\n",
        "\n",
        "    flavors = ['vanilla', 'chocolate', 'strawberry', 'pistachio', 'coconut', 'peanut']\n",
        "    print(\"\\nOur Ice Cream Flavor Catalog:\")\n",
        "    for flavor in flavors:\n",
        "      print(f\"\\n{flavor}\")\n",
        "\n",
        "icecream = IceCreamStand('name', 'icecream')\n",
        "icecream.flavors()\n",
        "\n"
      ],
      "metadata": {
        "id": "iLv3jjdDRSQo",
        "colab": {
          "base_uri": "https://localhost:8080/"
        },
        "outputId": "8d4c126b-f4b5-477d-95a5-068c31e23a47"
      },
      "execution_count": null,
      "outputs": [
        {
          "output_type": "stream",
          "name": "stdout",
          "text": [
            "Island Vibes\n",
            "\n",
            "Island Vibes is a restuarant chain.\n",
            "Its known for its Jamaican cuisine.\n",
            "Island Vibes is open!\n",
            "\n",
            "Our Ice Cream Flavor Catalog:\n",
            "\n",
            "vanilla\n",
            "\n",
            "chocolate\n",
            "\n",
            "strawberry\n",
            "\n",
            "pistachio\n",
            "\n",
            "coconut\n",
            "\n",
            "peanut\n"
          ]
        }
      ]
    },
    {
      "cell_type": "code",
      "source": [
        "#Exercise 9-7\n",
        "\n",
        "class User:\n",
        "\n",
        "  def __init__(self, first_name, last_name, age, sex, weight, height):\n",
        "\n",
        "    self.first_name = first_name\n",
        "    self.last_name = last_name\n",
        "    self.age = age\n",
        "    self.sex = sex\n",
        "    self.height = height\n",
        "    self.weight = weight\n",
        "\n",
        "  def describe_user(self):\n",
        "\n",
        "    print(f\"{self.first_name.title()} {self.last_name.title()} is a {self.age} year old {self.sex} at {self.height} weighing {self.weight} pounds.\")\n",
        "\n",
        "\n",
        "  def greet_user(self):\n",
        "\n",
        "    print(f\"\\nHello, {self.first_name.title()}!\\n\")\n",
        "\n",
        "class User:\n",
        "\n",
        "  User_1 = User('Samuel', 'Reid', '21', 'Male', '130', '5\"8')\n",
        "  User_1.greet_user()\n",
        "  User_1.describe_user()\n",
        "\n",
        "class Admin(User):\n",
        "\n",
        "  def __init__(self, name, privileges):\n",
        "\n",
        "    self.priveleges = privileges\n",
        "\n",
        "  def show_privileges(self):\n",
        "\n",
        "    privileges = [\"Can add post\", \"Can delete post\", \"Can ban user\"]\n",
        "    print(\"\\nAdmin Privileges:\\n\")\n",
        "    for privilege in privileges:\n",
        "      print(privilege)\n",
        "\n",
        "Admin = Admin('Samuel', 'privileges')\n",
        "\n",
        "Admin.show_privileges()\n"
      ],
      "metadata": {
        "colab": {
          "base_uri": "https://localhost:8080/"
        },
        "id": "2QHaoIYXpsE4",
        "outputId": "da44de4c-6b55-495c-d6a3-096250204759"
      },
      "execution_count": null,
      "outputs": [
        {
          "output_type": "stream",
          "name": "stdout",
          "text": [
            "\n",
            "Hello, Samuel!\n",
            "\n",
            "Samuel Reid is a 21 year old Male at 5\"8 weighing 130 pounds.\n",
            "\n",
            "Admin Privileges:\n",
            "\n",
            "Can add post\n",
            "Can delete post\n",
            "Can ban user\n"
          ]
        }
      ]
    },
    {
      "cell_type": "markdown",
      "source": [],
      "metadata": {
        "id": "OsdUbJIkKvZ4"
      }
    }
  ]
}