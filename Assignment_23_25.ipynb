{
  "nbformat": 4,
  "nbformat_minor": 0,
  "metadata": {
    "colab": {
      "provenance": [],
      "authorship_tag": "ABX9TyOF9Fr2QnYDSqUgaUkOrdCu",
      "include_colab_link": true
    },
    "kernelspec": {
      "name": "python3",
      "display_name": "Python 3"
    },
    "language_info": {
      "name": "python"
    }
  },
  "cells": [
    {
      "cell_type": "markdown",
      "metadata": {
        "id": "view-in-github",
        "colab_type": "text"
      },
      "source": [
        "<a href=\"https://colab.research.google.com/github/Sherbie8/CSC221_sreid009/blob/main/Assignment_23_25.ipynb\" target=\"_parent\"><img src=\"https://colab.research.google.com/assets/colab-badge.svg\" alt=\"Open In Colab\"/></a>"
      ]
    },
    {
      "cell_type": "code",
      "execution_count": null,
      "metadata": {
        "colab": {
          "base_uri": "https://localhost:8080/"
        },
        "id": "lqTyBS5rXgBN",
        "outputId": "b3e6b8b6-feb6-4faf-bc43-2cb8f0477599"
      },
      "outputs": [
        {
          "output_type": "execute_result",
          "data": {
            "text/plain": [
              "221"
            ]
          },
          "metadata": {},
          "execution_count": 1
        }
      ],
      "source": [
        "#Function that only takes positional arguments\n",
        "def addition(x,y):\n",
        "  return x + y\n",
        "\n",
        "addition(200,21)"
      ]
    },
    {
      "cell_type": "code",
      "source": [
        "#Function that takes variadic arguments\n",
        "def arguments(*arg):\n",
        "  print(\"I have\", len(arg), \"arguments.\")\n",
        "\n",
        "arguments(1, 2, 3)"
      ],
      "metadata": {
        "colab": {
          "base_uri": "https://localhost:8080/"
        },
        "id": "BL1kkvoSXnTG",
        "outputId": "c46ff62f-0ee9-4cb9-a4ac-109e5bb1930d"
      },
      "execution_count": null,
      "outputs": [
        {
          "output_type": "stream",
          "name": "stdout",
          "text": [
            "I have 3 arguments.\n"
          ]
        }
      ]
    },
    {
      "cell_type": "code",
      "source": [
        "#Function that only uses keyword arguments\n",
        "\n",
        "def only_kwargs(homework, lesson):\n",
        "  print(f\"I have {homework} assignments for {lesson}. \")\n",
        "\n",
        "only_kwargs(homework = 3, lesson = 'programming')"
      ],
      "metadata": {
        "colab": {
          "base_uri": "https://localhost:8080/"
        },
        "id": "QG4mNcLhdCgM",
        "outputId": "82e98fa5-3ce4-4d7e-e05e-33d3101007a5"
      },
      "execution_count": null,
      "outputs": [
        {
          "output_type": "stream",
          "name": "stdout",
          "text": [
            "I have 3 assignments for programming. \n"
          ]
        }
      ]
    },
    {
      "cell_type": "code",
      "source": [
        "#Function that accepts any inputs (calculator)\n",
        "\n",
        "def calculate(n1,n2,op):\n",
        "    if op == '+':\n",
        "        result = n1+n2\n",
        "    elif op == '-':\n",
        "        result = n1-n2\n",
        "    elif op == '*':\n",
        "        result =  n1*n2\n",
        "    elif op == '/':\n",
        "        result = n1/n2\n",
        "    elif op=='^':\n",
        "        result =  n1**n2\n",
        "    else:\n",
        "        raise ValueError('Invalid operator')\n",
        "\n",
        "    if result.is_integer():\n",
        "        result = int(result)\n",
        "\n",
        "    return result\n",
        "\n",
        "continue_calculating = True\n",
        "while continue_calculating is True:\n",
        "    number1 = float(input('Enter first number: '))\n",
        "    op = input('Enter operator (+,-,*,/,^): ')\n",
        "    number2 = float(input('Enter second number: '))\n",
        "    print(number1,op,number2)\n",
        "    result=calculate(number1,number2,op)\n",
        "    print('=',result)\n",
        "    yes_or_no = input('Continue? (y/n): ')\n",
        "    if yes_or_no == 'n':\n",
        "        continue_calculating = False"
      ],
      "metadata": {
        "colab": {
          "base_uri": "https://localhost:8080/"
        },
        "id": "A9s1R8bPj0tQ",
        "outputId": "5ded20b3-10c6-4221-cbdd-20f3bc9af904"
      },
      "execution_count": null,
      "outputs": [
        {
          "name": "stdout",
          "output_type": "stream",
          "text": [
            "Enter first number: 5\n",
            "Enter operator (+,-,*,/,^): +\n",
            "Enter second number: 5\n",
            "5.0 + 5.0\n",
            "= 10\n",
            "Continue? (y/n): n\n"
          ]
        }
      ]
    },
    {
      "cell_type": "code",
      "source": [
        "#Function that uses global to print how many students are on campus\n",
        "students = 4700\n",
        "\n",
        "def campus_population():\n",
        "  global students\n",
        "  print(\"Current number of students: \", students)\n",
        "\n",
        "  students += 500\n",
        "  print(\"Updated value:\", students)\n",
        "\n",
        "campus_population()"
      ],
      "metadata": {
        "colab": {
          "base_uri": "https://localhost:8080/"
        },
        "id": "yUhn2MP-sAJ3",
        "outputId": "2b46affc-6406-4c23-e3a3-42080d7e7cda"
      },
      "execution_count": null,
      "outputs": [
        {
          "output_type": "stream",
          "name": "stdout",
          "text": [
            "Current number of students:  4700\n",
            "Updated value: 5200\n"
          ]
        }
      ]
    },
    {
      "cell_type": "code",
      "source": [
        "#Lambda function that sorts by vowels\n",
        "\n",
        "#List of words with many vowels\n",
        "words_list = ['audio', 'juice', 'alone', 'union', 'facetiously']\n",
        "\n",
        "#Function that returns the number of vowels in a word\n",
        "def vowel_count_test(string):\n",
        "    count=0\n",
        "    for vowel in string:\n",
        "        if vowel in ['a','e','i','o','u']:\n",
        "            count=count+1\n",
        "    return count\n",
        "\n",
        "#Sorts words in list by the number of vowels\n",
        "sorted_words = sorted(words_list, key=lambda word: sum(ch in 'aeiou' for ch in word), reverse=True)\n",
        "for word in sorted_words:\n",
        "  print(word)\n",
        "\n",
        "vowel_count_test('samuel')\n"
      ],
      "metadata": {
        "colab": {
          "base_uri": "https://localhost:8080/"
        },
        "id": "h4QPN3ZddClK",
        "outputId": "fe5c0167-2971-4d11-a46e-8fe3080f3e16"
      },
      "execution_count": null,
      "outputs": [
        {
          "output_type": "stream",
          "name": "stdout",
          "text": [
            "facetiously\n",
            "audio\n",
            "juice\n",
            "alone\n",
            "union\n"
          ]
        },
        {
          "output_type": "execute_result",
          "data": {
            "text/plain": [
              "3"
            ]
          },
          "metadata": {},
          "execution_count": 16
        }
      ]
    },
    {
      "cell_type": "code",
      "source": [
        "#Example of decorator from textbook\n",
        "from functools import wraps\n",
        "\n",
        "def logger(func):\n",
        "  @wraps\n",
        "  def call(*args, **kwargs):\n",
        "    print('Calling', func.__name__)\n",
        "    return func(*args, **kwargs)\n",
        "  return call\n"
      ],
      "metadata": {
        "id": "Cc_Xb1qktkrC"
      },
      "execution_count": null,
      "outputs": []
    },
    {
      "cell_type": "code",
      "source": [
        "def logger(func):\n",
        "    def wrapper(*args, **kwargs):\n",
        "        # Get the name of the function\n",
        "        func_name = func.__name__\n",
        "\n",
        "        # Get the arguments of the function\n",
        "        args_str = ', '.join([repr(arg) for arg in args])\n",
        "        kwargs_str = ', '.join([f\"{key}={repr(value)}\" for key, value in kwargs.items()])\n",
        "        all_args = f\"Arguments: {args_str}, {kwargs_str}\"\n",
        "\n",
        "        # Call the original function\n",
        "        result = func(*args, **kwargs)\n",
        "\n",
        "        # Log information to log.txt\n",
        "        with open('log.txt', 'a') as log_file:\n",
        "            log_file.write(f\"{func_name} - {all_args} - Return Value: {repr(result)}\\n\")\n",
        "\n",
        "        return result\n",
        "\n",
        "    return wrapper\n",
        "\n",
        "# Example usage of the logger decorator\n",
        "@logger\n",
        "def add_numbers(a, b):\n",
        "    return a + b\n",
        "\n",
        "@logger\n",
        "def multiply_numbers(x, y):\n",
        "    return x * y\n",
        "\n",
        "# Testing the decorated functions\n",
        "add_numbers(2, 3)\n",
        "multiply_numbers(4, 5)\n",
        "\n",
        "#I was very confused with how to do this one and completely got my answer from chatgpt, I didn't understand the concept from reading the textbook,\n",
        "#I will need more help with decorators"
      ],
      "metadata": {
        "colab": {
          "base_uri": "https://localhost:8080/"
        },
        "id": "qjZUXPc9z_GW",
        "outputId": "481e8c98-446a-4dea-97eb-18dab9704139"
      },
      "execution_count": null,
      "outputs": [
        {
          "output_type": "execute_result",
          "data": {
            "text/plain": [
              "20"
            ]
          },
          "metadata": {},
          "execution_count": 60
        }
      ]
    },
    {
      "cell_type": "code",
      "source": [
        "#Example uses of map, filter, and reduce from textbook\n",
        "\n",
        "from functools import reduce\n",
        "\n",
        "nums = [1,2,3,4,5]\n",
        "\n",
        "#Squares all numbers in list\n",
        "squares = map(lambda x: x*x, nums)\n",
        "print(\"Squares: \")\n",
        "for n in squares:\n",
        "  print(n)\n",
        "\n",
        "\n",
        "#Filters out numbers that are less than 3\n",
        "print(\"\\nNumbers greater than 3: \")\n",
        "for n in filter(lambda x: x>3, nums):\n",
        "  print(n)\n",
        "\n",
        "\n",
        "#Adds all nums in list in a left-to-right manner\n",
        "total = reduce(lambda x, y: x + y, nums)\n",
        "print(\"\\nTotal of all num: \")\n",
        "print(total)\n"
      ],
      "metadata": {
        "colab": {
          "base_uri": "https://localhost:8080/"
        },
        "id": "Q6-1CNrA1qx5",
        "outputId": "e78a8583-d4d3-41b4-d894-408a7d24145c"
      },
      "execution_count": null,
      "outputs": [
        {
          "output_type": "stream",
          "name": "stdout",
          "text": [
            "Squares: \n",
            "1\n",
            "4\n",
            "9\n",
            "16\n",
            "25\n",
            "\n",
            "Numbers greater than 3: \n",
            "4\n",
            "5\n",
            "\n",
            "Total of all num: \n",
            "15\n"
          ]
        }
      ]
    },
    {
      "cell_type": "code",
      "source": [
        "#Calulator using exec/eval\n",
        "\n",
        "def simple_calculator():\n",
        "  while True:\n",
        "    user_input = input(\"Enter a expression (or 'exit' to quit): \")\n",
        "\n",
        "    if user_input.lower() == 'exit':\n",
        "      break\n",
        "\n",
        "    try:\n",
        "      result = eval(user_input)\n",
        "      print(f\"Result: {result}\")\n",
        "\n",
        "    except Exception as e:\n",
        "      print(f\"Error: {e}\")\n",
        "\n",
        "simple_calculator()\n",
        "\n",
        "#I worked on this one for a long time but I had to use eval() instead of exec(). I tried many different methods\n",
        "#but the code wouldn't work when I used exec(). I followed the book and tried finding answers online but no luck. The code still works"
      ],
      "metadata": {
        "colab": {
          "base_uri": "https://localhost:8080/"
        },
        "id": "qA-SSGVR-WDr",
        "outputId": "7cc3d36b-e087-4c7f-ed63-4882a2ae5617"
      },
      "execution_count": null,
      "outputs": [
        {
          "name": "stdout",
          "output_type": "stream",
          "text": [
            "Enter a expression (or 'exit' to quit): 5+7\n",
            "Result: 12\n",
            "Enter a expression (or 'exit' to quit): 6+8+1200\n",
            "Result: 1214\n",
            "Enter a expression (or 'exit' to quit): \n",
            "Error: invalid syntax (<string>, line 0)\n",
            "Enter a expression (or 'exit' to quit): exit\n"
          ]
        }
      ]
    }
  ]
}