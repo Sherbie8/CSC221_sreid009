{
  "nbformat": 4,
  "nbformat_minor": 0,
  "metadata": {
    "colab": {
      "provenance": [],
      "authorship_tag": "ABX9TyM+yi540dlS2P2pzCx0qUKP",
      "include_colab_link": true
    },
    "kernelspec": {
      "name": "python3",
      "display_name": "Python 3"
    },
    "language_info": {
      "name": "python"
    }
  },
  "cells": [
    {
      "cell_type": "markdown",
      "metadata": {
        "id": "view-in-github",
        "colab_type": "text"
      },
      "source": [
        "<a href=\"https://colab.research.google.com/github/Sherbie8/CSC221_sreid009/blob/main/Assignment_5.ipynb\" target=\"_parent\"><img src=\"https://colab.research.google.com/assets/colab-badge.svg\" alt=\"Open In Colab\"/></a>"
      ]
    },
    {
      "cell_type": "code",
      "execution_count": null,
      "metadata": {
        "id": "9_YeAKNGrl8S"
      },
      "outputs": [],
      "source": [
        "#looping through a list\n",
        "numbers = [8, 343, 4]\n",
        "\n",
        "\n",
        "for number in numbers:\n",
        "  print(number)\n",
        "#prints each number in the list\n",
        "\n",
        "  print(f\"yes, {number} is my favorite number\")\n",
        "#writes a message about each number\n",
        "\n",
        "#Regarding indentation and colon errors, I didnt think it was necessary to write code for those mistakes\n"
      ]
    },
    {
      "cell_type": "code",
      "source": [
        "#looping through another list\n",
        "pizzas = [\"pinnaple\", \"mushroom\", \"cheese\"]\n",
        "\n",
        "for pizza in pizzas:\n",
        "  print(f\"{(pizza.title())} pizza is great.\")\n",
        "print(\"I love pizza!\")\n",
        "\n"
      ],
      "metadata": {
        "id": "j1BN2X8SxTjj"
      },
      "execution_count": null,
      "outputs": []
    },
    {
      "cell_type": "code",
      "source": [
        "#looping through more lists\n",
        "animals = [\"guinea pig\", \"hamster\", \"rabbit\"]\n",
        "\n",
        "for animal in animals:\n",
        "  print(animal)\n",
        "\n",
        "  print(f\"{animal.title()}s are adorable.\")\n",
        "\n",
        "print(\"Each of these animals are low mantinence to have and make great pets!\")"
      ],
      "metadata": {
        "id": "K9I1tVPW07-N"
      },
      "execution_count": null,
      "outputs": []
    },
    {
      "cell_type": "code",
      "source": [
        "numbers = list(range(1, 11))\n",
        "print(numbers)"
      ],
      "metadata": {
        "colab": {
          "base_uri": "https://localhost:8080/"
        },
        "id": "wG1CELUN2o2h",
        "outputId": "a9308beb-b1bc-47db-e0c6-fdf6fc6756f2"
      },
      "execution_count": 20,
      "outputs": [
        {
          "output_type": "stream",
          "name": "stdout",
          "text": [
            "[1, 2, 3, 4, 5, 6, 7, 8, 9, 10]\n"
          ]
        }
      ]
    },
    {
      "cell_type": "code",
      "source": [
        "#appends the squares of numbers 1-10 to a list\n",
        "squares = []\n",
        "\n",
        "for value in range(1, 11):\n",
        "  square = value**2\n",
        "  squares.append(square)\n",
        "print(squares)\n",
        "\n",
        "\n"
      ],
      "metadata": {
        "colab": {
          "base_uri": "https://localhost:8080/"
        },
        "id": "YzUHWhiU3-VJ",
        "outputId": "55707eb5-f515-4018-d2f5-cc08132335eb"
      },
      "execution_count": 26,
      "outputs": [
        {
          "output_type": "stream",
          "name": "stdout",
          "text": [
            "[1, 4, 9, 16, 25, 36, 49, 64, 81, 100]\n"
          ]
        }
      ]
    },
    {
      "cell_type": "code",
      "source": [
        "squares = [value**2 for value in range(1,11)]\n",
        "print(squares)\n",
        "#does the same as previous method in less lines of code"
      ],
      "metadata": {
        "colab": {
          "base_uri": "https://localhost:8080/"
        },
        "id": "zD3bFWy86Co0",
        "outputId": "459b7165-5cd6-4589-ddc0-f34262ee5902"
      },
      "execution_count": 28,
      "outputs": [
        {
          "output_type": "stream",
          "name": "stdout",
          "text": [
            "[1, 4, 9, 16, 25, 36, 49, 64, 81, 100]\n"
          ]
        }
      ]
    },
    {
      "cell_type": "code",
      "source": [
        "#prints numbers in range 1 to 20\n",
        "numbers = list(range(1,21))\n",
        "print(numbers)\n",
        "\n"
      ],
      "metadata": {
        "colab": {
          "base_uri": "https://localhost:8080/"
        },
        "id": "mtcnl08Z6Ppa",
        "outputId": "ddde0bc5-47c6-4fbb-ff64-e1e6f897c62b"
      },
      "execution_count": 30,
      "outputs": [
        {
          "output_type": "stream",
          "name": "stdout",
          "text": [
            "[1, 2, 3, 4, 5, 6, 7, 8, 9, 10, 11, 12, 13, 14, 15, 16, 17, 18, 19, 20]\n"
          ]
        }
      ]
    },
    {
      "cell_type": "code",
      "source": [
        "numbers = list(range(1,1_000_001))\n",
        "\n",
        "for number in numbers:\n",
        "  print(number)\n",
        "#prints numbers from 1 to 1,000,000\n",
        "sum(numbers)"
      ],
      "metadata": {
        "id": "aph675kl7Cij"
      },
      "execution_count": null,
      "outputs": []
    },
    {
      "cell_type": "code",
      "source": [
        "#prints odd numbers between 1 and 20\n",
        "numbers = list(range(1, 20, 2))\n",
        "print(numbers)"
      ],
      "metadata": {
        "colab": {
          "base_uri": "https://localhost:8080/"
        },
        "id": "VhvcKLmD--HG",
        "outputId": "3799b6cd-de80-4051-b5cd-5d17c5dd4729"
      },
      "execution_count": 50,
      "outputs": [
        {
          "output_type": "stream",
          "name": "stdout",
          "text": [
            "[1, 3, 5, 7, 9, 11, 13, 15, 17, 19]\n"
          ]
        }
      ]
    },
    {
      "cell_type": "code",
      "source": [
        "#prints the multiples of 3 between 3 and 30\n",
        "multiples = []\n",
        "\n",
        "for value in range(3, 31, 3):\n",
        "  multiples.append(value)\n",
        "print(multiples)\n",
        "\n",
        "\n"
      ],
      "metadata": {
        "colab": {
          "base_uri": "https://localhost:8080/"
        },
        "id": "zQ2LzdZMD-CA",
        "outputId": "727d25ad-17b1-4ad0-ee21-9b9ae41f1e66"
      },
      "execution_count": 53,
      "outputs": [
        {
          "output_type": "stream",
          "name": "stdout",
          "text": [
            "[3, 6, 9, 12, 15, 18, 21, 24, 27, 30]\n"
          ]
        }
      ]
    },
    {
      "cell_type": "code",
      "source": [
        "#prints a list of the squares between 1 and 10\n",
        "squares = list(range(1,11))\n",
        "\n",
        "for square in squares:\n",
        "  print(square**2)\n",
        "\n",
        "\n"
      ],
      "metadata": {
        "id": "PHIKGEFZFPus"
      },
      "execution_count": null,
      "outputs": []
    },
    {
      "cell_type": "code",
      "source": [
        "#list comprehension of previous cell\n",
        "squares = [square**2 for square in range(1,11)]\n",
        "print(squares)"
      ],
      "metadata": {
        "colab": {
          "base_uri": "https://localhost:8080/"
        },
        "id": "BO8S_K6hGSy1",
        "outputId": "9338aa03-51d4-4f0f-ac41-15e72bfff51b"
      },
      "execution_count": 61,
      "outputs": [
        {
          "output_type": "stream",
          "name": "stdout",
          "text": [
            "[1, 4, 9, 16, 25, 36, 49, 64, 81, 100]\n"
          ]
        }
      ]
    },
    {
      "cell_type": "code",
      "source": [
        "#slicing\n",
        "classes = [\"programming\", \"calculus\", \"physics\", \"art\"]\n",
        "\n",
        "print(classes[0:3])\n",
        "\n",
        "print(classes[-2:])\n"
      ],
      "metadata": {
        "colab": {
          "base_uri": "https://localhost:8080/"
        },
        "id": "s0a566iGJCjj",
        "outputId": "635d14ac-6e0f-4548-ed82-59de8a2d3a40"
      },
      "execution_count": 67,
      "outputs": [
        {
          "output_type": "stream",
          "name": "stdout",
          "text": [
            "['programming', 'calculus', 'physics']\n",
            "['physics', 'art']\n"
          ]
        }
      ]
    },
    {
      "cell_type": "code",
      "source": [
        "#slicing in a for loop\n",
        "classes = [\"programming\", \"calculus\", \"physics\", \"art\"]\n",
        "\n",
        "print(\"Here are my classes this semester:\\n\")\n",
        "\n",
        "for class_ in classes[0:4]:\n",
        "  print(class_.title())"
      ],
      "metadata": {
        "colab": {
          "base_uri": "https://localhost:8080/"
        },
        "id": "vRRZc2zXMfEV",
        "outputId": "c4b6db40-3847-4da4-9a07-4ad1747d2994"
      },
      "execution_count": 71,
      "outputs": [
        {
          "output_type": "stream",
          "name": "stdout",
          "text": [
            "Here are my classes this semester:\n",
            "\n",
            "Programming\n",
            "Calculus\n",
            "Physics\n",
            "Art\n"
          ]
        }
      ]
    },
    {
      "cell_type": "code",
      "source": [
        "#copying lists\n",
        "classes = [\"programming\", \"calculus\", \"physics\", \"art\"]\n",
        "friends_classes = classes[:]\n",
        "\n",
        "print(\"Here are my classes this semester:\\n\")\n",
        "print(classes)\n",
        "\n",
        "print(\"My freinds classes are:\\n\")\n",
        "print(friends_classes)\n"
      ],
      "metadata": {
        "colab": {
          "base_uri": "https://localhost:8080/"
        },
        "id": "Da2P5Xq6NLJN",
        "outputId": "43d9716f-b595-43f0-9459-2b3e93790c38"
      },
      "execution_count": 1,
      "outputs": [
        {
          "output_type": "stream",
          "name": "stdout",
          "text": [
            "Here are my classes this semester:\n",
            "\n",
            "['programming', 'calculus', 'physics', 'art']\n",
            "My freinds classes are:\n",
            "\n",
            "['programming', 'calculus', 'physics', 'art']\n"
          ]
        }
      ]
    },
    {
      "cell_type": "code",
      "source": [
        "#slicing exercises\n",
        "classes = [\"programming\", \"calculus\", \"physics\", \"art\", \"psychology\"]\n",
        "print(\"The first 3 classes in the list are:\")\n",
        "print(f\"{classes[0:3]}\\n\")\n",
        "\n",
        "print(\"The 3 middle classes are:\")\n",
        "print(f\"{classes[1:4]}\\n\")\n",
        "\n",
        "print(\"The last 3 classes are:\")\n",
        "print(classes[-3:])\n",
        "\n",
        "\n"
      ],
      "metadata": {
        "id": "3fVJfETb0J6W"
      },
      "execution_count": null,
      "outputs": []
    },
    {
      "cell_type": "code",
      "source": [
        "#looping through two lists\n",
        "pizzas = [\"pinnaple\", \"mushroom\", \"cheese\", \"sausage\"]\n",
        "friends_pizzas = [\"pinnaple\", \"mushroom\", \"cheese\", \"pepperoni\"]\n",
        "print(\"My favorite pizzas are:\\n\")\n",
        "for pizza in pizzas:\n",
        "  print(f\"{(pizza.title())} pizza\")\n",
        "\n",
        "print(\"\\nMy friends favorite pizzas are:\\n\")\n",
        "\n",
        "for pizza in friends_pizzas:\n",
        "  print(f\"{pizza.title()} pizza\")"
      ],
      "metadata": {
        "id": "aIOhpA9J2nbs"
      },
      "execution_count": null,
      "outputs": []
    },
    {
      "cell_type": "code",
      "source": [
        "#Tuple exercises\n",
        "buffet_foods = (\"oxtail\", \"rice & peas\", \"curry chicken\", \"mac & cheese\", \"rasta pasta\")\n",
        "\n",
        "print(\"Original list:\\n\")\n",
        "for food in buffet_foods:\n",
        "  print(food)\n",
        "\n",
        "buffet_foods =  (\"oxtail\", \"rice & peas\", \"curry chicken\", \"mac & cheese\", \"red snapper\")\n",
        "print(\"Modified list:\\n\")\n",
        "for food in buffet_foods:\n",
        "  print(food)\n",
        "\n",
        "\n",
        "#     <3\n",
        "\n"
      ],
      "metadata": {
        "colab": {
          "base_uri": "https://localhost:8080/"
        },
        "id": "XdbCQGTH6ZIS",
        "outputId": "133a00ba-112d-4768-b899-248685a72140"
      },
      "execution_count": 21,
      "outputs": [
        {
          "output_type": "stream",
          "name": "stdout",
          "text": [
            "Original list:\n",
            "\n",
            "oxtail\n",
            "rice & peas\n",
            "curry chicken\n",
            "mac & cheese\n",
            "rasta pasta\n",
            "Modified list:\n",
            "\n",
            "oxtail\n",
            "rice & peas\n",
            "curry chicken\n",
            "mac & cheese\n",
            "red snapper\n"
          ]
        }
      ]
    },
    {
      "cell_type": "code",
      "source": [
        "#Factorial example\n",
        "\n",
        "numbers = []\n",
        "\n",
        "def factorial(x):\n",
        "  if x == 1:\n",
        "    return 1\n",
        "\n",
        "  else:\n",
        "    return (x * factorial(x-1))\n",
        "\n",
        "num = int(input(\"what is your number?: \"))\n",
        "\n",
        "result = factorial(num)\n",
        "\n",
        "numbers.append(result)\n",
        "print(numbers)\n",
        "\n",
        "#I have no clue how to make this a list comprehension"
      ],
      "metadata": {
        "colab": {
          "base_uri": "https://localhost:8080/"
        },
        "id": "_75QSRuRA8KZ",
        "outputId": "7b274e49-41f7-4be9-f31d-25cf67675735"
      },
      "execution_count": 1,
      "outputs": [
        {
          "output_type": "stream",
          "name": "stdout",
          "text": [
            "what is your number?: 5\n",
            "[120]\n"
          ]
        }
      ]
    }
  ]
}