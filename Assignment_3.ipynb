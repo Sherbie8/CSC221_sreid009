{
  "nbformat": 4,
  "nbformat_minor": 0,
  "metadata": {
    "colab": {
      "provenance": [],
      "authorship_tag": "ABX9TyPAVSXE5vWksy23qlOFOu+2",
      "include_colab_link": true
    },
    "kernelspec": {
      "name": "python3",
      "display_name": "Python 3"
    },
    "language_info": {
      "name": "python"
    }
  },
  "cells": [
    {
      "cell_type": "markdown",
      "metadata": {
        "id": "view-in-github",
        "colab_type": "text"
      },
      "source": [
        "<a href=\"https://colab.research.google.com/github/Sherbie8/CSC221_sreid009/blob/main/Assignment_3.ipynb\" target=\"_parent\"><img src=\"https://colab.research.google.com/assets/colab-badge.svg\" alt=\"Open In Colab\"/></a>"
      ]
    },
    {
      "cell_type": "code",
      "source": [
        "#a simple message test\n",
        "\n",
        "message = \"samuel reid\"\n",
        "print(message.title()) #prints the variable in title case\n",
        "\n",
        "first_name = \"samuel\"\n",
        "\n",
        "last_name = \"reid\"\n",
        "\n",
        "full_name = f\"{first_name} {last_name}\"\n",
        "\n",
        "message = (f\"Hello, {full_name.title()}!\")\n",
        "\n",
        "print(full_name)\n",
        "\n",
        "print(message)    #prints my first and last name in title case\n",
        "\n",
        "\n",
        "print(\"\\npython\\nC\\nJava\") # This adds a space in the terminal to make it easier to read\n",
        "\n",
        "message_2 = (f\"Welcome  to the game, {full_name.title()}...enjoy your stay!\")\n",
        "\n",
        "print(message_2)"
      ],
      "metadata": {
        "colab": {
          "base_uri": "https://localhost:8080/"
        },
        "id": "DFikqWJWcYua",
        "outputId": "8de445a7-edb4-47a7-d193-5ccff4973910"
      },
      "execution_count": 13,
      "outputs": [
        {
          "output_type": "stream",
          "name": "stdout",
          "text": [
            "Samuel Reid\n",
            "Hello, Samuel Reid!\n",
            "samuel reid\n",
            "\n",
            "python\n",
            "C\n",
            "Java\n",
            "Welcome  to the game, Samuel Reid...enjoy your stay!\n"
          ]
        }
      ]
    },
    {
      "cell_type": "code",
      "source": [
        "#apostophes and syntax\n",
        "\n",
        "message = \"I'll do my absolute best to pass this class, failure isn't an option.\"\n",
        "#print(message)\n",
        "\n",
        "message_2 = 'And he said to me,\"do what you can\".'\n",
        "\n",
        "full_message = f\"{message}\\n\\n{message_2}\"\n",
        "print(full_message)\n",
        "\n",
        "\n",
        "#syntax_error = 'I didn't mean it, I shouldn't have done that'      #Python doesnt know where the string begins and ends\n",
        "\n",
        "#correct_syntax = \"I didn't mean it, I shouldn't have done that\"     # Use apostrophes after quotation to fix it"
      ],
      "metadata": {
        "colab": {
          "base_uri": "https://localhost:8080/"
        },
        "id": "HaSnW4jzbwrk",
        "outputId": "d3ec1919-a7bb-475a-cef4-dff933bf13ca"
      },
      "execution_count": 12,
      "outputs": [
        {
          "output_type": "stream",
          "name": "stdout",
          "text": [
            "I'll do my absolute best to pass this class, failure isn't an option.\n",
            "\n",
            "And he said to me,\"do what you can\".\n"
          ]
        }
      ]
    },
    {
      "cell_type": "code",
      "execution_count": null,
      "metadata": {
        "id": "xWNkOI8rXQYU"
      },
      "outputs": [],
      "source": [
        "#Exercise_1/ prints a message addressed to a person\n",
        "\n",
        "host = \"Me\"\n",
        "message = \"never forget personal discipline, keep grinding!\"\n",
        "print(f\"Hey {host.lower()}, {message}\")"
      ]
    },
    {
      "cell_type": "code",
      "source": [
        "#Exercise 2/ prints a name in lowercase, uppercase, and title case\n",
        "\n",
        "name = \"Samuel\"\n",
        "print(name.lower())\n",
        "print(name.upper())\n",
        "print(name.title())"
      ],
      "metadata": {
        "id": "4iVKEyO6af8u"
      },
      "execution_count": null,
      "outputs": []
    },
    {
      "cell_type": "code",
      "source": [
        "#Exercise 3/ prints a famous persons quote with whitespaces included\n",
        "\n",
        "famous_person = \"Barack Obama\"\n",
        "famous_quote = \"Change will not come if we wait for some other person or some other time. We are the ones we've been waiting for. We are the change that we seek.\"\n",
        "print(f\"\\t{famous_quote}\\n-{famous_person}\")"
      ],
      "metadata": {
        "id": "uqNJIxobbCph"
      },
      "execution_count": null,
      "outputs": []
    },
    {
      "cell_type": "code",
      "source": [
        "#Exercise 4/ prints a file name without the specified suffix\n",
        "\n",
        "filename = \"python_notes.txt\"\n",
        "print(filename.removesuffix(\".txt\"))\n",
        "\n",
        "#Note to professor Lecky - This was pretty fun :)"
      ],
      "metadata": {
        "id": "jvkuX6WZbSAE"
      },
      "execution_count": null,
      "outputs": []
    }
  ]
}