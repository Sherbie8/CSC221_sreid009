{
  "nbformat": 4,
  "nbformat_minor": 0,
  "metadata": {
    "colab": {
      "provenance": [],
      "authorship_tag": "ABX9TyOs1wNxbkPuL6KxuvNYiR99",
      "include_colab_link": true
    },
    "kernelspec": {
      "name": "python3",
      "display_name": "Python 3"
    },
    "language_info": {
      "name": "python"
    }
  },
  "cells": [
    {
      "cell_type": "markdown",
      "metadata": {
        "id": "view-in-github",
        "colab_type": "text"
      },
      "source": [
        "<a href=\"https://colab.research.google.com/github/Sherbie8/CSC221_sreid009/blob/main/Assignment_26_28(FINAL).ipynb\" target=\"_parent\"><img src=\"https://colab.research.google.com/assets/colab-badge.svg\" alt=\"Open In Colab\"/></a>"
      ]
    },
    {
      "cell_type": "code",
      "execution_count": null,
      "metadata": {
        "id": "m7JcVQ1O3oe-"
      },
      "outputs": [],
      "source": [
        "#Samuel Reid        #Intro to Programming CSC221A"
      ]
    },
    {
      "cell_type": "code",
      "source": [
        "#(Cell 1) Demonstrates an int, float, and string using isinstance from our previous assignment\n",
        "def int_and_string(a,b):\n",
        "\n",
        "  if isinstance(a, (str)):\n",
        "    b = str(b)\n",
        "  elif isinstance(a, (int, float)):\n",
        "    b = float(b)\n",
        "  else:\n",
        "    return b\n",
        "\n",
        "  if isinstance(b, (str)):\n",
        "    a = str(a)\n",
        "  elif isinstance(b, (int, float)):\n",
        "    a = float(a)\n",
        "  else:\n",
        "      return a\n",
        "  return a + b\n",
        "\n",
        "print(\"This is a float: \", int_and_string(3,5))\n",
        "print(int_and_string(\"This is a string: \", \"Thirty\"))\n",
        "print(int_and_string(\"'This is a string with integer': \", 123))"
      ],
      "metadata": {
        "colab": {
          "base_uri": "https://localhost:8080/"
        },
        "id": "lsBjIWUV4AnG",
        "outputId": "f2c0afe3-a275-40fb-d22b-0020344eee97"
      },
      "execution_count": 12,
      "outputs": [
        {
          "output_type": "stream",
          "name": "stdout",
          "text": [
            "This is a float:  8.0\n",
            "This is a string: Thirty\n",
            "'This is a string with integer': 123\n"
          ]
        }
      ]
    },
    {
      "cell_type": "code",
      "source": [
        "#(Cell 2) Shows an example of the f-string\n",
        "f = \"format\"\n",
        "\n",
        "print(f\"This is how you {f} a string.\")"
      ],
      "metadata": {
        "colab": {
          "base_uri": "https://localhost:8080/"
        },
        "id": "rBaD7AqK8LE_",
        "outputId": "3ee41b7b-cd25-4eee-f758-29b9c3053a97"
      },
      "execution_count": 16,
      "outputs": [
        {
          "output_type": "stream",
          "name": "stdout",
          "text": [
            "This is how you format a string.\n"
          ]
        }
      ]
    },
    {
      "cell_type": "code",
      "source": [
        "#(Cell 3) Demonstrates some methods of the string class\n",
        "string_methods = \"<---You can modify strings with these methods.\\n\"\n",
        "\n",
        "print(f\"upper.()\\t{string_methods.upper()}\")\n",
        "print(f\"lower.()\\t{string_methods.lower()}\")\n",
        "print(f\"split.()\\t{string_methods.split()}\")\n",
        "\n",
        "print(\"\\nAnd many more...\")\n"
      ],
      "metadata": {
        "colab": {
          "base_uri": "https://localhost:8080/"
        },
        "id": "ey__QE4y9id8",
        "outputId": "75f66f13-31b0-4e01-8a85-f038bb2ff3c0"
      },
      "execution_count": 30,
      "outputs": [
        {
          "output_type": "stream",
          "name": "stdout",
          "text": [
            "upper.()\t<---YOU CAN MODIFY STRINGS WITH THESE METHODS.\n",
            "\n",
            "lower.()\t<---you can modify strings with these methods.\n",
            "\n",
            "split.()\t['<---You', 'can', 'modify', 'strings', 'with', 'these', 'methods.']\n",
            "\n",
            "And many more...\n"
          ]
        }
      ]
    },
    {
      "cell_type": "code",
      "source": [
        "#(Cell 4) Something with a list\n",
        "\n",
        "nums = [1,2,3,4,5]\n",
        "\n",
        "for i in nums:\n",
        "  print(i)\n",
        "#Prints all numbers in the list"
      ],
      "metadata": {
        "colab": {
          "base_uri": "https://localhost:8080/"
        },
        "id": "CN2bbtnSBLcR",
        "outputId": "f6499b54-d198-4d5c-d846-73bf14372e83"
      },
      "execution_count": 31,
      "outputs": [
        {
          "output_type": "stream",
          "name": "stdout",
          "text": [
            "1\n",
            "2\n",
            "3\n",
            "4\n",
            "5\n"
          ]
        }
      ]
    },
    {
      "cell_type": "code",
      "source": [
        "#(Cell 5) Something with lists in a list\n",
        "\n",
        "lists = [[1,2,3], [4,5,6]]\n",
        "\n",
        "new_list = [7,8,9]     #Adds a new sublist\n",
        "lists.append(new_list)\n",
        "print(f\"New Lists:\\n{lists}\")\n",
        "\n",
        "sums = [sum(sublist) for sublist in lists]    #Sums all numbers in each sublist\n",
        "print(f\"\\nSums of each sublist:\\n{sums}\")"
      ],
      "metadata": {
        "colab": {
          "base_uri": "https://localhost:8080/"
        },
        "id": "buuqgrfZCGH_",
        "outputId": "cfdd7015-ff6a-452f-b30a-d8d1900105bb"
      },
      "execution_count": 41,
      "outputs": [
        {
          "output_type": "stream",
          "name": "stdout",
          "text": [
            "New Lists:\n",
            "[[1, 2, 3], [4, 5, 6], [7, 8, 9]]\n",
            "\n",
            "Sums of each sublist:\n",
            "[6, 15, 24]\n"
          ]
        }
      ]
    },
    {
      "cell_type": "code",
      "source": [
        "#(Cell 6) Sorts a list without changing it\n",
        "\n",
        "nums = [221, 2023, 12, 10, 8, 2002, 7]\n",
        "\n",
        "print(f\"Original list:\\n{nums}\")\n",
        "\n",
        "sorted_nums = sorted(nums)\n",
        "print(f\"\\nSorted List:\\n{sorted_nums}\")\n",
        "\n",
        "print(f\"\\nOriginal list remains the same:\\n{nums}\")"
      ],
      "metadata": {
        "colab": {
          "base_uri": "https://localhost:8080/"
        },
        "id": "bpTemOjsGEqE",
        "outputId": "d8b7596b-41fe-4f40-c070-8049adfbde98"
      },
      "execution_count": 51,
      "outputs": [
        {
          "output_type": "stream",
          "name": "stdout",
          "text": [
            "Original list:\n",
            "[221, 2023, 12, 10, 8, 2002, 7]\n",
            "\n",
            "Sorted List:\n",
            "[7, 8, 10, 12, 221, 2002, 2023]\n",
            "\n",
            "Original list remains the same:\n",
            "[221, 2023, 12, 10, 8, 2002, 7]\n"
          ]
        }
      ]
    },
    {
      "cell_type": "code",
      "source": [
        "#(Cell 7) Prints numbers using for and range\n",
        "\n",
        "for i in range(1,11):\n",
        "  print(i)"
      ],
      "metadata": {
        "colab": {
          "base_uri": "https://localhost:8080/"
        },
        "id": "5iQUPEXRHXoo",
        "outputId": "8faf4a2b-ea1f-4867-8d92-a8e5a9d1878d"
      },
      "execution_count": 55,
      "outputs": [
        {
          "output_type": "stream",
          "name": "stdout",
          "text": [
            "1\n",
            "2\n",
            "3\n",
            "4\n",
            "5\n",
            "6\n",
            "7\n",
            "8\n",
            "9\n",
            "10\n"
          ]
        }
      ]
    },
    {
      "cell_type": "code",
      "source": [
        "#(Cell 8) List comprehension of squares(1,1000) that arent multiples of 7\n",
        "\n",
        "squares = [x**2 for x in range(1, 1001) if x % 7 !=0]\n",
        "print(f\"Squares that aren't multiples of 7:\\n{squares}\")"
      ],
      "metadata": {
        "colab": {
          "base_uri": "https://localhost:8080/"
        },
        "id": "sGbd6F2WIOy8",
        "outputId": "f098d454-304a-4a3e-95d8-a66dd1431baf"
      },
      "execution_count": 57,
      "outputs": [
        {
          "output_type": "stream",
          "name": "stdout",
          "text": [
            "Squares that aren't multiples of 7:\n",
            "[1, 4, 9, 16, 25, 36, 64, 81, 100, 121, 144, 169, 225, 256, 289, 324, 361, 400, 484, 529, 576, 625, 676, 729, 841, 900, 961, 1024, 1089, 1156, 1296, 1369, 1444, 1521, 1600, 1681, 1849, 1936, 2025, 2116, 2209, 2304, 2500, 2601, 2704, 2809, 2916, 3025, 3249, 3364, 3481, 3600, 3721, 3844, 4096, 4225, 4356, 4489, 4624, 4761, 5041, 5184, 5329, 5476, 5625, 5776, 6084, 6241, 6400, 6561, 6724, 6889, 7225, 7396, 7569, 7744, 7921, 8100, 8464, 8649, 8836, 9025, 9216, 9409, 9801, 10000, 10201, 10404, 10609, 10816, 11236, 11449, 11664, 11881, 12100, 12321, 12769, 12996, 13225, 13456, 13689, 13924, 14400, 14641, 14884, 15129, 15376, 15625, 16129, 16384, 16641, 16900, 17161, 17424, 17956, 18225, 18496, 18769, 19044, 19321, 19881, 20164, 20449, 20736, 21025, 21316, 21904, 22201, 22500, 22801, 23104, 23409, 24025, 24336, 24649, 24964, 25281, 25600, 26244, 26569, 26896, 27225, 27556, 27889, 28561, 28900, 29241, 29584, 29929, 30276, 30976, 31329, 31684, 32041, 32400, 32761, 33489, 33856, 34225, 34596, 34969, 35344, 36100, 36481, 36864, 37249, 37636, 38025, 38809, 39204, 39601, 40000, 40401, 40804, 41616, 42025, 42436, 42849, 43264, 43681, 44521, 44944, 45369, 45796, 46225, 46656, 47524, 47961, 48400, 48841, 49284, 49729, 50625, 51076, 51529, 51984, 52441, 52900, 53824, 54289, 54756, 55225, 55696, 56169, 57121, 57600, 58081, 58564, 59049, 59536, 60516, 61009, 61504, 62001, 62500, 63001, 64009, 64516, 65025, 65536, 66049, 66564, 67600, 68121, 68644, 69169, 69696, 70225, 71289, 71824, 72361, 72900, 73441, 73984, 75076, 75625, 76176, 76729, 77284, 77841, 78961, 79524, 80089, 80656, 81225, 81796, 82944, 83521, 84100, 84681, 85264, 85849, 87025, 87616, 88209, 88804, 89401, 90000, 91204, 91809, 92416, 93025, 93636, 94249, 95481, 96100, 96721, 97344, 97969, 98596, 99856, 100489, 101124, 101761, 102400, 103041, 104329, 104976, 105625, 106276, 106929, 107584, 108900, 109561, 110224, 110889, 111556, 112225, 113569, 114244, 114921, 115600, 116281, 116964, 118336, 119025, 119716, 120409, 121104, 121801, 123201, 123904, 124609, 125316, 126025, 126736, 128164, 128881, 129600, 130321, 131044, 131769, 133225, 133956, 134689, 135424, 136161, 136900, 138384, 139129, 139876, 140625, 141376, 142129, 143641, 144400, 145161, 145924, 146689, 147456, 148996, 149769, 150544, 151321, 152100, 152881, 154449, 155236, 156025, 156816, 157609, 158404, 160000, 160801, 161604, 162409, 163216, 164025, 165649, 166464, 167281, 168100, 168921, 169744, 171396, 172225, 173056, 173889, 174724, 175561, 177241, 178084, 178929, 179776, 180625, 181476, 183184, 184041, 184900, 185761, 186624, 187489, 189225, 190096, 190969, 191844, 192721, 193600, 195364, 196249, 197136, 198025, 198916, 199809, 201601, 202500, 203401, 204304, 205209, 206116, 207936, 208849, 209764, 210681, 211600, 212521, 214369, 215296, 216225, 217156, 218089, 219024, 220900, 221841, 222784, 223729, 224676, 225625, 227529, 228484, 229441, 230400, 231361, 232324, 234256, 235225, 236196, 237169, 238144, 239121, 241081, 242064, 243049, 244036, 245025, 246016, 248004, 249001, 250000, 251001, 252004, 253009, 255025, 256036, 257049, 258064, 259081, 260100, 262144, 263169, 264196, 265225, 266256, 267289, 269361, 270400, 271441, 272484, 273529, 274576, 276676, 277729, 278784, 279841, 280900, 281961, 284089, 285156, 286225, 287296, 288369, 289444, 291600, 292681, 293764, 294849, 295936, 297025, 299209, 300304, 301401, 302500, 303601, 304704, 306916, 308025, 309136, 310249, 311364, 312481, 314721, 315844, 316969, 318096, 319225, 320356, 322624, 323761, 324900, 326041, 327184, 328329, 330625, 331776, 332929, 334084, 335241, 336400, 338724, 339889, 341056, 342225, 343396, 344569, 346921, 348100, 349281, 350464, 351649, 352836, 355216, 356409, 357604, 358801, 360000, 361201, 363609, 364816, 366025, 367236, 368449, 369664, 372100, 373321, 374544, 375769, 376996, 378225, 380689, 381924, 383161, 384400, 385641, 386884, 389376, 390625, 391876, 393129, 394384, 395641, 398161, 399424, 400689, 401956, 403225, 404496, 407044, 408321, 409600, 410881, 412164, 413449, 416025, 417316, 418609, 419904, 421201, 422500, 425104, 426409, 427716, 429025, 430336, 431649, 434281, 435600, 436921, 438244, 439569, 440896, 443556, 444889, 446224, 447561, 448900, 450241, 452929, 454276, 455625, 456976, 458329, 459684, 462400, 463761, 465124, 466489, 467856, 469225, 471969, 473344, 474721, 476100, 477481, 478864, 481636, 483025, 484416, 485809, 487204, 488601, 491401, 492804, 494209, 495616, 497025, 498436, 501264, 502681, 504100, 505521, 506944, 508369, 511225, 512656, 514089, 515524, 516961, 518400, 521284, 522729, 524176, 525625, 527076, 528529, 531441, 532900, 534361, 535824, 537289, 538756, 541696, 543169, 544644, 546121, 547600, 549081, 552049, 553536, 555025, 556516, 558009, 559504, 562500, 564001, 565504, 567009, 568516, 570025, 573049, 574564, 576081, 577600, 579121, 580644, 583696, 585225, 586756, 588289, 589824, 591361, 594441, 595984, 597529, 599076, 600625, 602176, 605284, 606841, 608400, 609961, 611524, 613089, 616225, 617796, 619369, 620944, 622521, 624100, 627264, 628849, 630436, 632025, 633616, 635209, 638401, 640000, 641601, 643204, 644809, 646416, 649636, 651249, 652864, 654481, 656100, 657721, 660969, 662596, 664225, 665856, 667489, 669124, 672400, 674041, 675684, 677329, 678976, 680625, 683929, 685584, 687241, 688900, 690561, 692224, 695556, 697225, 698896, 700569, 702244, 703921, 707281, 708964, 710649, 712336, 714025, 715716, 719104, 720801, 722500, 724201, 725904, 727609, 731025, 732736, 734449, 736164, 737881, 739600, 743044, 744769, 746496, 748225, 749956, 751689, 755161, 756900, 758641, 760384, 762129, 763876, 767376, 769129, 770884, 772641, 774400, 776161, 779689, 781456, 783225, 784996, 786769, 788544, 792100, 793881, 795664, 797449, 799236, 801025, 804609, 806404, 808201, 810000, 811801, 813604, 817216, 819025, 820836, 822649, 824464, 826281, 829921, 831744, 833569, 835396, 837225, 839056, 842724, 844561, 846400, 848241, 850084, 851929, 855625, 857476, 859329, 861184, 863041, 864900, 868624, 870489, 872356, 874225, 876096, 877969, 881721, 883600, 885481, 887364, 889249, 891136, 894916, 896809, 898704, 900601, 902500, 904401, 908209, 910116, 912025, 913936, 915849, 917764, 921600, 923521, 925444, 927369, 929296, 931225, 935089, 937024, 938961, 940900, 942841, 944784, 948676, 950625, 952576, 954529, 956484, 958441, 962361, 964324, 966289, 968256, 970225, 972196, 976144, 978121, 980100, 982081, 984064, 986049, 990025, 992016, 994009, 996004, 998001, 1000000]\n"
          ]
        }
      ]
    },
    {
      "cell_type": "code",
      "source": [
        "#(Cell 9) All prime numbers from 2 to 1000 using the sieve of eratosthenes (done with chatgpt)\n",
        "\n",
        "def sieve_of_eratosthenes(limit):\n",
        "    primes = []\n",
        "    is_prime = [True] * (limit + 1)\n",
        "\n",
        "    for num in range(2, int(limit**0.5) + 1):\n",
        "        if is_prime[num]:\n",
        "            primes.append(num)\n",
        "            for multiple in range(num**2, limit + 1, num):\n",
        "                is_prime[multiple] = False\n",
        "\n",
        "    for num in range(int(limit**0.5) + 1, limit + 1):\n",
        "        if is_prime[num]:\n",
        "            primes.append(num)\n",
        "\n",
        "    return primes\n",
        "\n",
        "# Generate prime numbers from 2 to 1000\n",
        "prime_numbers = sieve_of_eratosthenes(1000)\n",
        "\n",
        "print(prime_numbers)\n"
      ],
      "metadata": {
        "colab": {
          "base_uri": "https://localhost:8080/"
        },
        "id": "ldIKqxTwJORU",
        "outputId": "533f8707-a79d-4314-ddd1-06a6dd6dc46d"
      },
      "execution_count": 4,
      "outputs": [
        {
          "output_type": "stream",
          "name": "stdout",
          "text": [
            "[2, 3, 5, 7, 11, 13, 17, 19, 23, 29, 31, 37, 41, 43, 47, 53, 59, 61, 67, 71, 73, 79, 83, 89, 97, 101, 103, 107, 109, 113, 127, 131, 137, 139, 149, 151, 157, 163, 167, 173, 179, 181, 191, 193, 197, 199, 211, 223, 227, 229, 233, 239, 241, 251, 257, 263, 269, 271, 277, 281, 283, 293, 307, 311, 313, 317, 331, 337, 347, 349, 353, 359, 367, 373, 379, 383, 389, 397, 401, 409, 419, 421, 431, 433, 439, 443, 449, 457, 461, 463, 467, 479, 487, 491, 499, 503, 509, 521, 523, 541, 547, 557, 563, 569, 571, 577, 587, 593, 599, 601, 607, 613, 617, 619, 631, 641, 643, 647, 653, 659, 661, 673, 677, 683, 691, 701, 709, 719, 727, 733, 739, 743, 751, 757, 761, 769, 773, 787, 797, 809, 811, 821, 823, 827, 829, 839, 853, 857, 859, 863, 877, 881, 883, 887, 907, 911, 919, 929, 937, 941, 947, 953, 967, 971, 977, 983, 991, 997]\n"
          ]
        }
      ]
    },
    {
      "cell_type": "code",
      "source": [
        "#(Cell 10) Generator for n numbers of previous function\n",
        "\n",
        "for x in sieve_of_eratosthenes(10):\n",
        "  print(x)\n"
      ],
      "metadata": {
        "colab": {
          "base_uri": "https://localhost:8080/"
        },
        "id": "V9BcPzjuLGwy",
        "outputId": "3e28f998-83f9-4ce5-9fd5-00c7ccda2ccd"
      },
      "execution_count": 6,
      "outputs": [
        {
          "output_type": "stream",
          "name": "stdout",
          "text": [
            "2\n",
            "3\n",
            "5\n",
            "7\n"
          ]
        }
      ]
    },
    {
      "cell_type": "code",
      "source": [
        "#(Cell 11) Generates 1000 random integers in a list (random.randint(...)) and prints their min, max, sum, and average.\n",
        "import random\n",
        "\n",
        "num_list = [random.randint(1, 1001) for i in range(1001)]\n",
        "\n",
        "min = min(num_list)\n",
        "max = max(num_list)\n",
        "total = sum(num_list)\n",
        "average = (total / len(num_list))\n",
        "\n",
        "print(f\"Minimum value:\\n{min}\")\n",
        "print(f\"Maximum value:\\n{max}\")\n",
        "print(f\"Sum:\\n{total}\")\n",
        "print(f\"Average:\\n{average}\")\n",
        "\n",
        "#I am not sure why but this code doens't run on colab but its works fine on VS code.\n",
        "\n",
        "#Edit: I fixed the problem, I had named the sum after the build-in function which caused the issue, it's now called total.\n",
        "#Still strange to me that it worked on VS code without issue."
      ],
      "metadata": {
        "colab": {
          "base_uri": "https://localhost:8080/"
        },
        "id": "8jAI4uVAMlCy",
        "outputId": "5e80619f-aef4-426f-8db4-1d3b06f7091d"
      },
      "execution_count": 1,
      "outputs": [
        {
          "output_type": "stream",
          "name": "stdout",
          "text": [
            "Minimum value:\n",
            "1\n",
            "Maximum value:\n",
            "1001\n",
            "Sum:\n",
            "513846\n",
            "Average:\n",
            "513.3326673326674\n"
          ]
        }
      ]
    },
    {
      "cell_type": "code",
      "source": [
        "#(Cell 12) Number guessing game using if, elif, else\n",
        "\n",
        "import random\n",
        "\n",
        "print(\"Here are the rules! I'm thinking of a number between 1 and 10, try to guess it. You get 3 guesses!\")\n",
        "\n",
        "correctNumber = random.randint(1,10)\n",
        "timer = 1\n",
        "\n",
        "keepLooping = True\n",
        "\n",
        "while keepLooping ==True and timer != 4:            #Keeps looping until correct or user guesses 3 times\n",
        "\n",
        "    number = input((\"\\nWhat's your number? \"))\n",
        "    number = int(number)\n",
        "\n",
        "    if (number==correctNumber):         #Prints correct if the user guesses the number\n",
        "        print(\"Correct!\")\n",
        "        keepLooping = False\n",
        "\n",
        "    elif (timer == 3):\n",
        "        print(\"Wrong, you are out of guesses!\")    #Tells the user they are out of guesses after 3 chances\n",
        "\n",
        "        keepLooping = False\n",
        "\n",
        "    elif (number>correctNumber):            #Tells the user if their guess is too high\n",
        "        timer += 1\n",
        "        print(\"Wrong, too high!\")\n",
        "\n",
        "    elif (number<correctNumber):        #Tells the user if their guess is too low\n",
        "        timer += 1\n",
        "        print(\"Wrong, too low!\")\n",
        "    else:\n",
        "      raise ValueError('Error')\n",
        "\n",
        "###Code that I made from the lab class with professor Morales. (I have more advanced versions than this)"
      ],
      "metadata": {
        "colab": {
          "base_uri": "https://localhost:8080/"
        },
        "id": "MQjkZqnBURZh",
        "outputId": "d9998d78-4f7b-482d-d531-52f1298ec90a"
      },
      "execution_count": 3,
      "outputs": [
        {
          "output_type": "stream",
          "name": "stdout",
          "text": [
            "Here are the rules! I'm thinking of a number between 1 and 10, try to guess it. You get 3 guesses!\n",
            "\n",
            "What's your number? 2\n",
            "Wrong, too low!\n",
            "\n",
            "What's your number? 6\n",
            "Wrong, too low!\n",
            "\n",
            "What's your number? 8\n",
            "Wrong, you are out of guesses!\n"
          ]
        }
      ]
    },
    {
      "cell_type": "code",
      "source": [
        "#(Cell 13) PEP-8 rules that surprised me!\n",
        "\n",
        "# Arguments on first line forbidden when not using vertical alignment.\n",
        "#Lines should break before a binary operator.\n",
        "#Inline comments shouln't be used for obvious code, as they can be distracting..."
      ],
      "metadata": {
        "id": "NIC549-6ukwf"
      },
      "execution_count": null,
      "outputs": []
    },
    {
      "cell_type": "code",
      "source": [
        "#(Cell 14) Creates a file called testfile that contains pet types and names.\n",
        "\n",
        "%%writefile testfile.txt\n",
        "Amy, cat\n",
        "Fred, dog\n",
        "Hunter, dog\n",
        "Peena, parakeet\n",
        "Rover, dog"
      ],
      "metadata": {
        "colab": {
          "base_uri": "https://localhost:8080/"
        },
        "id": "0NN03kQbz8wy",
        "outputId": "63ea5e6e-f950-400d-bc5c-9b9e828768af"
      },
      "execution_count": 1,
      "outputs": [
        {
          "output_type": "stream",
          "name": "stdout",
          "text": [
            "Writing testfile.txt\n"
          ]
        }
      ]
    },
    {
      "cell_type": "code",
      "source": [
        "#(Cell 15) Reads the previous file and creates a dictionary with the contents\n",
        "\n",
        "with open('testfile.txt', 'r') as file:\n",
        "    file_content = file.readlines()\n",
        "\n",
        "# Creates the dictionary\n",
        "dict_of_pets = {}\n",
        "for line in file_content:\n",
        "    name, pet_type = line.strip().split(', ')\n",
        "    dict_of_pets[name] = pet_type\n",
        "\n",
        "pet_name = 'Rover'\n",
        "\n",
        "if pet_name in dict_of_pets:\n",
        "    print(f\"{pet_name}'s pet type is: {dict_of_pets[pet_name]}\")\n",
        "else:\n",
        "    print(f\"{pet_name} not found in the dictionary.\")\n",
        "\n",
        "#Prints the pet type of Rover\n"
      ],
      "metadata": {
        "colab": {
          "base_uri": "https://localhost:8080/"
        },
        "id": "kA81XHZnGuYL",
        "outputId": "dd194d4f-b86c-4cdd-f859-db1ba3204be9"
      },
      "execution_count": 8,
      "outputs": [
        {
          "output_type": "stream",
          "name": "stdout",
          "text": [
            "Rover's pet type is: dog\n"
          ]
        }
      ]
    },
    {
      "cell_type": "code",
      "source": [
        "#(Cell 16) Prints a list of the unique pet types\n",
        "unique_pet_types = set(dict_of_pets.values())\n",
        "\n",
        "print(\"Unique Pet Types:\", list(unique_pet_types))"
      ],
      "metadata": {
        "colab": {
          "base_uri": "https://localhost:8080/"
        },
        "id": "2ODumXJdHhDa",
        "outputId": "b52ff8f8-4faa-4e68-f036-e996880baa14"
      },
      "execution_count": 9,
      "outputs": [
        {
          "output_type": "stream",
          "name": "stdout",
          "text": [
            "Unique Pet Types: ['parakeet', 'dog', 'cat']\n"
          ]
        }
      ]
    },
    {
      "cell_type": "code",
      "source": [
        "#(Cell 17) Use a while loop to print the numbers from 80 down to 16 by 8. (Without for or range)\n",
        "\n",
        "number = 80\n",
        "while number >= 16:\n",
        "    print(number)\n",
        "    number -= 8"
      ],
      "metadata": {
        "colab": {
          "base_uri": "https://localhost:8080/"
        },
        "id": "ZfzDkHB4J4dp",
        "outputId": "6f7d7bf4-d689-4192-ee4e-8fb3d04dbd30"
      },
      "execution_count": 10,
      "outputs": [
        {
          "output_type": "stream",
          "name": "stdout",
          "text": [
            "80\n",
            "72\n",
            "64\n",
            "56\n",
            "48\n",
            "40\n",
            "32\n",
            "24\n",
            "16\n"
          ]
        }
      ]
    },
    {
      "cell_type": "code",
      "source": [
        "#(Cell 18) A function that takes three numbers and returns their min, max, and sum as a tuple.\n",
        "def mini_maxi_sumi(a, b, c):\n",
        "    minimum = min(a, b, c)\n",
        "    maximum = max(a, b, c)\n",
        "    sum = a + b + c\n",
        "    return (minimum, maximum, sum)\n",
        "\n",
        "a = 2023\n",
        "b = 221\n",
        "c = 1214\n",
        "\n",
        "result = mini_maxi_sumi(a, b, c)\n",
        "print(f\"Numbers: {a}, {b}, {c}\")\n",
        "print(\"Result (min, max, sum):\", result)\n"
      ],
      "metadata": {
        "colab": {
          "base_uri": "https://localhost:8080/"
        },
        "id": "vjl9iO57KmmB",
        "outputId": "16c7dbce-389d-4e24-c035-18c91f26bd32"
      },
      "execution_count": 16,
      "outputs": [
        {
          "output_type": "stream",
          "name": "stdout",
          "text": [
            "Numbers: 2023, 221, 1214\n",
            "Result (min, max, sum): (221, 2023, 3458)\n"
          ]
        }
      ]
    },
    {
      "cell_type": "code",
      "source": [],
      "metadata": {
        "id": "CccbDhFJHnpU"
      },
      "execution_count": null,
      "outputs": []
    },
    {
      "cell_type": "code",
      "source": [
        "#(Cell 19) A function that takes any number of numbers and returns their min, max, and sum as a tuple.\n",
        "def mini_maxi_sumi(*n):\n",
        "    minimum = min(n)\n",
        "    maximum = max(n)\n",
        "    total = sum(n)\n",
        "    return (minimum, maximum, total)\n",
        "\n",
        "num = (2023, 221, 1214, 1200, 2002)\n",
        "\n",
        "result = mini_maxi_sumi(*num)\n",
        "\n",
        "print(f\"Numbers: {num}\")\n",
        "print(\"Result (min, max, sum):\", result)"
      ],
      "metadata": {
        "colab": {
          "base_uri": "https://localhost:8080/"
        },
        "id": "I008g4NkLoe8",
        "outputId": "750cf4b4-fd73-4380-9a56-1e2814c90588"
      },
      "execution_count": 27,
      "outputs": [
        {
          "output_type": "stream",
          "name": "stdout",
          "text": [
            "Numbers: (2023, 221, 1214, 1200, 2002)\n",
            "Result (min, max, sum): (221, 2023, 6660)\n"
          ]
        }
      ]
    },
    {
      "cell_type": "code",
      "source": [
        "#(Cell 20) A decorator called traceroo that prints messages showing how the function above executes.\n",
        "\n",
        "def traceroo(func):\n",
        "    def wrapper(*args, **kwargs):\n",
        "        print(f\"Executing function {func.__name__} with arguments: {args}\")\n",
        "        result = func(*args, **kwargs)\n",
        "        print(f\"Function {func.__name__} executed. Result: {result}\")\n",
        "        return result\n",
        "    return wrapper\n",
        "\n",
        "# Applying the decorator to the min_max_sum function\n",
        "@traceroo\n",
        "def min_max_sum(*args):\n",
        "\n",
        "    minimum = min(args)\n",
        "    maximum = max(args)\n",
        "    total_sum = sum(args)\n",
        "\n",
        "    return (minimum, maximum, total_sum)\n",
        "\n",
        "# Example usage:\n",
        "numbers = (15, 8, 22, 10, 5)\n",
        "\n",
        "result = min_max_sum(*numbers)\n",
        "print(f\"Numbers: {numbers}\")\n",
        "print(\"Result (min, max, sum):\", result)\n",
        "\n",
        "#Full transparency, I used chatgpt for the decorator as I'm still confused on how to do this one even after reading the textbook"
      ],
      "metadata": {
        "colab": {
          "base_uri": "https://localhost:8080/"
        },
        "id": "O3O3y6uCPag1",
        "outputId": "2df0d559-cd10-438e-aca0-df616ce5237d"
      },
      "execution_count": 1,
      "outputs": [
        {
          "output_type": "stream",
          "name": "stdout",
          "text": [
            "Executing function min_max_sum with arguments: (15, 8, 22, 10, 5)\n",
            "Function min_max_sum executed. Result: (5, 22, 60)\n",
            "Numbers: (15, 8, 22, 10, 5)\n",
            "Result (min, max, sum): (5, 22, 60)\n"
          ]
        }
      ]
    },
    {
      "cell_type": "code",
      "source": [
        "#A game using __init__, __repr__, __str__, and __add__ to display scores of players\n",
        "\n",
        "class Game:\n",
        "    def __init__(self, name, level, score):\n",
        "        self.name = name\n",
        "        self.level = level\n",
        "        self.score = score\n",
        "\n",
        "    def __repr__(self):\n",
        "        return f\"Game(name='{self.name}', level={self.level}, score={self.score})\"\n",
        "\n",
        "    def __str__(self):\n",
        "        return f\"Player: {self.name}, Level: {self.level}, Score: {self.score}\"\n",
        "\n",
        "    def __add__(self, other):\n",
        "        if isinstance(other, Game):\n",
        "            return Game(self.name, max(self.level, other.level), self.score + other.score)\n",
        "        else:\n",
        "            raise TypeError(\"Unsupported operand type. Must be an instance of Game.\")\n",
        "\n",
        "#Object instances of the Game class\n",
        "player1 = Game(\"Samuel\", 5, 500)\n",
        "player2 = Game(\"Reid\", 7, 231)\n",
        "\n",
        "print(f\"__repr__: {repr(player1)}\")\n",
        "print(f\"__str__: {str(player1)}\")\n",
        "combined_player = player1 + player2\n",
        "\n",
        "print(f\"__add__: {player1} + {player2} = {combined_player}\")\n",
        "\n",
        "#I had fun with this one, a great way to try out all the __methods__ I learned"
      ],
      "metadata": {
        "colab": {
          "base_uri": "https://localhost:8080/"
        },
        "id": "NYneE5KLH3Sc",
        "outputId": "5ce3aada-1ad9-4fa4-b064-ea5792ac7223"
      },
      "execution_count": 5,
      "outputs": [
        {
          "output_type": "stream",
          "name": "stdout",
          "text": [
            "__repr__: Game(name='Samuel', level=5, score=500)\n",
            "__str__: Player: Samuel, Level: 5, Score: 500\n",
            "__add__: Player: Samuel, Level: 5, Score: 500 + Player: Reid, Level: 7, Score: 231 = Player: Samuel, Level: 7, Score: 731\n"
          ]
        }
      ]
    },
    {
      "cell_type": "code",
      "source": [
        "#(Cell 22 Part 1) #Creating a file with pi digits\n",
        "%%writefile pi_digits.txt\n",
        "\n",
        "3.1415926535\n",
        "8979323846\n",
        "2643383279"
      ],
      "metadata": {
        "colab": {
          "base_uri": "https://localhost:8080/"
        },
        "id": "0DmmwhSxQWBJ",
        "outputId": "1c0ab344-a25e-4c40-9d81-a442e70c7bcd"
      },
      "execution_count": 12,
      "outputs": [
        {
          "output_type": "stream",
          "name": "stdout",
          "text": [
            "Overwriting pi_digits.txt\n"
          ]
        }
      ]
    },
    {
      "cell_type": "code",
      "source": [
        "#(Cell 22) Is your birthday in the first mil digits of pi?\n",
        "from pathlib import Path\n",
        "\n",
        "path = Path('pi_digits.txt')\n",
        "contents = path.read_text()\n",
        "\n",
        "lines = contents.splitlines()\n",
        "pi_string = ''\n",
        "\n",
        "for line in lines:\n",
        "  pi_string += line.lstrip()\n",
        "\n",
        "print(pi_string)\n",
        "print(len(pi_string))\n",
        "\n",
        "birthday = input(\"Enter your birthday, in the form mmddyy:\")\n",
        "\n",
        "if birthday in pi_string:\n",
        "  print(\"Your birthday appears in the first million digits of pi!\")\n",
        "\n",
        "else:\n",
        "  print(\"Your birthday does not appear in the first million digits of pi.\")\n",
        "\n",
        "#I'm able to do this but I cant figure out how to import a text file to colab,\n",
        "#my goal was to read a txt file with the first million digits in said file but the methods I tried didnt work.\n",
        "#I could fill a cell with all one million digits but that would be excessive...(haha)"
      ],
      "metadata": {
        "colab": {
          "base_uri": "https://localhost:8080/"
        },
        "id": "0vtjOpHJRpAf",
        "outputId": "d51ef40c-a906-4faa-84e0-d489b1ab7ef3"
      },
      "execution_count": 37,
      "outputs": [
        {
          "output_type": "stream",
          "name": "stdout",
          "text": [
            "3.141592653589793238462643383279\n",
            "32\n",
            "Enter your birthday, in the form mmddyy:10072002\n",
            "Your birthday does not appear in the first million digits of pi.\n"
          ]
        }
      ]
    }
  ]
}