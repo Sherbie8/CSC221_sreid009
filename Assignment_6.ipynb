{
  "nbformat": 4,
  "nbformat_minor": 0,
  "metadata": {
    "colab": {
      "provenance": [],
      "authorship_tag": "ABX9TyOst3pqbHxhXbVQiYUzuhAL",
      "include_colab_link": true
    },
    "kernelspec": {
      "name": "python3",
      "display_name": "Python 3"
    },
    "language_info": {
      "name": "python"
    }
  },
  "cells": [
    {
      "cell_type": "markdown",
      "metadata": {
        "id": "view-in-github",
        "colab_type": "text"
      },
      "source": [
        "<a href=\"https://colab.research.google.com/github/Sherbie8/CSC221_sreid009/blob/main/Assignment_6.ipynb\" target=\"_parent\"><img src=\"https://colab.research.google.com/assets/colab-badge.svg\" alt=\"Open In Colab\"/></a>"
      ]
    },
    {
      "cell_type": "code",
      "execution_count": 4,
      "metadata": {
        "colab": {
          "base_uri": "https://localhost:8080/"
        },
        "id": "f5k_J9aw5Be5",
        "outputId": "00e6ca71-d0db-46bd-d239-2e9bd5437c5f"
      },
      "outputs": [
        {
          "output_type": "stream",
          "name": "stdout",
          "text": [
            "Audi\n",
            "BMW\n",
            "Toyota\n",
            "Subaru\n"
          ]
        }
      ],
      "source": [
        "#Conditionals\n",
        "\n",
        "cars = [\"audi\", \"bmw\", \"toyota\", \"subaru\"]\n",
        "\n",
        "for car in cars:\n",
        "\n",
        "  if car == \"bmw\":\n",
        "    print(car.upper())\n",
        "\n",
        "  else:\n",
        "    print(car.title())"
      ]
    },
    {
      "cell_type": "code",
      "source": [
        "# if statements\n",
        "\n",
        "requested_topping = \"mushrooms\"\n",
        "\n",
        "if requested_topping != \"anchovies\":\n",
        "\n",
        "  print(\"Hold the anchovies!\")\n"
      ],
      "metadata": {
        "colab": {
          "base_uri": "https://localhost:8080/"
        },
        "id": "Nemq4aZ75-1R",
        "outputId": "1f15382a-8229-4b2f-d737-2c7420c689a0"
      },
      "execution_count": 6,
      "outputs": [
        {
          "output_type": "stream",
          "name": "stdout",
          "text": [
            "Hold the anchovies!\n"
          ]
        }
      ]
    },
    {
      "cell_type": "code",
      "source": [
        "#booleans\n",
        "\n",
        "requested_topping = [\"mushrooms\", \"onions\", \"pineapple\"]\n",
        "\n",
        "\"mushrooms\" in requested_topping\n",
        "\n",
        "\"pepperoni\" in requested_topping"
      ],
      "metadata": {
        "colab": {
          "base_uri": "https://localhost:8080/"
        },
        "id": "5JN7n3BdAjHo",
        "outputId": "d4ae270f-261d-4b36-aa23-84cd094a42f9"
      },
      "execution_count": 10,
      "outputs": [
        {
          "output_type": "execute_result",
          "data": {
            "text/plain": [
              "False"
            ]
          },
          "metadata": {},
          "execution_count": 10
        }
      ]
    },
    {
      "cell_type": "code",
      "source": [
        "#uses for, if, and else in a program\n",
        "\n",
        "games = [\"apex legends\", \"destiny\"]\n",
        "\n",
        "for game in games:\n",
        "\n",
        "  if game == \"apex legends\":\n",
        "\n",
        "    print(\"Apex is a game of self torture! Play at your own risk.\")\n",
        "  else:\n",
        "\n",
        "    print(\"If its not apex then you've already won.\")"
      ],
      "metadata": {
        "colab": {
          "base_uri": "https://localhost:8080/"
        },
        "id": "MCNn-aLdC38q",
        "outputId": "c7beae24-8755-4b85-8b26-412c0ace1d47"
      },
      "execution_count": 17,
      "outputs": [
        {
          "output_type": "stream",
          "name": "stdout",
          "text": [
            "Apex is a game of self torture! Play at your own risk.\n",
            "If its not apex then you've already won.\n"
          ]
        }
      ]
    },
    {
      "cell_type": "code",
      "source": [
        "#one assigns a value to variable, the other checks if the value is the same\n",
        "\n",
        "food = \"pizza\"\n",
        "food == \"pizza\""
      ],
      "metadata": {
        "colab": {
          "base_uri": "https://localhost:8080/"
        },
        "id": "U1AOyFn-R3i2",
        "outputId": "0f7b9b29-af46-45ea-e518-66fd2f80e863"
      },
      "execution_count": 19,
      "outputs": [
        {
          "output_type": "execute_result",
          "data": {
            "text/plain": [
              "True"
            ]
          },
          "metadata": {},
          "execution_count": 19
        }
      ]
    },
    {
      "cell_type": "code",
      "source": [
        "# More if, elif statements\n",
        "\n",
        "age = 12\n",
        "\n",
        "if age < 4:\n",
        "  price = 0\n",
        "\n",
        "elif age < 18:\n",
        "  price = 25\n",
        "\n",
        "elif age < 65:\n",
        "  price = 40\n",
        "\n",
        "else:\n",
        "  price = 20\n",
        "\n",
        "print(f\"Your amission cost is ${price}.\")"
      ],
      "metadata": {
        "colab": {
          "base_uri": "https://localhost:8080/"
        },
        "id": "u3obceOMSCg6",
        "outputId": "7845f853-209c-4663-d31f-a0752d28bc3e"
      },
      "execution_count": 23,
      "outputs": [
        {
          "output_type": "stream",
          "name": "stdout",
          "text": [
            "Your amission cost is $25.\n"
          ]
        }
      ]
    },
    {
      "cell_type": "code",
      "source": [
        "#Exercise 5-3\n",
        "\n",
        "alien_color = 'green'\n",
        "\n",
        "if alien_color == 'green':\n",
        "\n",
        "  print(\"Player + 5 points\")\n",
        "\n",
        "else:\n",
        "  pass"
      ],
      "metadata": {
        "colab": {
          "base_uri": "https://localhost:8080/"
        },
        "id": "BNSICi5YTFas",
        "outputId": "3f3c04c5-2f60-4e76-d39e-2a4078ea8d98"
      },
      "execution_count": 25,
      "outputs": [
        {
          "output_type": "stream",
          "name": "stdout",
          "text": [
            "Player + 5 points\n"
          ]
        }
      ]
    },
    {
      "cell_type": "code",
      "source": [
        " #Exercise 5-5\n",
        "\n",
        "  alien_color = \"red\"\n",
        "\n",
        "  if alien_color == \"green\":\n",
        "    print(\"Player + 5 points\")\n",
        "\n",
        "  elif alien_color == \"yellow\":\n",
        "    print(\"Player + 10 points\")\n",
        "\n",
        "  elif alien_color == \"red\":\n",
        "    print(\"Player + 15 points\")\n",
        "\n",
        "  else:\n",
        "    pass"
      ],
      "metadata": {
        "colab": {
          "base_uri": "https://localhost:8080/"
        },
        "id": "x6KxckL4XpLH",
        "outputId": "4a90e5a4-1721-43b0-ec12-d88be945da38"
      },
      "execution_count": 32,
      "outputs": [
        {
          "output_type": "stream",
          "name": "stdout",
          "text": [
            "Player + 15 points\n"
          ]
        }
      ]
    },
    {
      "cell_type": "code",
      "source": [
        "#Exercise 5-6\n",
        "\n",
        "age = 67\n",
        "if age <= 2:\n",
        "  print(\"You are an infant. Why are you reading this?\")\n",
        "\n",
        "elif age >= 2 and age <= 4:\n",
        "  print(\"You are still a toddler.\")\n",
        "\n",
        "elif age >= 4 and age <= 13:\n",
        "  print(\"You are just a kid.\")\n",
        "\n",
        "elif age >= 13 and age <= 20:\n",
        "  print(\"You are a teenager.\")\n",
        "\n",
        "elif age >= 20 and age <= 65:\n",
        "  print(\"You are old enough.\")\n",
        "\n",
        "else:\n",
        "  print(\"You are ancient.\")\n"
      ],
      "metadata": {
        "colab": {
          "base_uri": "https://localhost:8080/"
        },
        "id": "cbNHTwhyYk7C",
        "outputId": "a61ee653-480c-4a7c-87c9-74ad8dddb1e4"
      },
      "execution_count": 44,
      "outputs": [
        {
          "output_type": "stream",
          "name": "stdout",
          "text": [
            "You are ancient.\n"
          ]
        }
      ]
    },
    {
      "cell_type": "code",
      "source": [
        "#Exercise 5-7\n",
        "\n",
        "favorite_fruits = [\"mango\", \"strawberry\", \"apple\"]\n",
        "\n",
        "for fruit in favorite_fruits:\n",
        "\n",
        "  if fruit == \"mango\":\n",
        "    print(\"I love mango's!\")\n",
        "\n",
        "  elif fruit == \"strawberry\":\n",
        "    print(\"I love strawberrys!\")\n",
        "\n",
        "  elif fruit == \"apple\":\n",
        "    print(\"I love apples!\")\n"
      ],
      "metadata": {
        "colab": {
          "base_uri": "https://localhost:8080/"
        },
        "id": "te_YTc4GfNsh",
        "outputId": "80084688-ff98-4bc8-898d-4caefbbe8dda"
      },
      "execution_count": 49,
      "outputs": [
        {
          "output_type": "stream",
          "name": "stdout",
          "text": [
            "I love mango's!\n",
            "I love strawberrys!\n",
            "I love apples!\n"
          ]
        }
      ]
    },
    {
      "cell_type": "code",
      "source": [
        "#Exercise 5-8\n",
        "\n",
        "users = [\"admin\", \"samuel\", \"peter\", \"bryan\", \"allen\"]\n",
        "\n",
        "for user in users:\n",
        "\n",
        "  if user == \"admin\":\n",
        "    print(\"Hello Admin, ould you like a status report?\\n\")\n",
        "\n",
        "  else:\n",
        "    print(f\"Hello, {user.title()}! Welcome back.\\n\")"
      ],
      "metadata": {
        "colab": {
          "base_uri": "https://localhost:8080/"
        },
        "id": "j-Bcwzp3hBqG",
        "outputId": "63c58231-30cd-4543-bf55-a02e180d84ed"
      },
      "execution_count": 63,
      "outputs": [
        {
          "output_type": "stream",
          "name": "stdout",
          "text": [
            "Hello Admin, ould you like a status report?\n",
            "\n",
            "Hello, Samuel! Welcome back.\n",
            "\n",
            "Hello, Peter! Welcome back.\n",
            "\n",
            "Hello, Bryan! Welcome back.\n",
            "\n",
            "Hello, Allen! Welcome back.\n",
            "\n"
          ]
        }
      ]
    },
    {
      "cell_type": "code",
      "source": [
        "#A game that takes a number 1-3 and shoots aliens based on input. The game ends when the player reaches 100 points.(Exercise 5-13)\n",
        "\n",
        "print(\"Keep shooting aliens until you reach 100 points!\")\n",
        "\n",
        "points = []\n",
        "\n",
        "total_points = 0\n",
        "\n",
        "alien_color = range(1, 3)\n",
        "\n",
        "green = 1\n",
        "yellow = 2\n",
        "red = 3\n",
        "#User input values\n",
        "\n",
        "keepLooping = True\n",
        "\n",
        "while keepLooping == True and total_points < 99:\n",
        "    #Loops while true and total points are less than 100\n",
        "\n",
        "    alien = int(input(\"Pick a number 1-3: \"))\n",
        "    #User input\n",
        "\n",
        "    if alien == 1:\n",
        "        total_points += 5\n",
        "        points.append(total_points)\n",
        "\n",
        "        print(\"You shot down a green alien!\\n\")\n",
        "        #if the alien is green(1) the user gets 5 points\n",
        "\n",
        "    elif alien == 2:\n",
        "        total_points += 10\n",
        "        points.append(total_points)\n",
        "\n",
        "        print(\"You shot down a yellow alien!\\n\")\n",
        "        #if the alien is yellow(2) the user gets 10 points\n",
        "\n",
        "    elif alien == 3:\n",
        "        total_points += 15\n",
        "        points.append(total_points)\n",
        "\n",
        "        print(\"You shot down a red alien!\\n\")\n",
        "        #if the alien is red(3) the user gets 15 points\n",
        "\n",
        "    elif alien == 0:\n",
        "            keepLooping = False\n",
        "          #Ends the loop if the user enters 0\n",
        "\n",
        "    print(f\"You have {total_points} points!\\n\")\n",
        "\n",
        "    if total_points > 99:\n",
        "        print(\"You win!\")\n",
        "      #Tells the user they win after reaching 100 points\n"
      ],
      "metadata": {
        "colab": {
          "base_uri": "https://localhost:8080/",
          "height": 520
        },
        "id": "nIeM-Mlwnsct",
        "outputId": "79725dfa-f420-46be-9961-e41c0a1051f8"
      },
      "execution_count": 2,
      "outputs": [
        {
          "output_type": "stream",
          "name": "stdout",
          "text": [
            "Keep shooting aliens until you reach 100 points!\n",
            "Pick a number 1-3: 3\n",
            "You shot down a red alien!\n",
            "\n",
            "You have 15 points!\n",
            "\n"
          ]
        },
        {
          "output_type": "error",
          "ename": "KeyboardInterrupt",
          "evalue": "ignored",
          "traceback": [
            "\u001b[0;31m---------------------------------------------------------------------------\u001b[0m",
            "\u001b[0;31mKeyboardInterrupt\u001b[0m                         Traceback (most recent call last)",
            "\u001b[0;32m<ipython-input-2-54a50fb30afe>\u001b[0m in \u001b[0;36m<cell line: 18>\u001b[0;34m()\u001b[0m\n\u001b[1;32m     19\u001b[0m     \u001b[0;31m#Loops while true and total points are less than 100\u001b[0m\u001b[0;34m\u001b[0m\u001b[0;34m\u001b[0m\u001b[0m\n\u001b[1;32m     20\u001b[0m \u001b[0;34m\u001b[0m\u001b[0m\n\u001b[0;32m---> 21\u001b[0;31m     \u001b[0malien\u001b[0m \u001b[0;34m=\u001b[0m \u001b[0mint\u001b[0m\u001b[0;34m(\u001b[0m\u001b[0minput\u001b[0m\u001b[0;34m(\u001b[0m\u001b[0;34m\"Pick a number 1-3: \"\u001b[0m\u001b[0;34m)\u001b[0m\u001b[0;34m)\u001b[0m\u001b[0;34m\u001b[0m\u001b[0;34m\u001b[0m\u001b[0m\n\u001b[0m\u001b[1;32m     22\u001b[0m     \u001b[0;31m#User input\u001b[0m\u001b[0;34m\u001b[0m\u001b[0;34m\u001b[0m\u001b[0m\n\u001b[1;32m     23\u001b[0m \u001b[0;34m\u001b[0m\u001b[0m\n",
            "\u001b[0;32m/usr/local/lib/python3.10/dist-packages/ipykernel/kernelbase.py\u001b[0m in \u001b[0;36mraw_input\u001b[0;34m(self, prompt)\u001b[0m\n\u001b[1;32m    849\u001b[0m                 \u001b[0;34m\"raw_input was called, but this frontend does not support input requests.\"\u001b[0m\u001b[0;34m\u001b[0m\u001b[0;34m\u001b[0m\u001b[0m\n\u001b[1;32m    850\u001b[0m             )\n\u001b[0;32m--> 851\u001b[0;31m         return self._input_request(str(prompt),\n\u001b[0m\u001b[1;32m    852\u001b[0m             \u001b[0mself\u001b[0m\u001b[0;34m.\u001b[0m\u001b[0m_parent_ident\u001b[0m\u001b[0;34m,\u001b[0m\u001b[0;34m\u001b[0m\u001b[0;34m\u001b[0m\u001b[0m\n\u001b[1;32m    853\u001b[0m             \u001b[0mself\u001b[0m\u001b[0;34m.\u001b[0m\u001b[0m_parent_header\u001b[0m\u001b[0;34m,\u001b[0m\u001b[0;34m\u001b[0m\u001b[0;34m\u001b[0m\u001b[0m\n",
            "\u001b[0;32m/usr/local/lib/python3.10/dist-packages/ipykernel/kernelbase.py\u001b[0m in \u001b[0;36m_input_request\u001b[0;34m(self, prompt, ident, parent, password)\u001b[0m\n\u001b[1;32m    893\u001b[0m             \u001b[0;32mexcept\u001b[0m \u001b[0mKeyboardInterrupt\u001b[0m\u001b[0;34m:\u001b[0m\u001b[0;34m\u001b[0m\u001b[0;34m\u001b[0m\u001b[0m\n\u001b[1;32m    894\u001b[0m                 \u001b[0;31m# re-raise KeyboardInterrupt, to truncate traceback\u001b[0m\u001b[0;34m\u001b[0m\u001b[0;34m\u001b[0m\u001b[0m\n\u001b[0;32m--> 895\u001b[0;31m                 \u001b[0;32mraise\u001b[0m \u001b[0mKeyboardInterrupt\u001b[0m\u001b[0;34m(\u001b[0m\u001b[0;34m\"Interrupted by user\"\u001b[0m\u001b[0;34m)\u001b[0m \u001b[0;32mfrom\u001b[0m \u001b[0;32mNone\u001b[0m\u001b[0;34m\u001b[0m\u001b[0;34m\u001b[0m\u001b[0m\n\u001b[0m\u001b[1;32m    896\u001b[0m             \u001b[0;32mexcept\u001b[0m \u001b[0mException\u001b[0m \u001b[0;32mas\u001b[0m \u001b[0me\u001b[0m\u001b[0;34m:\u001b[0m\u001b[0;34m\u001b[0m\u001b[0;34m\u001b[0m\u001b[0m\n\u001b[1;32m    897\u001b[0m                 \u001b[0mself\u001b[0m\u001b[0;34m.\u001b[0m\u001b[0mlog\u001b[0m\u001b[0;34m.\u001b[0m\u001b[0mwarning\u001b[0m\u001b[0;34m(\u001b[0m\u001b[0;34m\"Invalid Message:\"\u001b[0m\u001b[0;34m,\u001b[0m \u001b[0mexc_info\u001b[0m\u001b[0;34m=\u001b[0m\u001b[0;32mTrue\u001b[0m\u001b[0;34m)\u001b[0m\u001b[0;34m\u001b[0m\u001b[0;34m\u001b[0m\u001b[0m\n",
            "\u001b[0;31mKeyboardInterrupt\u001b[0m: Interrupted by user"
          ]
        }
      ]
    }
  ]
}