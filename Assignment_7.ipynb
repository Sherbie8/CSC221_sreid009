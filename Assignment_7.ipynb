{
  "nbformat": 4,
  "nbformat_minor": 0,
  "metadata": {
    "colab": {
      "provenance": [],
      "authorship_tag": "ABX9TyNjKpNIBjnELCoES5loNE3g",
      "include_colab_link": true
    },
    "kernelspec": {
      "name": "python3",
      "display_name": "Python 3"
    },
    "language_info": {
      "name": "python"
    }
  },
  "cells": [
    {
      "cell_type": "markdown",
      "metadata": {
        "id": "view-in-github",
        "colab_type": "text"
      },
      "source": [
        "<a href=\"https://colab.research.google.com/github/Sherbie8/CSC221_sreid009/blob/main/Assignment_7.ipynb\" target=\"_parent\"><img src=\"https://colab.research.google.com/assets/colab-badge.svg\" alt=\"Open In Colab\"/></a>"
      ]
    },
    {
      "cell_type": "code",
      "execution_count": 6,
      "metadata": {
        "colab": {
          "base_uri": "https://localhost:8080/"
        },
        "id": "bqPHvxjAwTK_",
        "outputId": "d2827507-265b-404b-cda1-a2e2e157abfe"
      },
      "outputs": [
        {
          "output_type": "stream",
          "name": "stdout",
          "text": [
            "green\n",
            "5\n",
            "You just earned 5 points!\n"
          ]
        }
      ],
      "source": [
        "# A simple dictionary\n",
        "\n",
        "alien_0 = {\"color\": \"green\", \"points\": 5}\n",
        "\n",
        "print(alien_0[\"color\"])\n",
        "print(alien_0[\"points\"])\n",
        "\n",
        "new_points = alien_0[\"points\"]\n",
        "\n",
        "print(f\"You just earned {new_points} points!\")\n",
        "\n"
      ]
    },
    {
      "cell_type": "code",
      "source": [
        "# Working with dictionaries\n",
        "\n",
        "alien_0 = {\"color\": \"green\", \"points\": 5}\n",
        "\n",
        "print(alien_0[\"color\"])\n",
        "\n",
        "alien_0[\"x_position\"] = 0\n",
        "\n",
        "alien_0[\"y_position\"] = 25\n",
        "\n",
        "print(alien_0)\n"
      ],
      "metadata": {
        "colab": {
          "base_uri": "https://localhost:8080/"
        },
        "id": "qFT4Sl2MdbsG",
        "outputId": "8c67189e-4031-4f9b-e05a-79c4d023a96f"
      },
      "execution_count": 10,
      "outputs": [
        {
          "output_type": "stream",
          "name": "stdout",
          "text": [
            "green\n",
            "{'color': 'green', 'points': 5, 'x_position': 0, 'y_position': 25}\n"
          ]
        }
      ]
    },
    {
      "cell_type": "code",
      "source": [
        "# Adding values to an empty dictionary\n",
        "\n",
        "alien_0 = {}\n",
        "\n",
        "alien_0[\"color\"] = \"green\"\n",
        "alien_0[\"points\"] = 5\n",
        "\n",
        "print(alien_0)"
      ],
      "metadata": {
        "id": "PkzNOU_3ePFU"
      },
      "execution_count": null,
      "outputs": []
    },
    {
      "cell_type": "code",
      "source": [
        "#Changing values in a dictionary\n",
        "\n",
        "alien_0 = {\"color\": \"green\"}\n",
        "\n",
        "print(f\"The alien is {alien_0['color']}.\")\n",
        "\n",
        "alien_0[\"color\"] = \"yellow\"\n",
        "\n",
        "print(f\"The alien is now {alien_0['color']}.\")"
      ],
      "metadata": {
        "colab": {
          "base_uri": "https://localhost:8080/"
        },
        "id": "gkaR3zuypGoo",
        "outputId": "85552d83-37cb-4d31-94dc-97162768c5fb"
      },
      "execution_count": 16,
      "outputs": [
        {
          "output_type": "stream",
          "name": "stdout",
          "text": [
            "The alien is green.\n",
            "The alien is now yellow.\n"
          ]
        }
      ]
    },
    {
      "cell_type": "code",
      "source": [
        "# Using if statements with a dictionary\n",
        "\n",
        "alien_0 = {\"x_position\": 0, \"y_position\": 25, \"speed\": \"medium\"}\n",
        "\n",
        "print(f\"Original position: {alien_0['x_position']}\")\n",
        "\n",
        "#Move the alien to the right.\n",
        "#Determine how far to move the alien based on its current speed.\n",
        "\n",
        "if alien_0['speed'] == 'slow':\n",
        "  x_increment = 1\n",
        "elif alien_0['speed'] == 'medium':\n",
        "  x_increment = 2\n",
        "else:\n",
        "  #That boi is fast\n",
        "  x_increment = 3\n",
        "#The new postion is the old postion plus the increment.\n",
        "\n",
        "alien_0['x_position'] = alien_0['x_position'] + x_increment\n",
        "\n",
        "print(f\"New postion: {alien_0['x_position']}\")\n",
        "\n",
        "\n",
        "\n"
      ],
      "metadata": {
        "colab": {
          "base_uri": "https://localhost:8080/"
        },
        "id": "R6sUct4zqZye",
        "outputId": "9ad284bf-3c16-4c81-c910-8c0aaefa8eb9"
      },
      "execution_count": 26,
      "outputs": [
        {
          "output_type": "stream",
          "name": "stdout",
          "text": [
            "Original position: 0\n",
            "New postion: 2\n"
          ]
        }
      ]
    },
    {
      "cell_type": "code",
      "source": [
        "# Deleting values from a dictionary\n",
        "\n",
        "alien_0 = {\"color\": \"green\", \"points\": 5}\n",
        "\n",
        "print(alien_0)\n",
        "\n",
        "del alien_0['points']\n",
        "print(alien_0)"
      ],
      "metadata": {
        "colab": {
          "base_uri": "https://localhost:8080/"
        },
        "id": "mJGB5NQvu0qk",
        "outputId": "0bda7458-f314-47ce-f65a-eda462669a96"
      },
      "execution_count": 29,
      "outputs": [
        {
          "output_type": "stream",
          "name": "stdout",
          "text": [
            "{'color': 'green', 'points': 5}\n",
            "{'color': 'green'}\n"
          ]
        }
      ]
    },
    {
      "cell_type": "code",
      "source": [
        "#Exerccise 6-1\n",
        "\n",
        "mom = {\"name\": \"Vermaline\", \"height\": \"5'5\", \"hair\": \"medium\", \"age\": 46, \"city\": \"New York\"}\n",
        "\n",
        "print(mom[\"name\"])\n",
        "print(mom[\"height\"])\n",
        "print(f\"{mom['hair']} hair\")\n",
        "print(mom[\"age\"])\n",
        "print(mom[\"city\"])\n",
        "\n"
      ],
      "metadata": {
        "colab": {
          "base_uri": "https://localhost:8080/"
        },
        "id": "YNiKNdwHvnta",
        "outputId": "70b0e5ea-e84b-492d-ae49-51e69b073664"
      },
      "execution_count": 56,
      "outputs": [
        {
          "output_type": "stream",
          "name": "stdout",
          "text": [
            "Vermaline\n",
            "5'5\n",
            "medium hair\n",
            "46\n",
            "New York\n"
          ]
        }
      ]
    },
    {
      "cell_type": "code",
      "source": [
        "#Exercise 6-2\n",
        "\n",
        "favorite_numbers = {'Samuel': 8, 'Vermaline': 7, 'Peter': 4, 'Bryan': 9, 'Ulises': 5 }\n",
        "\n",
        "for key, value in favorite_numbers.items():\n",
        "  print(f\"\\nName: {key}\")\n",
        "  print(f\"Favorite number: {value}\")\n"
      ],
      "metadata": {
        "colab": {
          "base_uri": "https://localhost:8080/"
        },
        "id": "_t5PIqoDOzAZ",
        "outputId": "39fbb5f4-b0a6-42cd-a262-e8cb024b0be5"
      },
      "execution_count": 4,
      "outputs": [
        {
          "output_type": "stream",
          "name": "stdout",
          "text": [
            "\n",
            "Name: Samuel\n",
            "Favorite number: 8\n",
            "\n",
            "Name: Vermaline\n",
            "Favorite number: 7\n",
            "\n",
            "Name: Peter\n",
            "Favorite number: 4\n",
            "\n",
            "Name: Bryan\n",
            "Favorite number: 9\n",
            "\n",
            "Name: Ulises\n",
            "Favorite number: 5\n"
          ]
        }
      ]
    },
    {
      "cell_type": "code",
      "source": [
        "#Exercise 6-3\n",
        "\n",
        "glossary = {'append':\n",
        "            \"add something as an attachment or supplement\",\n",
        "            'delete':\n",
        "            \"to remove or obliterate\",\n",
        "            'insert':\n",
        "            \"place, or fit(something) into another thing\"\n",
        "            , 'reverse':\n",
        "            \"move backward or opposite of previous\"\n",
        "            , 'sort':\n",
        "            \"arrange systematically in groups\"}\n",
        "\n",
        "print(f\"Append - {glossary['append']}.\\n\")\n",
        "print(f\"Delete - {glossary['delete']}.\\n\")\n",
        "print(f\"Insert - {glossary['insert']}.\\n\")\n",
        "print(f\"Reverse - {glossary['reverse']}.\\n\")\n",
        "print(f\"Sort - {glossary['sort']}.\\n\")\n",
        "\n",
        "\n"
      ],
      "metadata": {
        "colab": {
          "base_uri": "https://localhost:8080/"
        },
        "id": "X7sp5gpigxgR",
        "outputId": "673b3723-f3eb-4233-f882-50129ecf02bc"
      },
      "execution_count": 68,
      "outputs": [
        {
          "output_type": "stream",
          "name": "stdout",
          "text": [
            "Append - add something as an attachment or supplement.\n",
            "\n",
            "Delete - to remove or obliterate.\n",
            "\n",
            "Insert - place, or fit(something) into another thing.\n",
            "\n",
            "Reverse - move backward or opposite of previous.\n",
            "\n",
            "Sort - arrange systematically in groups.\n",
            "\n"
          ]
        }
      ]
    },
    {
      "cell_type": "code",
      "source": [
        "#looping through all key-value pairs\n",
        "\n",
        "user_0 = {\n",
        "    'username': 'efermi',\n",
        "    'first': 'enrico',\n",
        "    'last': 'fermi'\n",
        "}\n",
        "\n",
        "for key, value in user_0.items():\n",
        "  print(f\"\\nKey: {key}\")\n",
        "  print(f\"Value: {value}\")"
      ],
      "metadata": {
        "colab": {
          "base_uri": "https://localhost:8080/"
        },
        "id": "WIuwWCQhk1_s",
        "outputId": "df3dabcc-c547-4039-a70c-e03ed5291665"
      },
      "execution_count": 5,
      "outputs": [
        {
          "output_type": "stream",
          "name": "stdout",
          "text": [
            "\n",
            "Key: username\n",
            "Value: efermi\n",
            "\n",
            "Key: first\n",
            "Value: enrico\n",
            "\n",
            "Key: last\n",
            "Value: fermi\n"
          ]
        }
      ]
    },
    {
      "cell_type": "code",
      "source": [
        "#looping through all the keys in a dictionary\n",
        "\n",
        "favorite_languages = {\n",
        "    'jen': 'python'\n",
        "    , 'sarah': 'c'\n",
        "    ,'edward': 'rust'\n",
        "    , 'phil': 'python'\n",
        "\n",
        "}\n",
        "\n",
        "friends = ['phil', 'sarah']\n",
        "for name in favorite_languages.keys():\n",
        "  print(f\"Hi {name.title()}.\")\n",
        "\n",
        "if name in friends:\n",
        "    language = favorite_languages[name].title()\n",
        "print(f\"\\t{name.title()}, I see you love {language}!\")\n",
        "\n",
        "for name, language in favorite_languages.items():\n",
        "  print(f\"{name.title()}'s favorite language is {language.title()}.\")"
      ],
      "metadata": {
        "colab": {
          "base_uri": "https://localhost:8080/"
        },
        "id": "X-LFpV5IlcEA",
        "outputId": "8568300f-bc13-4943-9c6f-0ad5ab2645ec"
      },
      "execution_count": 14,
      "outputs": [
        {
          "output_type": "stream",
          "name": "stdout",
          "text": [
            "Hi Jen.\n",
            "Hi Sarah.\n",
            "Hi Edward.\n",
            "Hi Phil.\n",
            "\tPhil, I see you love Python!\n",
            "Jen's favorite language is Python.\n",
            "Sarah's favorite language is C.\n",
            "Edward's favorite language is Rust.\n",
            "Phil's favorite language is Python.\n"
          ]
        }
      ]
    },
    {
      "cell_type": "code",
      "source": [
        "#Exercise 6-4\n",
        "\n",
        "glossary = {'append':\n",
        "            \"add something as an attachment or supplement\",\n",
        "            'delete':\n",
        "            \"to remove or obliterate\",\n",
        "            'insert':\n",
        "            \"place, or fit(something) into another thing\"\n",
        "            , 'reverse':\n",
        "            \"move backward or opposite of previous\"\n",
        "            , 'sort':\n",
        "            \"arrange systematically in groups\"}\n",
        "\n",
        "\n",
        "glossary['compute'] = 'calculate or reckon(a figure or amount)'\n",
        "\n",
        "glossary['language'] = 'a system of communication'\n",
        "\n",
        "glossary['program'] = 'a series of coded software instructions'\n",
        "\n",
        "\n",
        "for key, value in glossary.items():\n",
        "      print(f\"\\nWord: {key.title()}\")\n",
        "      print(f\"Meaning: {value}\")"
      ],
      "metadata": {
        "colab": {
          "base_uri": "https://localhost:8080/"
        },
        "id": "9OJtN9dewNha",
        "outputId": "04b2da65-973e-40e3-b871-9447a4a0b34e"
      },
      "execution_count": 27,
      "outputs": [
        {
          "output_type": "stream",
          "name": "stdout",
          "text": [
            "\n",
            "Word: Append\n",
            "Meaning: add something as an attachment or supplement\n",
            "\n",
            "Word: Delete\n",
            "Meaning: to remove or obliterate\n",
            "\n",
            "Word: Insert\n",
            "Meaning: place, or fit(something) into another thing\n",
            "\n",
            "Word: Reverse\n",
            "Meaning: move backward or opposite of previous\n",
            "\n",
            "Word: Sort\n",
            "Meaning: arrange systematically in groups\n",
            "\n",
            "Word: Compute\n",
            "Meaning: calculate or reckon(a figure or amount)\n",
            "\n",
            "Word: Language\n",
            "Meaning: a system of communication\n",
            "\n",
            "Word: Program\n",
            "Meaning: a series of coded software instructions\n"
          ]
        }
      ]
    },
    {
      "cell_type": "code",
      "source": [
        "#creates a fleet of 30 aliens using range\n",
        "\n",
        "aliens = []\n",
        "\n",
        "for alien_number in range(30):\n",
        "\n",
        "  new_alien = {'color': 'green', 'points': 5, 'speed': 'slow'}\n",
        "\n",
        "  aliens.append(new_alien)\n",
        "\n",
        "  for alien in aliens [:5]:\n",
        "    print(alien)\n",
        "  print(\"alien\")\n",
        "\n",
        "  print(f\"Total number of aliens: {len(aliens)}\")"
      ],
      "metadata": {
        "id": "DPzWMaBKFU_C"
      },
      "execution_count": null,
      "outputs": []
    },
    {
      "cell_type": "code",
      "source": [
        "#uses a for and if loop to change the color of the aliens\n",
        "\n",
        "aliens = []\n",
        "\n",
        "for alien_number in range(30):\n",
        "  new_alien = {'color': 'green', 'points': 5, 'speed': 'slow'}\n",
        "\n",
        "  aliens.append(new_alien)\n",
        "\n",
        "  for alien in aliens[:3]:\n",
        "    if alien ['color'] == 'green':\n",
        "       alien['color'] = 'yellow'\n",
        "       alien['speed'] = 'medium'\n",
        "       alien['points'] = 10\n",
        "\n",
        "  for alien in aliens [:5]:\n",
        "    print(alien)\n",
        "  print(\"...\")\n"
      ],
      "metadata": {
        "id": "qLTzrQMUJOMs"
      },
      "execution_count": null,
      "outputs": []
    },
    {
      "cell_type": "code",
      "source": [
        "#Dictionary in a dictionary (Dictception)\n",
        "\n",
        "users = {\n",
        "    'aeinstein': {'first': 'albert',\n",
        "                  'last': 'einstein'\n",
        ",\n",
        "                  'location': 'princeton'\n",
        "                  },\n",
        "\n",
        "    'mcurie': {\n",
        "        'first': 'marie',\n",
        "        'last': 'curie',\n",
        "        'location': 'paris'\n",
        ",\n",
        "    },\n",
        "\n",
        "}\n",
        "\n",
        "for username, user_info in users.items():\n",
        "\n",
        "  full_name = (f\"{user_info['first']} {user_info['last']}\")\n",
        "  location = user_info['location']\n",
        "  print(f\"\\tFull name: {full_name.title()}\")\n",
        "\n",
        "  print(f\"\\tLocation: {location.title()}\")\n",
        "\n",
        "\n"
      ],
      "metadata": {
        "colab": {
          "base_uri": "https://localhost:8080/"
        },
        "id": "uaYJpD6GOF4s",
        "outputId": "8ba29eca-b3ca-4549-d0da-6863cd80c790"
      },
      "execution_count": 41,
      "outputs": [
        {
          "output_type": "stream",
          "name": "stdout",
          "text": [
            "\tFull name: Albert Einstein\n",
            "\tLocation: Princeton\n",
            "\tFull name: Marie Curie\n",
            "\tLocation: Paris\n"
          ]
        }
      ]
    },
    {
      "cell_type": "code",
      "source": [
        "#Exercise 6-11\n",
        "cities = {\n",
        "    'tokyo': {'population': 37_000_000,\n",
        "\n",
        "              'fact': 'Tokyo has one of the best public transportation systems in the world!'\n",
        "              },\n",
        "     'montreal': {'population': 1_700_000,\n",
        "\n",
        "                'fact': 'Montreal is the second most populous city of Canada.'\n",
        "              },\n",
        "    'las vegas': {'population': 650_000,\n",
        "\n",
        "                  'fact': 'There is one slot machine for every 4 residents in Las Vegas!'\n",
        "                  },\n",
        "\n",
        "    }\n",
        "for city, city_info in cities.items():\n",
        "\n",
        "  populous = (f\"{city_info['population']}\")\n",
        "  facts = city_info['fact']\n",
        "  print(f\"\\tCity Population: {populous.title()}\")\n",
        "\n",
        "  print(f\"\\tCity Fact: {facts.title()}\")"
      ],
      "metadata": {
        "id": "uVoV6vIMRAcf"
      },
      "execution_count": null,
      "outputs": []
    },
    {
      "cell_type": "code",
      "source": [
        "#Exerccise 6-12\n",
        "#changed the original into a loop\n",
        "\n",
        "mom = {\"name\": \"Vermaline\", \"height\": \"5'5\", \"hair length\": \"medium\", \"age\": 46, \"city\": \"New York\"}\n",
        "\n",
        "for key, value in mom.items():\n",
        "      print(f\"\\nAttribute: {key.title()}\")\n",
        "      print(f\"Mom: {value.title()}\")\n",
        "\n",
        "#I wanted to do more with this exercise but im nearing the due time and other classes have swamped me with additional work\n",
        "\n"
      ],
      "metadata": {
        "colab": {
          "base_uri": "https://localhost:8080/"
        },
        "id": "npHS54QRZ4al",
        "outputId": "01b36e93-cf89-48ed-a121-36068df81e43"
      },
      "execution_count": 50,
      "outputs": [
        {
          "output_type": "stream",
          "name": "stdout",
          "text": [
            "\n",
            "Attribute: Name\n",
            "Mom: Vermaline\n",
            "\n",
            "Attribute: Height\n",
            "Mom: 5'5\n",
            "\n",
            "Attribute: Hair Length\n",
            "Mom: medium\n",
            "\n",
            "Attribute: Age\n",
            "Mom: 46\n",
            "\n",
            "Attribute: City\n",
            "Mom: New York\n"
          ]
        }
      ]
    }
  ]
}