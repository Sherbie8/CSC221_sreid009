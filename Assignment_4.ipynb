{
  "nbformat": 4,
  "nbformat_minor": 0,
  "metadata": {
    "colab": {
      "provenance": [],
      "authorship_tag": "ABX9TyPdGt5jySQc/Nagfn9rntz2",
      "include_colab_link": true
    },
    "kernelspec": {
      "name": "python3",
      "display_name": "Python 3"
    },
    "language_info": {
      "name": "python"
    }
  },
  "cells": [
    {
      "cell_type": "markdown",
      "metadata": {
        "id": "view-in-github",
        "colab_type": "text"
      },
      "source": [
        "<a href=\"https://colab.research.google.com/github/Sherbie8/CSC221_sreid009/blob/main/Assignment_4.ipynb\" target=\"_parent\"><img src=\"https://colab.research.google.com/assets/colab-badge.svg\" alt=\"Open In Colab\"/></a>"
      ]
    },
    {
      "cell_type": "code",
      "execution_count": null,
      "metadata": {
        "colab": {
          "base_uri": "https://localhost:8080/"
        },
        "id": "9o-BLZDpxTdi",
        "outputId": "f773dbf0-0d42-4315-ac60-b9125a429a9a"
      },
      "outputs": [
        {
          "output_type": "stream",
          "name": "stdout",
          "text": [
            "Mom\n",
            "Uncles\n",
            "Cousins\n"
          ]
        }
      ],
      "source": [
        "#initial list practice from cells 1-4\n",
        "\n",
        "family = [\"mom\", \"grandma\", \"cousins\", \"uncles\"]\n",
        "print(family[0].title()) #prints the first item in the list\n",
        "print(family[-1].title()) #prints the last item in the list\n",
        "print(family[-2].title()) #prints the second to last item in the list...."
      ]
    },
    {
      "cell_type": "code",
      "source": [
        "message = f\"I love my {family[0].title()} the most.\"\n",
        "print(message)"
      ],
      "metadata": {
        "colab": {
          "base_uri": "https://localhost:8080/"
        },
        "id": "yxm_x5Jvxe4c",
        "outputId": "5b07256c-3f49-4340-a8c5-e8e72d5bb603"
      },
      "execution_count": null,
      "outputs": [
        {
          "output_type": "stream",
          "name": "stdout",
          "text": [
            "I love my Mom the most.\n"
          ]
        }
      ]
    },
    {
      "cell_type": "code",
      "source": [
        "friends = [\"Peter\", \"Ulises\", \"Bryan\", \"Allen\"]\n",
        "print(friends[0].title(), friends[3].title(), friends[2].title(), friends[1].title())   #prints the list of friends in title case\n",
        "for x in friends:\n",
        "  print(\"How are classes, %s?\" %x)        #prints the message to all friends in the list\n",
        "\n",
        "\n",
        "\n",
        "\n"
      ],
      "metadata": {
        "colab": {
          "base_uri": "https://localhost:8080/"
        },
        "id": "i3lL273uxvnj",
        "outputId": "b3d3f978-6f88-4856-a7e4-f1d2ca09aa91"
      },
      "execution_count": null,
      "outputs": [
        {
          "output_type": "stream",
          "name": "stdout",
          "text": [
            "Peter Allen Bryan Ulises\n",
            "How are classes, Peter?\n",
            "How are classes, Ulises?\n",
            "How are classes, Bryan?\n",
            "How are classes, Allen?\n"
          ]
        }
      ]
    },
    {
      "cell_type": "code",
      "source": [
        "games = [\"destiny\", \"persona 5\", \"halo reach\"]\n",
        "destiny_thoughts = f\"Out of any game I've played, none have captivated me like {games[0].title()}. This game made me excited to wake up and play it for hours.\"\n",
        "\n",
        "halo_thoughts = f\"{games[-1].title()} is one of the best games to play with friends. I had a blast playing custom games in the forge and this game will always be special to me.\"\n",
        "\n",
        "persona_thoughts = f\"Finally, {games[1].title()} is narratively and gameplay wise such an addictive game. You really become invested in the characters and after a while they start to feel like real friends in a way. {games[1].title()} is an unforgettable experience.\"\n",
        "print(f\"\\t{destiny_thoughts}\\n\")\n",
        "print(f\"\\t{halo_thoughts}\\n\")\n",
        "print(f\"\\t{persona_thoughts}\\n\")"
      ],
      "metadata": {
        "colab": {
          "base_uri": "https://localhost:8080/"
        },
        "id": "NchXb6vC50Sz",
        "outputId": "a5209aac-9dd2-4767-bf00-2e57d05f52c8"
      },
      "execution_count": null,
      "outputs": [
        {
          "output_type": "stream",
          "name": "stdout",
          "text": [
            "\tOut of any game I've played, none have captivated me like Destiny. This game made me excited to wake up and play it for hours.\n",
            "\n",
            "\tHalo Reach is one of the best games to play with friends. I had a blast playing custom games in the forge and this game will always be special to me.\n",
            "\n",
            "\tFinally, Persona 5 is narratively and gameplay wise such an addictive game. You really become invested in the characters and after a while they start to feel like real friends in a way. Persona 5 is an unforgettable experience.\n",
            "\n"
          ]
        }
      ]
    },
    {
      "cell_type": "code",
      "source": [],
      "metadata": {
        "id": "Uxm-KZkK_mkk"
      },
      "execution_count": null,
      "outputs": []
    },
    {
      "cell_type": "code",
      "source": [
        "#List modifying\n",
        "\n",
        "games = [\" destiny\", \"persona\", \"minecraft\", \"halo\", \"apex legends\"]\n",
        "print(games)   #prints the list\n",
        "\n",
        "games[0] = \"god of war\"       #replaces destiny with god of war in the list\n",
        "print(games)\n",
        "\n",
        "games.append(\"destiny\")     #adds destiny back to the list\n",
        "print(games)\n",
        "\n",
        "manga = []\n",
        "manga.append(\"kingdom\")     #adds items to an empty list\n",
        "manga.append(\"berserk\")\n",
        "print(f\"{manga[0].title()}\")\n",
        "\n",
        "manga.insert(0, \"vagabond\")     #adds the specified value to the list\n",
        "print(manga)\n",
        "\n",
        "del manga[2]    #removes the specified value from the list\n",
        "print(manga)\n",
        "\n",
        "popped_games = games.pop()  #removes the last item from the list\n",
        "print(games)\n",
        "print(popped_games) #we still have access to the item because \"pop\" was used\n",
        "\n",
        "first_game = games.pop(2)  #removes the specified value from the list while keeping access to it\n",
        "print(f\"The first game I played was {first_game.title()}.\")\n",
        "\n"
      ],
      "metadata": {
        "colab": {
          "base_uri": "https://localhost:8080/"
        },
        "id": "wIG8m4yB9bss",
        "outputId": "8eb58886-f8f7-46d0-9163-3e5a7c5b4e50"
      },
      "execution_count": null,
      "outputs": [
        {
          "output_type": "stream",
          "name": "stdout",
          "text": [
            "[' destiny', 'persona', 'minecraft', 'halo', 'apex legends']\n",
            "['god of war', 'persona', 'minecraft', 'halo', 'apex legends']\n",
            "['god of war', 'persona', 'minecraft', 'halo', 'apex legends', 'destiny']\n",
            "Kingdom\n",
            "['vagabond', 'kingdom', 'berserk']\n",
            "['vagabond', 'kingdom']\n",
            "['god of war', 'persona', 'minecraft', 'halo', 'apex legends']\n",
            "destiny\n",
            "The first game I played was Minecraft.\n"
          ]
        }
      ]
    },
    {
      "cell_type": "code",
      "source": [
        "#organizing lists\n",
        "\n",
        "cars = [\"bmw\", \"toyota\", \"audi\", \"subaru\"]\n",
        "\n",
        "cars.sort() #the list is now permanently in alphabetical order and cannot be reverted back to the original order\n",
        "print(cars)\n",
        "\n",
        "\n",
        "cars.sort(reverse=True) #oppositely we can use reverse=True to reverse-alphabetical order\n",
        "print(cars)\n",
        "\n",
        "#we can use the sorted(function) to display the order of the list without changing the actual order of the list\n",
        "\n",
        "cars = [\"bmw\", \"toyota\", \"audi\", \"subaru\"]\n",
        "print(\"\\nHere is the original list:\")\n",
        "print(cars)\n",
        "\n",
        "print(\"\\nHere is the sorted list:\")\n",
        "print(sorted(cars))\n",
        "\n",
        "print(\"\\nHere is the orginal list again:\")\n",
        "print(cars)\n",
        "\n",
        "#to print a list in reverse order we can use the reverse() method\n",
        "\n",
        "cars.reverse()  #reverse will change the list permanently but we can reverse twice to restore it\n",
        "print(\"\\nHere is the reversed order:\")\n",
        "print(cars)\n",
        "cars.reverse()\n",
        "print(\"\\nHere we reversed once again to restore it:\")\n",
        "print(cars)\n",
        "\n",
        "#We can quickly find the length of a list by using the len() function.\n",
        "\n",
        "cars = [\"bmw\", \"toyota\", \"audi\", \"subaru\"]\n",
        "\n",
        "len(cars)\n",
        "print(len(cars))        #<---- 4 cars\n",
        "\n"
      ],
      "metadata": {
        "id": "gLw5SVpbkrdo"
      },
      "execution_count": null,
      "outputs": []
    },
    {
      "cell_type": "code",
      "source": [
        "#list organizing exercises\n",
        "\n",
        "travel_countries = [\"japan\", \"denmark\", \"united kingdom\", \"jamaica\", \"egypt\"]       #Our original list\n",
        "print(travel_countries)\n",
        "\n",
        "print(\"\\nSorted list:\")             #The list is first 'sorted' alphabetically\n",
        "print(sorted(travel_countries))\n",
        "\n",
        "print(\"\\nOriginal list:\")       #The original list is maintained because we used 'sorted' instead of 'sort'\n",
        "print(travel_countries)\n",
        "\n",
        "\n",
        "\n",
        "travel_countries.reverse()      #The original list is reversed\n",
        "print(\"\\nReversed list:\")\n",
        "print(travel_countries)\n",
        "\n",
        "travel_countries.reverse()                  #We reverse again to restore the list to its original state\n",
        "print(\"\\nReversed list back to original:\")\n",
        "print(travel_countries)\n",
        "\n",
        "travel_countries.sort()                 #This time we combine 'sort' and 'reverse' to make the list reversed alphabetically\n",
        "travel_countries.reverse()\n",
        "print(\"\\nList in reverse alphabetical order:\")\n",
        "print(travel_countries)\n",
        "\n",
        "\n",
        "\n"
      ],
      "metadata": {
        "colab": {
          "base_uri": "https://localhost:8080/"
        },
        "id": "jkJk9N0galXe",
        "outputId": "1ac955e4-aae4-45d2-cf06-7101aa30966b"
      },
      "execution_count": null,
      "outputs": [
        {
          "output_type": "stream",
          "name": "stdout",
          "text": [
            "['japan', 'denmark', 'united kingdom', 'jamaica', 'egypt']\n",
            "\n",
            "Sorted list:\n",
            "['denmark', 'egypt', 'jamaica', 'japan', 'united kingdom']\n",
            "\n",
            "Original list:\n",
            "['japan', 'denmark', 'united kingdom', 'jamaica', 'egypt']\n",
            "\n",
            "Reversed list:\n",
            "['egypt', 'jamaica', 'united kingdom', 'denmark', 'japan']\n",
            "\n",
            "Reversed list back to original:\n",
            "['japan', 'denmark', 'united kingdom', 'jamaica', 'egypt']\n",
            "\n",
            "List in reverse alphabetical order:\n",
            "['united kingdom', 'japan', 'jamaica', 'egypt', 'denmark']\n"
          ]
        }
      ]
    },
    {
      "cell_type": "code",
      "source": [
        "#dinner party exercise\n",
        "\n",
        "guest_list = [\"mom\", \"Shyanne\", \"Tristan\"]      #initial list\n",
        "print(guest_list)\n",
        "\n",
        "for x in guest_list:\n",
        "  print(\"\\nDear %s, please come to my dinner party!\\n\" %x)      #prints a message to each guest on the list\n",
        "\n",
        "\n",
        "print(f\"Unfortunately, {guest_list[2].title()} wont be able to make it.\")\n",
        "\n",
        "del guest_list[2]           #deletes last guest on list and appends another\n",
        "guest_list.append(\"phillip dosen\")\n",
        "print(guest_list)\n",
        "\n",
        "message_for_phillip = f\"\\nDear {guest_list[2].title()}, please come to my dinner party!\"    #message to new guest\n",
        "print(f\"{message_for_phillip}\\n\")\n",
        "print(\"Hey everyone, I found a bigger table! lets invite more guests\\n!\")       #tells the group a bigger table was found\n",
        "\n",
        "guest_list.insert(0,\"grandma\")      #adds 3 guests to the list using insert method\n",
        "guest_list.insert(2,\"aunt\")\n",
        "guest_list.append(\"dad\")\n",
        "\n",
        "print(guest_list)       #new list with appeneded guests\n",
        "\n",
        "for x in guest_list:\n",
        "  print(\"Dear %s, please come to my dinner party!\\n\" %x)        #prints the message to every guest on the list\n",
        "\n",
        "\n",
        "\n",
        "print(\"I'm really sorry to bring this news, but its come to my attention that we only have enough space for two guests.\\n\")\n",
        "\n",
        "print(guest_list)       #guest list before popping guests\n",
        "\n",
        "guest_list.pop()\n",
        "guest_list.pop(-1)\n",
        "guest_list.pop(-2)                  #pops selected guests from the list\n",
        "guest_list.pop(2)\n",
        "\n",
        "print(guest_list)         #guest list after popping guests\n",
        "\n",
        "message_for_mom_2 = f\"\\nHi {guest_list[1].title()}, you're still invited to the dinner!\"\n",
        "print(f\"{message_for_mom_2}\\n\")\n",
        "\n",
        "message_for_grandma_2 = f\"Hi {guest_list[0].title()}, you're still invited to the dinner!\"\n",
        "print(f\"{message_for_grandma_2}\\n\")\n",
        "\n",
        "del guest_list[0]       #deletes the last guests on the list\n",
        "del guest_list[0]\n",
        "\n",
        "\n",
        "len(guest_list)\n",
        "\n",
        "print(f\"I've decided to invite {len(guest_list)} guests to my dinner party!\")       #confirms 0 guests will be attending\n"
      ],
      "metadata": {
        "colab": {
          "base_uri": "https://localhost:8080/"
        },
        "id": "Tbx2zFTO7JUV",
        "outputId": "f314fb6f-dcaf-46fc-99c6-2b865693d7b0"
      },
      "execution_count": 1,
      "outputs": [
        {
          "output_type": "stream",
          "name": "stdout",
          "text": [
            "['mom', 'Shyanne', 'Tristan']\n",
            "\n",
            "Dear mom, please come to my dinner party!\n",
            "\n",
            "\n",
            "Dear Shyanne, please come to my dinner party!\n",
            "\n",
            "\n",
            "Dear Tristan, please come to my dinner party!\n",
            "\n",
            "Unfortunately, Tristan wont be able to make it.\n",
            "['mom', 'Shyanne', 'phillip dosen']\n",
            "\n",
            "Dear Phillip Dosen, please come to my dinner party!\n",
            "\n",
            "Hey everyone, I found a bigger table! lets invite more guests\n",
            "!\n",
            "['grandma', 'mom', 'aunt', 'Shyanne', 'phillip dosen', 'dad']\n",
            "Dear grandma, please come to my dinner party!\n",
            "\n",
            "Dear mom, please come to my dinner party!\n",
            "\n",
            "Dear aunt, please come to my dinner party!\n",
            "\n",
            "Dear Shyanne, please come to my dinner party!\n",
            "\n",
            "Dear phillip dosen, please come to my dinner party!\n",
            "\n",
            "Dear dad, please come to my dinner party!\n",
            "\n",
            "I'm really sorry to bring this news, but its come to my attention that we only have enough space for two guests.\n",
            "\n",
            "['grandma', 'mom', 'aunt', 'Shyanne', 'phillip dosen', 'dad']\n",
            "['grandma', 'mom']\n",
            "\n",
            "Hi Mom, you're still invited to the dinner!\n",
            "\n",
            "Hi Grandma, you're still invited to the dinner!\n",
            "\n",
            "I've decided to invite 0 guests to my dinner party!\n"
          ]
        }
      ]
    },
    {
      "cell_type": "code",
      "source": [
        "#Finds multiples of 7 in range and cubes them\n",
        "\n",
        "def findMultiples(x, y, multiple):\n",
        "    # find the first value that's a multiple\n",
        "    for i in range(x, x + multiple):\n",
        "        if i % multiple == 0:\n",
        "            break\n",
        "    # step through the remaining values\n",
        "    for j in range(i, y, multiple):\n",
        "        print(j**3)\n",
        "    # cubes all the integers\n",
        "\n",
        "findMultiples(60, 85, 7)\n",
        "#I had trouble with this but I got some help on stack overflow\n",
        ""
      ],
      "metadata": {
        "colab": {
          "base_uri": "https://localhost:8080/"
        },
        "id": "fJLjv7aqGiDR",
        "outputId": "d9f3a5bf-3208-44a7-fccb-e715e66a63ac"
      },
      "execution_count": 3,
      "outputs": [
        {
          "output_type": "stream",
          "name": "stdout",
          "text": [
            "250047\n",
            "343000\n",
            "456533\n",
            "592704\n"
          ]
        }
      ]
    },
    {
      "cell_type": "code",
      "source": [
        "#plugs values into equation and solves\n",
        "\n",
        "list = [40,50,120,-8,6]\n",
        "\n",
        "def my_function (x):\n",
        "\n",
        "    return (7.4*x + 51)\n",
        "# What we want to find\n",
        "\n",
        "result_1 = my_function(40)\n",
        "result_2 = my_function(50)\n",
        "result_3 = my_function(120)\n",
        "result_4 = my_function(-8)\n",
        "result_5 = my_function(6)\n",
        "#uses each value for x in the equation\n",
        "\n",
        "print(result_1)\n",
        "print(result_2)\n",
        "print(result_3)\n",
        "print(result_4)\n",
        "print(result_5)\n",
        "#I wanted to make it so it took the values from the list but I couldn't figure it out"
      ],
      "metadata": {
        "colab": {
          "base_uri": "https://localhost:8080/"
        },
        "id": "vnN_rZ__GpYd",
        "outputId": "642c57ce-53dc-4013-9a39-c0355ca82845"
      },
      "execution_count": 4,
      "outputs": [
        {
          "output_type": "stream",
          "name": "stdout",
          "text": [
            "347.0\n",
            "421.0\n",
            "939.0\n",
            "-8.200000000000003\n",
            "95.4\n"
          ]
        }
      ]
    }
  ]
}