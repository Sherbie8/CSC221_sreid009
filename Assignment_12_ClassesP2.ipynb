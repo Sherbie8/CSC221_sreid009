{
  "nbformat": 4,
  "nbformat_minor": 0,
  "metadata": {
    "colab": {
      "provenance": [],
      "authorship_tag": "ABX9TyPI8WrEsitNVWoHuCcJDTxw",
      "include_colab_link": true
    },
    "kernelspec": {
      "name": "python3",
      "display_name": "Python 3"
    },
    "language_info": {
      "name": "python"
    }
  },
  "cells": [
    {
      "cell_type": "markdown",
      "metadata": {
        "id": "view-in-github",
        "colab_type": "text"
      },
      "source": [
        "<a href=\"https://colab.research.google.com/github/Sherbie8/CSC221_sreid009/blob/main/Assignment_12_ClassesP2.ipynb\" target=\"_parent\"><img src=\"https://colab.research.google.com/assets/colab-badge.svg\" alt=\"Open In Colab\"/></a>"
      ]
    },
    {
      "cell_type": "code",
      "source": [
        "class Money:\n",
        "\n",
        "  def __init__(self, wallet):\n",
        "\n",
        "\n",
        "    self.wallet = wallet\n",
        "    self.currency = 'USD'\n",
        "    self.total_currency = 0\n",
        "\n",
        "  def read_currency(self):\n",
        "\n",
        "    print(f\"Your wallet has {self.total_currency} dollars.\")\n",
        "\n",
        "  def update_currency(self, money):\n",
        "\n",
        "    self.total_currency += money\n",
        "\n",
        "my_wallet = Money('currency')\n",
        "\n",
        "my_wallet.read_currency()\n",
        "my_wallet.update_currency(0.05)\n",
        "my_wallet.read_currency()\n"
      ],
      "metadata": {
        "colab": {
          "base_uri": "https://localhost:8080/"
        },
        "id": "Gx9rZOmF2rEb",
        "outputId": "a8fac7c0-9481-4d8f-dbdd-cb1f561cef11"
      },
      "execution_count": null,
      "outputs": [
        {
          "output_type": "stream",
          "name": "stdout",
          "text": [
            "Your wallet has 0 dollars.\n",
            "Your wallet has 0.05 dollars.\n"
          ]
        }
      ]
    },
    {
      "cell_type": "code",
      "execution_count": 1,
      "metadata": {
        "id": "F2R5_BR0yi9J",
        "colab": {
          "base_uri": "https://localhost:8080/",
          "height": 314
        },
        "outputId": "9086ae2a-868e-459a-8353-befcccda2e24"
      },
      "outputs": [
        {
          "output_type": "stream",
          "name": "stderr",
          "text": [
            "<>:34: SyntaxWarning: 'int' object is not callable; perhaps you missed a comma?\n",
            "<>:34: SyntaxWarning: 'int' object is not callable; perhaps you missed a comma?\n",
            "<ipython-input-1-5be3bf9e14a1>:34: SyntaxWarning: 'int' object is not callable; perhaps you missed a comma?\n",
            "  samuel = Money(200(Bills(200, 0, 0, 20, 0)))\n"
          ]
        },
        {
          "output_type": "error",
          "ename": "TypeError",
          "evalue": "ignored",
          "traceback": [
            "\u001b[0;31m---------------------------------------------------------------------------\u001b[0m",
            "\u001b[0;31mTypeError\u001b[0m                                 Traceback (most recent call last)",
            "\u001b[0;32m<ipython-input-1-5be3bf9e14a1>\u001b[0m in \u001b[0;36m<cell line: 32>\u001b[0;34m()\u001b[0m\n\u001b[1;32m     30\u001b[0m \u001b[0;34m\u001b[0m\u001b[0m\n\u001b[1;32m     31\u001b[0m \u001b[0;34m\u001b[0m\u001b[0m\n\u001b[0;32m---> 32\u001b[0;31m \u001b[0;32mclass\u001b[0m \u001b[0mWallet\u001b[0m\u001b[0;34m(\u001b[0m\u001b[0mMoney\u001b[0m\u001b[0;34m(\u001b[0m\u001b[0mBills\u001b[0m\u001b[0;34m(\u001b[0m\u001b[0mCoins\u001b[0m\u001b[0;34m)\u001b[0m\u001b[0;34m)\u001b[0m\u001b[0;34m)\u001b[0m\u001b[0;34m:\u001b[0m\u001b[0;34m\u001b[0m\u001b[0;34m\u001b[0m\u001b[0m\n\u001b[0m\u001b[1;32m     33\u001b[0m \u001b[0;34m\u001b[0m\u001b[0m\n\u001b[1;32m     34\u001b[0m   \u001b[0msamuel\u001b[0m \u001b[0;34m=\u001b[0m \u001b[0mMoney\u001b[0m\u001b[0;34m(\u001b[0m\u001b[0;36m200\u001b[0m\u001b[0;34m(\u001b[0m\u001b[0mBills\u001b[0m\u001b[0;34m(\u001b[0m\u001b[0;36m200\u001b[0m\u001b[0;34m,\u001b[0m \u001b[0;36m0\u001b[0m\u001b[0;34m,\u001b[0m \u001b[0;36m0\u001b[0m\u001b[0;34m,\u001b[0m \u001b[0;36m20\u001b[0m\u001b[0;34m,\u001b[0m \u001b[0;36m0\u001b[0m\u001b[0;34m)\u001b[0m\u001b[0;34m)\u001b[0m\u001b[0;34m)\u001b[0m\u001b[0;34m\u001b[0m\u001b[0;34m\u001b[0m\u001b[0m\n",
            "\u001b[0;31mTypeError\u001b[0m: Bills.__init__() missing 4 required positional arguments: 'one', 'five', 'ten', and 'twenty'"
          ]
        }
      ],
      "source": [
        "\n",
        "class Money:\n",
        "\n",
        "  def __init__(self, value):\n",
        "\n",
        "    self.value = value\n",
        "\n",
        "  def say_amount(self):\n",
        "\n",
        "    print(f\"You have {self.value} dollars in your wallet.\")\n",
        "\n",
        "\n",
        "class Bills(Money):\n",
        "  def __init__(self, value one, five, ten, twenty):\n",
        "    super().__init__(value)\n",
        "\n",
        "    self.one = 1\n",
        "    self.five = 5\n",
        "    self.ten = 10\n",
        "    self.twenty = 20\n",
        "\n",
        "\n",
        "class Coins(Money):\n",
        "\n",
        "  def __init__(self, penny, nickel, dime, quarter):\n",
        "\n",
        "    self.penny = 0.01\n",
        "    self.nickel = 0.05\n",
        "    self.dime = 0.1\n",
        "    self.quarter = 0.25\n",
        "\n",
        "class Wallet(Money(Bills(Coins))):\n",
        "\n",
        "  wallet_1 = []\n",
        "\n",
        "#I am trying to understand this but Im having difficulties. I'm not sure what the prompt is asking of me for this, Its hard for me to create\n",
        "#a mental image of what I want this program do. I will turn it in but I will need some more help with this implementation of classes.\n",
        "\n",
        "\n",
        "\n",
        "\n",
        "\n",
        "\n",
        "\n",
        "\n",
        "\n",
        "\n",
        "\n",
        "\n"
      ]
    }
  ]
}