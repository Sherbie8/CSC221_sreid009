{
  "nbformat": 4,
  "nbformat_minor": 0,
  "metadata": {
    "colab": {
      "provenance": [],
      "authorship_tag": "ABX9TyOALhj6gUVmCUYJVWCMi6tq",
      "include_colab_link": true
    },
    "kernelspec": {
      "name": "python3",
      "display_name": "Python 3"
    },
    "language_info": {
      "name": "python"
    }
  },
  "cells": [
    {
      "cell_type": "markdown",
      "metadata": {
        "id": "view-in-github",
        "colab_type": "text"
      },
      "source": [
        "<a href=\"https://colab.research.google.com/github/Sherbie8/CSC221_sreid009/blob/main/Assignment_8.ipynb\" target=\"_parent\"><img src=\"https://colab.research.google.com/assets/colab-badge.svg\" alt=\"Open In Colab\"/></a>"
      ]
    },
    {
      "cell_type": "code",
      "execution_count": null,
      "metadata": {
        "colab": {
          "base_uri": "https://localhost:8080/"
        },
        "id": "ksbsSJa02OS5",
        "outputId": "b1511ef4-9d06-482c-db47-a43fac928c26"
      },
      "outputs": [
        {
          "output_type": "stream",
          "name": "stdout",
          "text": [
            "What car would you like to buy?: toyota\n",
            "Let's see if we have that toyota model.\n"
          ]
        }
      ],
      "source": [
        "#Im familiar with inputs so I didnt feel it was necessary to do all the prompts\n",
        "\n",
        "#Exercise 7-1\n",
        "\n",
        "message = input(\"What car would you like to buy?: \")\n",
        "\n",
        "print(f\"Let's see if we have that {message} model.\")"
      ]
    },
    {
      "cell_type": "code",
      "source": [
        "#Exercise 7-2\n",
        "\n",
        "Max_seats = 8\n",
        "\n",
        "guests = input(\"How many guests are you bringing?: \")\n",
        "guests = int(guests)\n",
        "\n",
        "if (guests > Max_seats):\n",
        "  print(\"Im sorry but we are overbooked, you will have to wait for a larger table.\")\n",
        "\n",
        "elif (guests < Max_seats):\n",
        "  print(\"Your table is ready!\")\n"
      ],
      "metadata": {
        "colab": {
          "base_uri": "https://localhost:8080/"
        },
        "id": "NqjaBIc34KQx",
        "outputId": "e919c994-557f-4f19-88cc-f8b7e795f3df"
      },
      "execution_count": null,
      "outputs": [
        {
          "output_type": "stream",
          "name": "stdout",
          "text": [
            "How many guests are you bringing?: 5\n",
            "Your table is ready!\n"
          ]
        }
      ]
    },
    {
      "cell_type": "code",
      "source": [
        "#Exercise 7-3\n",
        "\n",
        "number = input(\"Pick a number and I will tell you if it is a multiple of 10!: \")\n",
        "number = int(number)\n",
        "\n",
        "if (number % 10 == 0):\n",
        "  print(\"That's a multiple of 10!\")\n",
        "\n",
        "else:\n",
        "  print(\"That is not a multiple of 10.\")\n"
      ],
      "metadata": {
        "colab": {
          "base_uri": "https://localhost:8080/"
        },
        "id": "ipXywBkV5PJj",
        "outputId": "7020a301-4f42-4b89-9e4a-bc67c12ee521"
      },
      "execution_count": null,
      "outputs": [
        {
          "output_type": "stream",
          "name": "stdout",
          "text": [
            "Pick a number and I will tell you if it is a multiple of 10!: 5\n",
            "That is not a multiple of 10.\n"
          ]
        }
      ]
    },
    {
      "cell_type": "code",
      "source": [
        "#counting.py\n",
        "\n",
        "current_number = 1\n",
        "while current_number <= 5:\n",
        "  print(current_number)\n",
        "  current_number += 1\n",
        "\n",
        "  #The += operator is shorthand for current_number = current_number + 1"
      ],
      "metadata": {
        "colab": {
          "base_uri": "https://localhost:8080/"
        },
        "id": "jImiZUTc4fG2",
        "outputId": "0fe93300-b089-4e3b-8790-0dcb1b793d98"
      },
      "execution_count": null,
      "outputs": [
        {
          "output_type": "stream",
          "name": "stdout",
          "text": [
            "1\n",
            "2\n",
            "3\n",
            "4\n",
            "5\n"
          ]
        }
      ]
    },
    {
      "cell_type": "code",
      "source": [
        "#parrot.py\n",
        "\n",
        "prompt = \"\\nTell me something, and I will repeat it back to you:\"\n",
        "\n",
        "prompt += \"\\nEnter 'quit' to end the program. \"\n",
        "\n",
        "message = \"\"\n",
        "while message != 'quit':\n",
        "\n",
        "  message = input(prompt)\n",
        "  print(message)\n",
        "\n"
      ],
      "metadata": {
        "colab": {
          "base_uri": "https://localhost:8080/"
        },
        "id": "VlRN814d55rl",
        "outputId": "a4c2f989-6296-4f65-bcb3-6e09af7956d8"
      },
      "execution_count": null,
      "outputs": [
        {
          "output_type": "stream",
          "name": "stdout",
          "text": [
            "\n",
            "Tell me something, and I will repeat it back to you:\n",
            "Enter 'quit' to end the program. quit\n",
            "quit\n"
          ]
        }
      ]
    },
    {
      "cell_type": "code",
      "source": [
        "#parrot.py + flag\n",
        "\n",
        "prompt = \"\\nTell me something, and I will repeat it back to you:\"\n",
        "\n",
        "prompt += \"\\nEnter 'quit' to end the program. \"\n",
        "\n",
        "active = True\n",
        "while active:\n",
        "  message = input(prompt)\n",
        "\n",
        "  if message == 'quit':\n",
        "    active = False\n",
        "\n",
        "  else:\n",
        "    print(message)\n"
      ],
      "metadata": {
        "id": "HWXa5Kzp7GZK"
      },
      "execution_count": null,
      "outputs": []
    },
    {
      "cell_type": "code",
      "source": [
        "#Using Break to exit a loop\n",
        "\n",
        "prompt = \"\\nPlease enter the name of a city you visited: \"\n",
        "\n",
        "prompt += \"\\n(Enter 'quit' when you are finished.) \"\n",
        "\n",
        "while True:\n",
        "  city = input(prompt)\n",
        "\n",
        "  if city == 'quit':\n",
        "    break\n",
        "  else:\n",
        "    print(f\"I'd love to go to {city.title()}!\")"
      ],
      "metadata": {
        "id": "u5n3yrWE70wM"
      },
      "execution_count": null,
      "outputs": []
    },
    {
      "cell_type": "code",
      "source": [
        "#Using continue in a loop\n",
        "\n",
        "current_number = 0\n",
        "\n",
        "while current_number < 10:\n",
        "  current_number += 1\n",
        "  if current_number % 2 == 0:\n",
        "    continue\n",
        "  print(current_number)"
      ],
      "metadata": {
        "colab": {
          "base_uri": "https://localhost:8080/"
        },
        "id": "rhE3Lpdo8AE2",
        "outputId": "1f6363e5-4bb9-4819-c33f-bf4565387505"
      },
      "execution_count": null,
      "outputs": [
        {
          "output_type": "stream",
          "name": "stdout",
          "text": [
            "1\n",
            "3\n",
            "5\n",
            "7\n",
            "9\n"
          ]
        }
      ]
    },
    {
      "cell_type": "code",
      "source": [
        "#Avoiding Infinite loops\n",
        "\n",
        "x = 1\n",
        "while x <= 5:\n",
        "  print(x)\n",
        "  x += 1\n",
        "\n",
        "#To avoid writing infinite loops, test every while loop and make sure the loop stops\n",
        "#when you expect it to."
      ],
      "metadata": {
        "id": "LFRsfUal9P4G"
      },
      "execution_count": null,
      "outputs": []
    },
    {
      "cell_type": "code",
      "source": [
        "#Exercise 7-5 and 7-6\n",
        "\n",
        "while True:\n",
        "\n",
        "  age = input(\"Enter your age: \")\n",
        "  age = int(age)\n",
        "\n",
        "  if age == 0:    #Ends the loop if user enters 0\n",
        "    break\n",
        "  else:\n",
        "      pass\n",
        "\n",
        "  if age < 3:\n",
        "   price = 0\n",
        "\n",
        "  if 3 <= age <= 12:\n",
        "    price = 10\n",
        "\n",
        "  elif age > 12:\n",
        "    price = 15\n",
        "\n",
        "\n",
        "  print(f\"Your amission cost is ${price}.\")\n"
      ],
      "metadata": {
        "colab": {
          "base_uri": "https://localhost:8080/"
        },
        "id": "iCMO5mfJ-EyQ",
        "outputId": "f263a808-1cb5-476f-ac78-cde9dc553397"
      },
      "execution_count": 40,
      "outputs": [
        {
          "name": "stdout",
          "output_type": "stream",
          "text": [
            "Enter your age: 0\n"
          ]
        }
      ]
    },
    {
      "cell_type": "code",
      "source": [
        "active = True\n",
        "\n",
        "while active == True:\n",
        "\n",
        "  age = input(\"Enter your age: \")\n",
        "  age = int(age)\n",
        "\n",
        "  if age == 0:\n",
        "    print(\"Invalid\")\n",
        "    active = False    #Ends the loop if user enters 0\n",
        "\n",
        "  if age < 3:\n",
        "   price = 0\n",
        "\n",
        "  if 3 <= age <= 12:\n",
        "    price = 10\n",
        "\n",
        "  elif age > 12:\n",
        "    price = 15\n",
        "\n",
        "\n",
        "  print(f\"Your amission cost is ${price}.\")"
      ],
      "metadata": {
        "colab": {
          "base_uri": "https://localhost:8080/"
        },
        "id": "x63r48O7jKBS",
        "outputId": "307888b3-9bfd-4dd9-e332-0a2d47624340"
      },
      "execution_count": 4,
      "outputs": [
        {
          "output_type": "stream",
          "name": "stdout",
          "text": [
            "Enter your age: 0\n",
            "Invalid\n",
            "Your amission cost is $0.\n"
          ]
        }
      ]
    },
    {
      "cell_type": "code",
      "source": [
        "#confirmed_users.py\n",
        "\n",
        "unconfirmed_users = ['alice', 'brian', 'candace']\n",
        "\n",
        "confirmed_users = []\n",
        "\n",
        "while unconfirmed_users:\n",
        "\n",
        "  current_user = unconfirmed_users.pop()\n",
        "\n",
        "  print(f\"Verifying user: {current_user.title()}\")\n",
        "\n",
        "  confirmed_users.append(current_user)\n",
        "\n",
        "  print(\"\\nThe followng users have been confirmed:\")\n",
        "\n",
        "  for confirmed_user in confirmed_users:\n",
        "    print(confirmed_user.title())"
      ],
      "metadata": {
        "id": "J7jrANuqk6_m"
      },
      "execution_count": null,
      "outputs": []
    },
    {
      "cell_type": "code",
      "source": [
        "#mountain_poll.py\n",
        "\n",
        "responses = {}\n",
        "\n",
        "polling_active = True\n",
        "\n",
        "while polling_active == True:\n",
        "\n",
        "  name = input (\"\\nWhat is your name? \")\n",
        "\n",
        "  response = input(\"Which mountain would you like to climb someday? \")\n",
        "\n",
        "  responses [name] = response\n",
        "\n",
        "  repeat = input(\"WOuld you like to let another person respond? (yes/ no) \")\n",
        "\n",
        "  if repeat == 'no':\n",
        "    polling_active = False\n",
        "\n",
        "    print(\"\\n--- Poll Results---\")\n",
        "\n",
        "  for name, response in responses.items():\n",
        "    print(f\"{name} would like to climb {response}.\")"
      ],
      "metadata": {
        "id": "rVYZCojWm3ln"
      },
      "execution_count": null,
      "outputs": []
    },
    {
      "cell_type": "code",
      "source": [
        "#Exercise 7-8\n",
        "\n",
        "sandwich_orders = ['Chicken', 'Tuna', 'Turkey', 'Ham']\n",
        "\n",
        "finished_sandwiches = []\n",
        "\n",
        "while sandwich_orders:\n",
        "\n",
        "  current_order = sandwich_orders.pop()\n",
        "\n",
        "  print(f\"Your {current_order.title()} sandwich is being made.\")\n",
        "\n",
        "  finished_sandwiches.append(current_order)\n",
        "\n",
        "  print(\"\\nThe following orders are complete:\")\n",
        "\n",
        "  for finished_sandwich in finished_sandwiches:\n",
        "    print(finished_sandwich)\n"
      ],
      "metadata": {
        "id": "L8IB811Spv1g"
      },
      "execution_count": null,
      "outputs": []
    },
    {
      "cell_type": "code",
      "source": [
        "#Simple Calculator\n",
        "\n",
        "def calculate(n1,n2,op):\n",
        "    if op == '+':\n",
        "        result = n1+n2\n",
        "    elif op == '-':\n",
        "        result = n1-n2\n",
        "    elif op == '*':\n",
        "        result =  n1*n2\n",
        "    elif op == '/':\n",
        "        result = n1/n2\n",
        "    elif op=='^':\n",
        "        result =  n1**n2\n",
        "    else:\n",
        "        raise ValueError('Invalid operator')\n",
        "\n",
        "    if result.is_integer():\n",
        "        result = int(result)\n",
        "\n",
        "    return result\n",
        "\n",
        "continue_calculating = True\n",
        "while continue_calculating is True:\n",
        "    number1 = float(input('Enter first number: '))\n",
        "    op = input('Enter operator (+,-,*,/,^): ')\n",
        "    number2 = float(input('Enter second number: '))\n",
        "    print(number1,op,number2)\n",
        "    result=calculate(number1,number2,op)\n",
        "    print('=',result)\n",
        "    yes_or_no = input('Continue? (y/n): ')\n",
        "    if yes_or_no == 'n':\n",
        "        continue_calculating = False"
      ],
      "metadata": {
        "id": "7ml4qTwg211O"
      },
      "execution_count": null,
      "outputs": []
    }
  ]
}