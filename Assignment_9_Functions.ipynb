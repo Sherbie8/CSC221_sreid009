{
  "nbformat": 4,
  "nbformat_minor": 0,
  "metadata": {
    "colab": {
      "provenance": [],
      "authorship_tag": "ABX9TyNd2IjaLs+tM8Y0fMo9hOgV",
      "include_colab_link": true
    },
    "kernelspec": {
      "name": "python3",
      "display_name": "Python 3"
    },
    "language_info": {
      "name": "python"
    }
  },
  "cells": [
    {
      "cell_type": "markdown",
      "metadata": {
        "id": "view-in-github",
        "colab_type": "text"
      },
      "source": [
        "<a href=\"https://colab.research.google.com/github/Sherbie8/CSC221_sreid009/blob/main/Assignment_9_Functions.ipynb\" target=\"_parent\"><img src=\"https://colab.research.google.com/assets/colab-badge.svg\" alt=\"Open In Colab\"/></a>"
      ]
    },
    {
      "cell_type": "code",
      "execution_count": null,
      "metadata": {
        "id": "sb5F0iShndSB",
        "colab": {
          "base_uri": "https://localhost:8080/"
        },
        "outputId": "3fb3854e-cdc7-401b-92c5-e6db2e7e8d06"
      },
      "outputs": [
        {
          "output_type": "stream",
          "name": "stdout",
          "text": [
            "Hello!\n"
          ]
        }
      ],
      "source": [
        "def greet_user():\n",
        "\n",
        "  print(\"Hello!\")\n",
        "\n",
        "greet_user()"
      ]
    },
    {
      "cell_type": "code",
      "source": [
        "def greet_user(username):\n",
        "\n",
        "  print(f\"Hello, {username.title()}!\")\n",
        "\n",
        "greet_user('samuel')"
      ],
      "metadata": {
        "colab": {
          "base_uri": "https://localhost:8080/"
        },
        "id": "OHIY9G1You1M",
        "outputId": "200f6187-99ee-4b4e-ff46-98f4a4276791"
      },
      "execution_count": null,
      "outputs": [
        {
          "output_type": "stream",
          "name": "stdout",
          "text": [
            "Hello, Samuel!\n"
          ]
        }
      ]
    },
    {
      "cell_type": "code",
      "source": [
        "#Exercise 8-2\n",
        "\n",
        "def favorite_book(title):\n",
        "\n",
        "  print(f\"One of my favorite books series is {title.title()}.\")\n",
        "\n",
        "favorite_book('a series of unfortunate events')"
      ],
      "metadata": {
        "colab": {
          "base_uri": "https://localhost:8080/"
        },
        "id": "fhRicDygpLmD",
        "outputId": "d8b7a025-92f2-4481-d993-8200bd66c5c0"
      },
      "execution_count": null,
      "outputs": [
        {
          "output_type": "stream",
          "name": "stdout",
          "text": [
            "One of my favorite books series is A Series Of Unfortunate Events.\n"
          ]
        }
      ]
    },
    {
      "cell_type": "code",
      "source": [
        "def describe_pet(animal_type, pet_name):\n",
        "\n",
        "  print(f\"\\nI have a {animal_type}.\")\n",
        "\n",
        "  print(f\"My {animal_type}'s name is {pet_name.title()}.\")\n",
        "\n",
        "describe_pet('dog', 'mochi')"
      ],
      "metadata": {
        "colab": {
          "base_uri": "https://localhost:8080/"
        },
        "id": "w6afeiZjpdgb",
        "outputId": "f213e834-562a-4f3f-f616-ab9e38bd1211"
      },
      "execution_count": null,
      "outputs": [
        {
          "output_type": "stream",
          "name": "stdout",
          "text": [
            "\n",
            "I have a dog.\n",
            "My dog's name is Mochi.\n"
          ]
        }
      ]
    },
    {
      "cell_type": "code",
      "source": [
        "#Exercise 8-3\n",
        "\n",
        "def make_shirt(size, text):\n",
        "\n",
        "  print(\"Welcome! What shirt size would you like?\")\n",
        "\n",
        "  size = input(\"Enter: \")\n",
        "\n",
        "  print(f\"You would like a {size} shirt, correct?\")\n",
        "\n",
        "  print(\"What would you like it to say?\")\n",
        "\n",
        "  text = input(\"Enter: \")\n",
        "\n",
        "  print(f\"Great! Your {size} shirt will say {text}.\")\n",
        "\n",
        "make_shirt('size', 'text')"
      ],
      "metadata": {
        "colab": {
          "base_uri": "https://localhost:8080/"
        },
        "id": "kvmKuvLVq-qU",
        "outputId": "871c4f42-3274-4a30-8ac9-1627e603c6e6"
      },
      "execution_count": null,
      "outputs": [
        {
          "output_type": "stream",
          "name": "stdout",
          "text": [
            "Welcome! What shirt size would you like?\n",
            "Enter: small\n",
            "You would like a small shirt, correct?\n",
            "What would you like it to say?\n",
            "Enter: Man of God\n",
            "Great! Your small shirt will say Man of God.\n"
          ]
        }
      ]
    },
    {
      "cell_type": "code",
      "source": [],
      "metadata": {
        "id": "t6sscHS1xOGu"
      },
      "execution_count": null,
      "outputs": []
    },
    {
      "cell_type": "code",
      "source": [
        "#Exercise 8-4\n",
        "\n",
        "def make_shirt(size, text):\n",
        "\n",
        "  active = True\n",
        "  while active == True:\n",
        "\n",
        "    print(\"Welcome! Only our large python shirts are in stock, but you can be added to the waitlist if that is unsatisfactory.\")\n",
        "\n",
        "    print(\"What size would you like?\")\n",
        "    size = input(\"\\n a - Large\\nb - medium\\nc - small\\nEnter: \")\n",
        "\n",
        "    if size != 'a':\n",
        "      print(\"We only have large shirts... you will be added to the waitlist.\")\n",
        "\n",
        "      print(\"Current wait expectancy: 14 years. See you soon!\")\n",
        "      break\n",
        "\n",
        "\n",
        "    else:\n",
        "      pass\n",
        "\n",
        "    text = \"I love python\"\n",
        "\n",
        "    print(f\"Great! Your large shirt will say '{text}'.\")\n",
        "    active = False\n",
        "\n",
        "make_shirt('size', 'text')"
      ],
      "metadata": {
        "colab": {
          "base_uri": "https://localhost:8080/"
        },
        "outputId": "a03fbfcc-3687-49ae-b8c4-ee8ed002400f",
        "id": "cleHdGEUxnGc"
      },
      "execution_count": null,
      "outputs": [
        {
          "output_type": "stream",
          "name": "stdout",
          "text": [
            "Welcome! Only our large python shirts are in stock, but you can be added to the waitlist if that is unsatisfactory.\n",
            "What size would you like?\n",
            "\n",
            " a - Large\n",
            "b - medium\n",
            "c - small\n",
            "Enter: a\n",
            "Great! Your large shirt will say 'I love python'.\n"
          ]
        }
      ]
    },
    {
      "cell_type": "code",
      "source": [
        "#Exercise 8-14\n",
        "\n",
        "def  build_car(manufacurer, model, **user_info):\n",
        "\n",
        "  user_info['manufacturer'] = manufacurer\n",
        "  user_info['model'] = model\n",
        "  return user_info\n",
        "\n",
        "\n",
        "car_profile = build_car('BMW', 'M5', color ='blue', interior ='leather')\n",
        "print(car_profile)\n",
        "\n"
      ],
      "metadata": {
        "colab": {
          "base_uri": "https://localhost:8080/"
        },
        "id": "U287ZjdT3b8c",
        "outputId": "131b0db0-ab49-48eb-dd35-c10fd3e0baa9"
      },
      "execution_count": null,
      "outputs": [
        {
          "output_type": "stream",
          "name": "stdout",
          "text": [
            "{'color': 'blue', 'interior': 'leather', 'manufacturer': 'BMW', 'model': 'M5'}\n"
          ]
        }
      ]
    },
    {
      "cell_type": "code",
      "source": [
        "import math\n",
        "number_list = []\n",
        "pi = math.pi\n",
        "\n",
        "def addition(x,y):\n",
        "\n",
        "    x = float(input(\"Enter first number: \"))\n",
        "    y = float(input(\"Enter second number: \"))\n",
        "    return x + y\n",
        "    if ValueError:\n",
        "      return x + pi\n",
        "      number_list.append(addition(x,y))\n",
        "(addition(x,y))"
      ],
      "metadata": {
        "colab": {
          "base_uri": "https://localhost:8080/",
          "height": 366
        },
        "id": "0OiBQWFiCQTx",
        "outputId": "81950429-3aac-44bc-de7d-d31a3ee6c76e"
      },
      "execution_count": 39,
      "outputs": [
        {
          "name": "stdout",
          "output_type": "stream",
          "text": [
            "Enter first number: 6\n",
            "Enter second number: y\n"
          ]
        },
        {
          "output_type": "error",
          "ename": "ValueError",
          "evalue": "ignored",
          "traceback": [
            "\u001b[0;31m---------------------------------------------------------------------------\u001b[0m",
            "\u001b[0;31mValueError\u001b[0m                                Traceback (most recent call last)",
            "\u001b[0;32m<ipython-input-39-5a97b6416802>\u001b[0m in \u001b[0;36m<cell line: 14>\u001b[0;34m()\u001b[0m\n\u001b[1;32m     12\u001b[0m       \u001b[0mnumber_list\u001b[0m\u001b[0;34m.\u001b[0m\u001b[0mappend\u001b[0m\u001b[0;34m(\u001b[0m\u001b[0maddition\u001b[0m\u001b[0;34m(\u001b[0m\u001b[0mx\u001b[0m\u001b[0;34m,\u001b[0m\u001b[0my\u001b[0m\u001b[0;34m)\u001b[0m\u001b[0;34m)\u001b[0m\u001b[0;34m\u001b[0m\u001b[0;34m\u001b[0m\u001b[0m\n\u001b[1;32m     13\u001b[0m \u001b[0;34m\u001b[0m\u001b[0m\n\u001b[0;32m---> 14\u001b[0;31m \u001b[0;34m(\u001b[0m\u001b[0maddition\u001b[0m\u001b[0;34m(\u001b[0m\u001b[0mx\u001b[0m\u001b[0;34m,\u001b[0m\u001b[0my\u001b[0m\u001b[0;34m)\u001b[0m\u001b[0;34m)\u001b[0m\u001b[0;34m\u001b[0m\u001b[0;34m\u001b[0m\u001b[0m\n\u001b[0m",
            "\u001b[0;32m<ipython-input-39-5a97b6416802>\u001b[0m in \u001b[0;36maddition\u001b[0;34m(x, y)\u001b[0m\n\u001b[1;32m      6\u001b[0m \u001b[0;34m\u001b[0m\u001b[0m\n\u001b[1;32m      7\u001b[0m     \u001b[0mx\u001b[0m \u001b[0;34m=\u001b[0m \u001b[0mfloat\u001b[0m\u001b[0;34m(\u001b[0m\u001b[0minput\u001b[0m\u001b[0;34m(\u001b[0m\u001b[0;34m\"Enter first number: \"\u001b[0m\u001b[0;34m)\u001b[0m\u001b[0;34m)\u001b[0m\u001b[0;34m\u001b[0m\u001b[0;34m\u001b[0m\u001b[0m\n\u001b[0;32m----> 8\u001b[0;31m     \u001b[0my\u001b[0m \u001b[0;34m=\u001b[0m \u001b[0mfloat\u001b[0m\u001b[0;34m(\u001b[0m\u001b[0minput\u001b[0m\u001b[0;34m(\u001b[0m\u001b[0;34m\"Enter second number: \"\u001b[0m\u001b[0;34m)\u001b[0m\u001b[0;34m)\u001b[0m\u001b[0;34m\u001b[0m\u001b[0;34m\u001b[0m\u001b[0m\n\u001b[0m\u001b[1;32m      9\u001b[0m     \u001b[0;32mreturn\u001b[0m \u001b[0mx\u001b[0m \u001b[0;34m+\u001b[0m \u001b[0my\u001b[0m\u001b[0;34m\u001b[0m\u001b[0;34m\u001b[0m\u001b[0m\n\u001b[1;32m     10\u001b[0m     \u001b[0;32mif\u001b[0m \u001b[0mValueError\u001b[0m\u001b[0;34m:\u001b[0m\u001b[0;34m\u001b[0m\u001b[0;34m\u001b[0m\u001b[0m\n",
            "\u001b[0;31mValueError\u001b[0m: could not convert string to float: 'y'"
          ]
        }
      ]
    },
    {
      "cell_type": "code",
      "source": [
        "import math\n",
        "number_list = []\n",
        "pi = math.pi\n",
        "\n",
        "def addition(x,y):\n",
        "  Verbose = True\n",
        "  while Verbose == True:\n",
        "    try:\n",
        "      x = float(input(\"Enter first number: \"))\n",
        "      y = float(input(\"Enter second number: \"))\n",
        "      return x + y\n",
        "    except ValueError:\n",
        "      return x + pi\n",
        "      number_list.append(addition(x,y))\n",
        "\n",
        "(addition(x,y))\n",
        "\n",
        "#I am struggling to print the list with appended numbers, however eveything else is working"
      ],
      "metadata": {
        "colab": {
          "base_uri": "https://localhost:8080/"
        },
        "id": "WdOv1UbPkB9b",
        "outputId": "c9d1eae7-2ef1-4236-d93f-9ee7d6273db7"
      },
      "execution_count": 36,
      "outputs": [
        {
          "name": "stdout",
          "output_type": "stream",
          "text": [
            "[]\n",
            "Enter first number: 2\n",
            "Enter second number: 6\n"
          ]
        },
        {
          "output_type": "execute_result",
          "data": {
            "text/plain": [
              "8.0"
            ]
          },
          "metadata": {},
          "execution_count": 36
        }
      ]
    },
    {
      "cell_type": "code",
      "source": [],
      "metadata": {
        "id": "mCNFyf2t7Pw5"
      },
      "execution_count": null,
      "outputs": []
    }
  ]
}