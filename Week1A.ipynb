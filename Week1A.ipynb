{
  "nbformat": 4,
  "nbformat_minor": 0,
  "metadata": {
    "colab": {
      "provenance": []
    },
    "kernelspec": {
      "name": "python3",
      "display_name": "Python 3"
    },
    "language_info": {
      "name": "python"
    }
  },
  "cells": [
    {
      "cell_type": "code",
      "execution_count": 2,
      "metadata": {
        "colab": {
          "base_uri": "https://localhost:8080/"
        },
        "id": "CrFOlMieivE4",
        "outputId": "1a5c2b26-3ab6-4c5e-b5ae-6cce84737da9"
      },
      "outputs": [
        {
          "output_type": "stream",
          "name": "stdout",
          "text": [
            "Welcome to python! My name is Samuel\n"
          ]
        }
      ],
      "source": [
        "print(\"Welcome to python! My name is Samuel.\")"
      ]
    }
  ]
}