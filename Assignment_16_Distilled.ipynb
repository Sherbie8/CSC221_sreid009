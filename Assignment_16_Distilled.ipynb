{
  "nbformat": 4,
  "nbformat_minor": 0,
  "metadata": {
    "colab": {
      "provenance": [],
      "authorship_tag": "ABX9TyPgMvUQL946l6V1jxWxKP2R",
      "include_colab_link": true
    },
    "kernelspec": {
      "name": "python3",
      "display_name": "Python 3"
    },
    "language_info": {
      "name": "python"
    }
  },
  "cells": [
    {
      "cell_type": "markdown",
      "metadata": {
        "id": "view-in-github",
        "colab_type": "text"
      },
      "source": [
        "<a href=\"https://colab.research.google.com/github/Sherbie8/CSC221_sreid009/blob/main/Assignment_16_Distilled.ipynb\" target=\"_parent\"><img src=\"https://colab.research.google.com/assets/colab-badge.svg\" alt=\"Open In Colab\"/></a>"
      ]
    },
    {
      "cell_type": "code",
      "execution_count": null,
      "metadata": {
        "colab": {
          "base_uri": "https://localhost:8080/"
        },
        "id": "dk96BV5ajEEv",
        "outputId": "e4744a40-3d6c-4745-bf49-28d262ce8621"
      },
      "outputs": [
        {
          "output_type": "stream",
          "name": "stdout",
          "text": [
            "  1 1050.00\n",
            "  2 1102.50\n",
            "  3 1157.62\n",
            "  4 1215.51\n",
            "  5 1276.28\n"
          ]
        }
      ],
      "source": [
        "#interest.py\n",
        "\n",
        "principal = 1000\n",
        "#initial amount\n",
        "\n",
        "rate = 0.05\n",
        "#Interest rate\n",
        "\n",
        "numyears = 5\n",
        "#years of interest\n",
        "\n",
        "year = 1\n",
        "\n",
        "while year <= numyears:\n",
        "    principal = principal * (1+rate)\n",
        "    print(f'{year:>3d} {principal:0.2f}')\n",
        "    year += 1\n",
        "\n",
        "#A simple compound interest program that adds a 0.05% interest to an amount every year up to 5 years."
      ]
    },
    {
      "cell_type": "code",
      "source": [
        "#Simple functions using operators (+, -, /, *)\n",
        "\n",
        "def addition(var1, var2):\n",
        "    return var1 + var2\n",
        "result = addition(2, 6)\n",
        "print(result)\n",
        "\n",
        "def subtraction(var1, var2):\n",
        "    return var1 - var2\n",
        "result = subtraction(16, 8)\n",
        "print(result)\n",
        "\n",
        "def multiplication(var1, var2):\n",
        "    return var1 * var2\n",
        "result = multiplication(4, 2)\n",
        "print(result)\n",
        "\n",
        "def division(var1, var2):\n",
        "    return var1 / var2\n",
        "result = division(64 , 8)\n",
        "print(result)"
      ],
      "metadata": {
        "colab": {
          "base_uri": "https://localhost:8080/"
        },
        "id": "ORtymTGhmWfX",
        "outputId": "1c1099d4-9f3b-47f6-b7f1-21360293d2d1"
      },
      "execution_count": null,
      "outputs": [
        {
          "output_type": "stream",
          "name": "stdout",
          "text": [
            "8\n",
            "8\n",
            "8\n",
            "8.0\n"
          ]
        }
      ]
    },
    {
      "cell_type": "code",
      "source": [
        "#Very simple conditional using less than or greater than\n",
        "a = 100\n",
        "b = 101\n",
        "\n",
        "if a < b:\n",
        "\n",
        "  print(\"Conditional success\")\n",
        "\n",
        "else:\n",
        "  print(\"Nah\")"
      ],
      "metadata": {
        "colab": {
          "base_uri": "https://localhost:8080/"
        },
        "id": "Gu60FEZvmWZx",
        "outputId": "005c30b0-b946-42f9-e813-518890a5b04d"
      },
      "execution_count": null,
      "outputs": [
        {
          "output_type": "stream",
          "name": "stdout",
          "text": [
            "Conditional success\n"
          ]
        }
      ]
    },
    {
      "cell_type": "code",
      "source": [
        "x = 0\n",
        "while x < 10:         #A program that adds one to 0 until it reaches 10\n",
        "  x += 1\n",
        "  if x == 5:\n",
        "    continue\n",
        "  print(x)\n",
        "print('done')"
      ],
      "metadata": {
        "colab": {
          "base_uri": "https://localhost:8080/"
        },
        "id": "dfxkWGt8Agbw",
        "outputId": "3f722146-f2a6-47fd-c044-40a25fb349f9"
      },
      "execution_count": null,
      "outputs": [
        {
          "output_type": "stream",
          "name": "stdout",
          "text": [
            "1\n",
            "2\n",
            "3\n",
            "4\n",
            "6\n",
            "7\n",
            "8\n",
            "9\n",
            "10\n",
            "done\n"
          ]
        }
      ]
    },
    {
      "cell_type": "code",
      "source": [
        "#For loop and while loop that increments i\n",
        "for i in range(4):\n",
        "    print(i+1)\n",
        "\n",
        "\n",
        "i = 0\n",
        "while i < 4:\n",
        "    print(i)\n",
        "    i = i+1"
      ],
      "metadata": {
        "id": "V0RhTa0oHkVW"
      },
      "execution_count": null,
      "outputs": []
    },
    {
      "cell_type": "code",
      "source": [
        "a = 'Hello World'\n",
        "print (len(a))\n",
        "\n",
        "b = a[4]\n",
        "\n",
        "c = a[-1]\n",
        "\n",
        "print(a[:5])\n"
      ],
      "metadata": {
        "colab": {
          "base_uri": "https://localhost:8080/"
        },
        "id": "G4zN7ggsF1tI",
        "outputId": "e8f56221-8b92-403a-ff15-6fa179ac2ce9"
      },
      "execution_count": null,
      "outputs": [
        {
          "output_type": "stream",
          "name": "stdout",
          "text": [
            "11\n",
            "Hello\n"
          ]
        }
      ]
    },
    {
      "cell_type": "code",
      "source": [
        "#Input output program that says when a number is a multiple of 10\n",
        "\n",
        "number = input(\"Pick a number and I will tell you if it is a multiple of 10!: \")\n",
        "number = int(number)\n",
        "\n",
        "if (number % 10 == 0):\n",
        "  print(\"That's a multiple of 10!\")\n",
        "\n",
        "else:\n",
        "  print(\"That is not a multiple of 10.\")\n"
      ],
      "metadata": {
        "id": "ictdpMB2DtYH"
      },
      "execution_count": null,
      "outputs": []
    },
    {
      "cell_type": "code",
      "source": [
        "#List modifying and sorting\n",
        "\n",
        "games = [\" destiny\", \"persona\", \"minecraft\", \"halo\", \"apex legends\"]\n",
        "games.append(\"spiderman\")\n",
        "games.insert(0, \"final fantasy\")\n",
        "del games[2]\n",
        "print(games)\n",
        "\n",
        "travel_countries = [\"japan\", \"denmark\", \"united kingdom\", \"jamaica\", \"egypt\"]       #Our original list\n",
        "print(f\"\\n{travel_countries}\")\n",
        "\n",
        "print(\"\\nSorted list:\")             #The list is first 'sorted' alphabetically\n",
        "print(sorted(travel_countries))"
      ],
      "metadata": {
        "colab": {
          "base_uri": "https://localhost:8080/"
        },
        "id": "HUboRg7t3wXw",
        "outputId": "8b3e56aa-829e-45c5-b541-93731da77233"
      },
      "execution_count": null,
      "outputs": [
        {
          "output_type": "stream",
          "name": "stdout",
          "text": [
            "['final fantasy', ' destiny', 'minecraft', 'halo', 'apex legends', 'spiderman']\n",
            "\n",
            "['japan', 'denmark', 'united kingdom', 'jamaica', 'egypt']\n",
            "\n",
            "Sorted list:\n",
            "['denmark', 'egypt', 'jamaica', 'japan', 'united kingdom']\n"
          ]
        }
      ]
    },
    {
      "cell_type": "code",
      "source": [
        "\n",
        "import sys\n",
        "\n",
        "if len(sys.argv) != 2:\n",
        "  raise SystemExit(f'Usage:{sys.argv[0]}filename')\n",
        "\n",
        "rows = []\n",
        "with open(sys.argv[1], 'rt') as file:\n",
        "  for line in file:\n",
        "    rows.append(line.split(','))\n"
      ],
      "metadata": {
        "colab": {
          "base_uri": "https://localhost:8080/",
          "height": 145
        },
        "id": "lud-VtPU4yyg",
        "outputId": "e89e5df0-945b-4319-f13e-9c324f4d3bbe"
      },
      "execution_count": null,
      "outputs": [
        {
          "output_type": "error",
          "ename": "SystemExit",
          "evalue": "ignored",
          "traceback": [
            "An exception has occurred, use %tb to see the full traceback.\n",
            "\u001b[0;31mSystemExit\u001b[0m\u001b[0;31m:\u001b[0m Usage:/usr/local/lib/python3.10/dist-packages/colab_kernel_launcher.pyfilename\n"
          ]
        }
      ]
    },
    {
      "cell_type": "code",
      "source": [
        "#I am running into file errors on Collab with this but on VS Code I get Index Errors. Very weird\n",
        "\n",
        "filename = 'Assignment_16.ipynb'\n",
        "\n",
        "portfolio = []\n",
        "with open(filename) as file:\n",
        "  for line in file:\n",
        "    row = line.split(',')\n",
        "    name = row[0]\n",
        "    shares = int(row[1])\n",
        "    price = float(row[2])\n",
        "    holding = (name, shares, price)\n",
        "\n",
        "    portfolio.append(holding)"
      ],
      "metadata": {
        "colab": {
          "base_uri": "https://localhost:8080/",
          "height": 256
        },
        "id": "i51VCHJG9K9A",
        "outputId": "abcbe8e5-3e6e-4ccb-8b35-6c3215e64b5e"
      },
      "execution_count": null,
      "outputs": [
        {
          "output_type": "error",
          "ename": "FileNotFoundError",
          "evalue": "ignored",
          "traceback": [
            "\u001b[0;31m---------------------------------------------------------------------------\u001b[0m",
            "\u001b[0;31mFileNotFoundError\u001b[0m                         Traceback (most recent call last)",
            "\u001b[0;32m<ipython-input-18-9220f5a74d67>\u001b[0m in \u001b[0;36m<cell line: 6>\u001b[0;34m()\u001b[0m\n\u001b[1;32m      4\u001b[0m \u001b[0;34m\u001b[0m\u001b[0m\n\u001b[1;32m      5\u001b[0m \u001b[0mportfolio\u001b[0m \u001b[0;34m=\u001b[0m \u001b[0;34m[\u001b[0m\u001b[0;34m]\u001b[0m\u001b[0;34m\u001b[0m\u001b[0;34m\u001b[0m\u001b[0m\n\u001b[0;32m----> 6\u001b[0;31m \u001b[0;32mwith\u001b[0m \u001b[0mopen\u001b[0m\u001b[0;34m(\u001b[0m\u001b[0mfilename\u001b[0m\u001b[0;34m)\u001b[0m \u001b[0;32mas\u001b[0m \u001b[0mfile\u001b[0m\u001b[0;34m:\u001b[0m\u001b[0;34m\u001b[0m\u001b[0;34m\u001b[0m\u001b[0m\n\u001b[0m\u001b[1;32m      7\u001b[0m   \u001b[0;32mfor\u001b[0m \u001b[0mline\u001b[0m \u001b[0;32min\u001b[0m \u001b[0mfile\u001b[0m\u001b[0;34m:\u001b[0m\u001b[0;34m\u001b[0m\u001b[0;34m\u001b[0m\u001b[0m\n\u001b[1;32m      8\u001b[0m     \u001b[0mrow\u001b[0m \u001b[0;34m=\u001b[0m \u001b[0mline\u001b[0m\u001b[0;34m.\u001b[0m\u001b[0msplit\u001b[0m\u001b[0;34m(\u001b[0m\u001b[0;34m','\u001b[0m\u001b[0;34m)\u001b[0m\u001b[0;34m\u001b[0m\u001b[0;34m\u001b[0m\u001b[0m\n",
            "\u001b[0;31mFileNotFoundError\u001b[0m: [Errno 2] No such file or directory: 'Assignment_16.ipynb'"
          ]
        }
      ]
    },
    {
      "cell_type": "code",
      "source": [
        "#Program termination\n",
        "raise SystemExit()\n",
        "\n",
        "raise SystemExit(\"Something is wrong\")\n",
        "\n",
        "#forces the program to terminate using SystemExit\n"
      ],
      "metadata": {
        "colab": {
          "base_uri": "https://localhost:8080/",
          "height": 127
        },
        "id": "cy7uz8uvGwCj",
        "outputId": "e8220b7d-c7de-4650-c3a8-82d0655c8f7b"
      },
      "execution_count": null,
      "outputs": [
        {
          "output_type": "error",
          "ename": "SystemExit",
          "evalue": "ignored",
          "traceback": [
            "An exception has occurred, use %tb to see the full traceback.\n",
            "\u001b[0;31mSystemExit\u001b[0m\n"
          ]
        }
      ]
    },
    {
      "cell_type": "code",
      "source": [
        "#Objects and classes  <------The class is used to define new types of objects for object-oriented programming\n",
        "class Stack:\n",
        "  def __init__(self):\n",
        "\n",
        "    self.items = []\n",
        "\n",
        "  def push(self, item):\n",
        "    self._items.append(item)\n",
        "\n",
        "  def pop(self):\n",
        "    return self._items.pop()\n",
        "\n",
        "  def __repr__(self):       #repr changes the way that a stack is displayed and printed, it can also simplify bugging (I didnt know this)\n",
        "    return f'<{type(self).__Name__} at 0x{id(self):x}, size={len(self)}>'\n",
        "\n",
        "  def __len__(self):        #__len__ makes a stack work with the built-in len function (I didnt know this)\n",
        "    return len(self._items)"
      ],
      "metadata": {
        "id": "N9buHw2CS4iK"
      },
      "execution_count": null,
      "outputs": []
    },
    {
      "cell_type": "code",
      "source": [
        "#Modules  ---  Involves using the import statement to break programs into multiple files for easier maintenance\n",
        "\n",
        "def get_formatted_name(first, last, middle=''):\n",
        "    if middle:\n",
        "\n",
        "        full_name = f\"{first} {middle} {last}\"\n",
        "    else:\n",
        "        full_name = f\"{first} {last}\"\n",
        "    return full_name.title()\n",
        "\n",
        "#################################################\n",
        "\n",
        "from name_function import get_formatted_name\n",
        "\n",
        "print(\"Enter 'q' to quit.\")\n",
        "\n",
        "while True:\n",
        "    first = input (\"\\nPlease give me a first name: \")\n",
        "\n",
        "    if first == 'q':\n",
        "        break\n",
        "    last = input(\"Please give me a last name: \")\n",
        "    if last == 'q':\n",
        "        break\n",
        "\n",
        "    formatted_name = get_formatted_name(first, last)\n",
        "\n",
        "    print(f\"\\tNeatly formatted name: {formatted_name}.\")\n",
        "\n"
      ],
      "metadata": {
        "id": "c6Hl_XdVWwhJ"
      },
      "execution_count": null,
      "outputs": []
    },
    {
      "cell_type": "code",
      "source": [
        "#Script writing\n",
        "\n",
        "import random\n",
        "\n",
        "class GuessingGame:\n",
        "    \"\"\"This is a number guessing game. When an instance is created, it picks a number between 1 and 10, and the user can be asked to guess the number.\"\"\"\n",
        "    def __init__(self):\n",
        "        \"\"\"When an instance is created, it picks a number between 1 and 10.\"\"\"\n",
        "        self.num = random.randint(1, 10)\n",
        "        self.done = False\n",
        "\n",
        "\n",
        "if __name__ == \"__main__\":          ###__name__ variable is set to '__main__' if the program is run as the main script\n",
        "    game = GuessingGame()\n",
        "    game.playGame()"
      ],
      "metadata": {
        "id": "5fQ_5O4hcYpk"
      },
      "execution_count": null,
      "outputs": []
    },
    {
      "cell_type": "code",
      "source": [
        "#Packages\n",
        "\n",
        "tutorial/       #textbook example of package structure\n",
        "  __init__.py   #A collection of modules\n",
        "  readport.py\n",
        "  pcost.py\n",
        "  stack.py\n",
        "  ...\n",
        "\n",
        "#############\n",
        "#Nested import statement\n",
        "\n",
        "import tutorial.readport\n",
        "\n",
        "port = tutorial.readport.read_portfolio('portfolio.dat')\n",
        "\n",
        "######\n",
        "#Shortened version of nested import\n",
        "from tutorial.readport import read_portfolio\n",
        "\n",
        "port = read_portfolio('portfolio.dat')\n",
        "\n"
      ],
      "metadata": {
        "colab": {
          "base_uri": "https://localhost:8080/",
          "height": 145
        },
        "id": "_aNA52FbgBR7",
        "outputId": "d793f9ce-39db-4d8d-f550-a820b67da13a"
      },
      "execution_count": null,
      "outputs": [
        {
          "output_type": "error",
          "ename": "SyntaxError",
          "evalue": "ignored",
          "traceback": [
            "\u001b[0;36m  File \u001b[0;32m\"<ipython-input-6-eedaaaa22dbf>\"\u001b[0;36m, line \u001b[0;32m3\u001b[0m\n\u001b[0;31m    tutorial/       #\u001b[0m\n\u001b[0m                    ^\u001b[0m\n\u001b[0;31mSyntaxError\u001b[0m\u001b[0;31m:\u001b[0m invalid syntax\n"
          ]
        }
      ]
    },
    {
      "cell_type": "code",
      "source": [
        "#Structuring an Application\n",
        "\n",
        "tutorial/       #textbook example of package structure\n",
        "  __init__.py   #A collection of modules\n",
        "  readport.py\n",
        "  pcost.py\n",
        "  stack.py\n",
        "  ...\n",
        "tests/\n",
        "  test_stack.py\n",
        "  test_pcost.py\n",
        "  ...\n",
        "examples/\n",
        "  sample.py\n",
        "  ...\n",
        "doc/\n",
        "  tutorial.txt\n",
        "  ...\n",
        "###Overall structure to aim for when working on a project with others (Making your code readable is the priority)"
      ],
      "metadata": {
        "id": "d2-zgW83nRkp"
      },
      "execution_count": null,
      "outputs": []
    },
    {
      "cell_type": "code",
      "source": [
        "#Managing Third Party Packages\n",
        "\n",
        "#-m pip install \"packagename\" allows you to install packages through the terminal\n",
        "\n",
        "import pandas\n",
        "\n",
        "pandas.__file__\n",
        "'/usr/local/blah/blah/blah/__init__.py'      ###Can be used if you want to know where a package is coming from\n",
        "\n"
      ],
      "metadata": {
        "id": "LTTzNrrcn-qj"
      },
      "execution_count": null,
      "outputs": []
    },
    {
      "cell_type": "code",
      "source": [
        "#Things I Learned\n",
        "\n",
        "\n",
        "#-  It is common to use #! to specify the interpreter\n",
        "#-  str() and repr() both create strings but their output is different\n",
        "#-  repr changes the way that a stack is displayed and printed, it can also simplify bugging\n",
        "#-  __len__ makes a stack work with the built-in len function (I didnt know this)\n",
        "#-  I learned how to create and format packages\n",
        "#-  Python is alot more complex than I originally thought"
      ],
      "metadata": {
        "id": "OkoMSGEPpqov"
      },
      "execution_count": null,
      "outputs": []
    }
  ]
}