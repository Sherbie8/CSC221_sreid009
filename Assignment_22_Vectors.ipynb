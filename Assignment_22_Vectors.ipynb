{
  "nbformat": 4,
  "nbformat_minor": 0,
  "metadata": {
    "colab": {
      "provenance": [],
      "authorship_tag": "ABX9TyPaM/8Bgpr0oXj8aTNaqmvN",
      "include_colab_link": true
    },
    "kernelspec": {
      "name": "python3",
      "display_name": "Python 3"
    },
    "language_info": {
      "name": "python"
    }
  },
  "cells": [
    {
      "cell_type": "markdown",
      "metadata": {
        "id": "view-in-github",
        "colab_type": "text"
      },
      "source": [
        "<a href=\"https://colab.research.google.com/github/Sherbie8/CSC221_sreid009/blob/main/Assignment_22_Vectors.ipynb\" target=\"_parent\"><img src=\"https://colab.research.google.com/assets/colab-badge.svg\" alt=\"Open In Colab\"/></a>"
      ]
    },
    {
      "cell_type": "code",
      "execution_count": null,
      "metadata": {
        "colab": {
          "base_uri": "https://localhost:8080/"
        },
        "id": "JwXLheqaMpq4",
        "outputId": "d50755df-1a89-4667-e2ec-5753c5336f3c"
      },
      "outputs": [
        {
          "output_type": "stream",
          "name": "stdout",
          "text": [
            "Original Vectors:\n",
            "(3, 4)\n",
            "(1, 2)\n",
            "(0, 1)\n",
            "\n",
            "Sorted Vectors by Length:\n",
            "(0, 1)\n",
            "(1, 2)\n",
            "(3, 4)\n"
          ]
        }
      ],
      "source": [
        "#22.1 (Vector Class)\n",
        "\n",
        "import math\n",
        "\n",
        "class Vector2D:\n",
        "    def __init__(self, x, y):\n",
        "        self.x = x\n",
        "        self.y = y\n",
        "\n",
        "    def __str__(self):\n",
        "        return f\"({self.x}, {self.y})\"\n",
        "\n",
        "    def length(self):\n",
        "        return math.sqrt(self.x**2 + self.y**2)\n",
        "\n",
        "# Example usage:\n",
        "vectors = [Vector2D(3, 4), Vector2D(1, 2), Vector2D(0, 1)]\n",
        "\n",
        "# Print original vectors\n",
        "print(\"Original Vectors:\")\n",
        "for vector in vectors:\n",
        "    print(vector)\n",
        "\n",
        "# Sort vectors by length\n",
        "sorted_vectors = sorted(vectors, key=lambda v: v.length())\n",
        "\n",
        "# Print sorted vectors\n",
        "print(\"\\nSorted Vectors by Length:\")\n",
        "for vector in sorted_vectors:\n",
        "    print(vector)"
      ]
    },
    {
      "cell_type": "code",
      "source": [
        "#22.2 (Modified Vector Class)\n",
        "import math\n",
        "\n",
        "class Vector2D:\n",
        "    def __init__(self, x, y):\n",
        "        self.x = x\n",
        "        self.y = y\n",
        "\n",
        "    def __str__(self):\n",
        "        return f\"({self.x}, {self.y})\"\n",
        "\n",
        "    def euclidean_length(self):     #I had the same problem with chatgpt not changing the math here\n",
        "        return (self.x + self.y)\n",
        "\n",
        "\n",
        "# Example usage:\n",
        "vectors = [Vector2D(3, 4), Vector2D(1, 2), Vector2D(0, 1)]\n",
        "\n",
        "# Print original vectors\n",
        "print(\"Original Vectors:\")\n",
        "for vector in vectors:\n",
        "    print(vector)\n",
        "\n",
        "# Sort vectors by the sum of x and y\n",
        "sorted_vectors = sorted(vectors, key=lambda v: v.euclidean_length())\n",
        "\n",
        "# Print sorted vectors\n",
        "print(\"\\nSorted Vectors by Sum of Coordinates:\")\n",
        "for vector in sorted_vectors:\n",
        "    print(vector)"
      ],
      "metadata": {
        "colab": {
          "base_uri": "https://localhost:8080/"
        },
        "id": "b9GIcyPtR82S",
        "outputId": "703105c4-16b9-4493-e0ca-763142b57b28"
      },
      "execution_count": null,
      "outputs": [
        {
          "output_type": "stream",
          "name": "stdout",
          "text": [
            "Original Vectors:\n",
            "(3, 4)\n",
            "(1, 2)\n",
            "(0, 1)\n",
            "\n",
            "Sorted Vectors by Sum of Coordinates:\n",
            "(0, 1)\n",
            "(1, 2)\n",
            "(3, 4)\n"
          ]
        }
      ]
    },
    {
      "cell_type": "code",
      "source": [
        "#22.3 (Key length exercise)\n",
        "\n",
        "class KeyLengthContainer:\n",
        "    def __init__(self):\n",
        "        self.data = {}\n",
        "\n",
        "    def __getitem__(self, key):\n",
        "        return len(str(key))\n",
        "\n",
        "    def __setitem__(self, key, value):\n",
        "        self.data[key] = value\n",
        "\n",
        "    def __len__(self):\n",
        "        return len(self.data)\n",
        "\n",
        "# Example usage:\n",
        "container = KeyLengthContainer()\n",
        "\n",
        "print(container['samuel'])  # Output: 6\n",
        "print(container['reid'])  # Output: 4\n",
        "print(container['csc221'*20])  # Output: 120\n"
      ],
      "metadata": {
        "colab": {
          "base_uri": "https://localhost:8080/"
        },
        "id": "_YucRbyqYo9-",
        "outputId": "e5528582-4212-454d-da6b-27ad52d89599"
      },
      "execution_count": null,
      "outputs": [
        {
          "output_type": "stream",
          "name": "stdout",
          "text": [
            "0\n",
            "6\n",
            "4\n",
            "120\n"
          ]
        }
      ]
    }
  ]
}