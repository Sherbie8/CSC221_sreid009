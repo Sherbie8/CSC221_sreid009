{
  "nbformat": 4,
  "nbformat_minor": 0,
  "metadata": {
    "colab": {
      "provenance": []
    },
    "kernelspec": {
      "name": "python3",
      "display_name": "Python 3"
    },
    "language_info": {
      "name": "python"
    }
  },
  "cells": [
    {
      "cell_type": "markdown",
      "source": [
        "# Assignment 20\n",
        "## CSC 221\n",
        "- PLEASE INSERT YOUR NAME HERE!\n",
        "\n",
        "### Instructions:\n",
        "Fill in each code cell below the question. We are following along in Chapter 4 of Python Distilled."
      ],
      "metadata": {
        "id": "IAOUzGWE1eDx"
      }
    },
    {
      "cell_type": "code",
      "execution_count": null,
      "metadata": {
        "id": "Gnj3su7i5-lx",
        "colab": {
          "base_uri": "https://localhost:8080/"
        },
        "outputId": "40bf34bf-2970-4d26-f986-6806fd060e17"
      },
      "outputs": [
        {
          "output_type": "stream",
          "name": "stdout",
          "text": [
            "19\n",
            "44.5\n",
            "asdfg13\n"
          ]
        }
      ],
      "source": [
        "# 4.1 Essential Concepts\n",
        "\n",
        "# When we write \"a + b\" in Python, the interpreter tries to execute a.__add__(b)\n",
        "\n",
        "# Show that this is true by trying the following:\n",
        "a = 6\n",
        "b = 31.5\n",
        "c = 'eighty'\n",
        "a1 = a.__add__(93)\n",
        "b1 = b.__add__(17.4)\n",
        "c1 = c.__add__('three')\n",
        "print(a1)\n",
        "print(b1)\n",
        "print(c1)\n",
        "\n",
        "# What are the types of a, b, and c?\n",
        "#- A1 is a demical\n",
        "#- B1 is a float\n",
        "#- C1 is a string\n",
        "\n",
        "# Explain the results\n",
        "\n",
        "#Each value is assigned to their respective variable and then a calculation is executed using the\n",
        "#__add__ method, another implementation of the + operator."
      ]
    },
    {
      "cell_type": "code",
      "source": [
        "# 4.2 through 4.4 will be covered in the next assignment\n"
      ],
      "metadata": {
        "id": "w2uYd3DO2do6"
      },
      "execution_count": null,
      "outputs": []
    },
    {
      "cell_type": "code",
      "source": [
        "# 4.5 str and repr\n",
        "# How many categpries of printing are shown below for a datetime object?\n",
        "# What in the Pythion code makes each one get callled?\n",
        "\n",
        "from datetime import date\n",
        "d = date(2023, 11, 7)\n",
        "\n",
        "print(d)           #<---- Basic String\n",
        "print(f'{d}')      #<---- Basic String\n",
        "print(f'{d!s}')    #<---- Basic String\n",
        "print(f'{d!r}')    #|---- repr function\n",
        "print(str(d))      #<---- Basic String\n",
        "print(repr(d))     #|---- repr function\n",
        "print(d.__str__()) #<---- Basic String\n",
        "print(d.__repr__())#|---- repr function\n",
        "\n",
        "#In string formatting, the '!r' suffix fan be added to a value to produce\n",
        "#its repr() value instead of the normal string conversion."
      ],
      "metadata": {
        "id": "Aa3ylzmV2wNF",
        "colab": {
          "base_uri": "https://localhost:8080/"
        },
        "outputId": "1f5b9e1d-0fe1-45c5-b26c-b44e87277cf5"
      },
      "execution_count": null,
      "outputs": [
        {
          "output_type": "stream",
          "name": "stdout",
          "text": [
            "2023-11-07\n",
            "2023-11-07\n",
            "2023-11-07\n",
            "datetime.date(2023, 11, 7)\n",
            "2023-11-07\n",
            "datetime.date(2023, 11, 7)\n",
            "2023-11-07\n",
            "datetime.date(2023, 11, 7)\n"
          ]
        }
      ]
    },
    {
      "cell_type": "code",
      "source": [
        "# 4.6 First-Class Objects\n",
        "# What is the significance of all objects being \"first-class\" in Python?\n",
        "\n",
        "#All objects being first class means that all objects can be assigned to a name and treated\n",
        "#as data. As data, objects can be stored as variables, passed as arguments, returned from functions,\n",
        "#compared against other objects, and more.\n",
        "\n",
        "# Explain by typing in the code to create and use the 'items' dictionary shown in section 4.6.\n",
        "\n",
        "items = {\n",
        "    'number' : 42               #Im using the same format as the textbook but am getting\n",
        "    'text' : \"Hello World\"      #a syntax error?\n",
        "}\n",
        "\n",
        "items['func'] = abs\n",
        "\n",
        "import math\n",
        "items['mod'] = math\n",
        "\n",
        "items['error'] = ValueError\n",
        "\n",
        "nums = [1,2,3,4]\n",
        "items['append'] = nums.append\n",
        "# Explain each of the lines starting with '>>>' in the section."
      ],
      "metadata": {
        "id": "9LRpP06Vsw6n",
        "colab": {
          "base_uri": "https://localhost:8080/",
          "height": 163
        },
        "outputId": "1f86eb1e-4b89-4a94-bd3b-045aadca082c"
      },
      "execution_count": null,
      "outputs": [
        {
          "output_type": "error",
          "ename": "SyntaxError",
          "evalue": "ignored",
          "traceback": [
            "\u001b[0;36m  File \u001b[0;32m\"<ipython-input-2-35ce8b6d84de>\"\u001b[0;36m, line \u001b[0;32m11\u001b[0m\n\u001b[0;31m    'number' : 42               #Im using the same format as the textbook but am get\u001b[0m\n\u001b[0m               ^\u001b[0m\n\u001b[0;31mSyntaxError\u001b[0m\u001b[0;31m:\u001b[0m invalid syntax. Perhaps you forgot a comma?\n"
          ]
        }
      ]
    },
    {
      "cell_type": "code",
      "source": [
        "# 4.7 Using None\n",
        "# Write a function that takes two parameters and returns their sum if they are\n",
        "#  integers or returns None if either one is not.\n",
        "\n",
        "# Put in some test code to show that your function works\n",
        "\n",
        "# INSERT YOUR CODE HERE\n",
        "def addition(x, y):\n",
        "  while True:\n",
        "    try:\n",
        "      x = int(input(\"Enter first number: \"))\n",
        "      y = int(input(\"Enter second number: \"))\n",
        "      return x + y\n",
        "    except ValueError:\n",
        "      return None\n",
        "(addition(x, y))\n",
        "\n"
      ],
      "metadata": {
        "id": "dUhRWGnCtewU",
        "colab": {
          "base_uri": "https://localhost:8080/",
          "height": 227
        },
        "outputId": "33d0dbbe-9e34-4538-a2af-821ed56ffd12"
      },
      "execution_count": 6,
      "outputs": [
        {
          "output_type": "error",
          "ename": "NameError",
          "evalue": "ignored",
          "traceback": [
            "\u001b[0;31m---------------------------------------------------------------------------\u001b[0m",
            "\u001b[0;31mNameError\u001b[0m                                 Traceback (most recent call last)",
            "\u001b[0;32m<ipython-input-6-ad4bd0a311a0>\u001b[0m in \u001b[0;36m<cell line: 16>\u001b[0;34m()\u001b[0m\n\u001b[1;32m     14\u001b[0m     \u001b[0;32mexcept\u001b[0m \u001b[0mValueError\u001b[0m\u001b[0;34m:\u001b[0m\u001b[0;34m\u001b[0m\u001b[0;34m\u001b[0m\u001b[0m\n\u001b[1;32m     15\u001b[0m       \u001b[0;32mreturn\u001b[0m \u001b[0;32mNone\u001b[0m\u001b[0;34m\u001b[0m\u001b[0;34m\u001b[0m\u001b[0m\n\u001b[0;32m---> 16\u001b[0;31m \u001b[0;34m(\u001b[0m\u001b[0maddition\u001b[0m\u001b[0;34m(\u001b[0m\u001b[0mx\u001b[0m\u001b[0;34m,\u001b[0m \u001b[0my\u001b[0m\u001b[0;34m)\u001b[0m\u001b[0;34m)\u001b[0m\u001b[0;34m\u001b[0m\u001b[0;34m\u001b[0m\u001b[0m\n\u001b[0m\u001b[1;32m     17\u001b[0m \u001b[0;34m\u001b[0m\u001b[0m\n",
            "\u001b[0;31mNameError\u001b[0m: name 'x' is not defined"
          ]
        }
      ]
    },
    {
      "cell_type": "code",
      "source": [],
      "metadata": {
        "id": "GVbOjCRASys3"
      },
      "execution_count": null,
      "outputs": []
    },
    {
      "cell_type": "code",
      "source": [
        "from typing_extensions import Self\n",
        "# 4.9 Object Protocol bv\n",
        "# Create a simple object that has methods for:\n",
        "#  __new__\n",
        "#  __init__\n",
        "#  __del__\n",
        "#  __repr__\n",
        "#  __str__\n",
        "\n",
        "# Put in some test code to show how and when each of these 'magic' functions gets called.\n",
        "\n",
        "# INSERT YOUR CODE HERE\n",
        "class SomeClass:\n",
        "\n",
        "  a = 3\n",
        "  b = 4\n",
        "\n",
        "x = SomeClass.__new__(SomeClass, Self)\n",
        "\n",
        "if isinstance(x, SomeClass):\n",
        "  x.__init__(Self)\n",
        "\n",
        "def game(self):\n",
        "  return a+b\n",
        "\n",
        "def __del__(self):\n",
        "  if a == 3:\n",
        "\n",
        "    del game\n",
        "\n",
        "#Honestly I got lost with this one, I was planning to create a game with all the methods\n",
        "#with the textbook as a template but I dont know how to use del and repr\n",
        "\n"
      ],
      "metadata": {
        "id": "4M-CQevEt2xQ",
        "colab": {
          "base_uri": "https://localhost:8080/",
          "height": 245
        },
        "outputId": "03758771-6366-4d1e-b502-5f514f1b7edc"
      },
      "execution_count": 4,
      "outputs": [
        {
          "output_type": "error",
          "ename": "TypeError",
          "evalue": "ignored",
          "traceback": [
            "\u001b[0;31m---------------------------------------------------------------------------\u001b[0m",
            "\u001b[0;31mTypeError\u001b[0m                                 Traceback (most recent call last)",
            "\u001b[0;32m<ipython-input-4-9f67527686ae>\u001b[0m in \u001b[0;36m<cell line: 18>\u001b[0;34m()\u001b[0m\n\u001b[1;32m     16\u001b[0m   \u001b[0mb\u001b[0m \u001b[0;34m=\u001b[0m \u001b[0;36m4\u001b[0m\u001b[0;34m\u001b[0m\u001b[0;34m\u001b[0m\u001b[0m\n\u001b[1;32m     17\u001b[0m \u001b[0;34m\u001b[0m\u001b[0m\n\u001b[0;32m---> 18\u001b[0;31m \u001b[0mx\u001b[0m \u001b[0;34m=\u001b[0m \u001b[0mSomeClass\u001b[0m\u001b[0;34m.\u001b[0m\u001b[0m__new__\u001b[0m\u001b[0;34m(\u001b[0m\u001b[0mSomeClass\u001b[0m\u001b[0;34m,\u001b[0m \u001b[0mSelf\u001b[0m\u001b[0;34m)\u001b[0m\u001b[0;34m\u001b[0m\u001b[0;34m\u001b[0m\u001b[0m\n\u001b[0m\u001b[1;32m     19\u001b[0m \u001b[0;34m\u001b[0m\u001b[0m\n\u001b[1;32m     20\u001b[0m \u001b[0;32mif\u001b[0m \u001b[0misinstance\u001b[0m\u001b[0;34m(\u001b[0m\u001b[0mx\u001b[0m\u001b[0;34m,\u001b[0m \u001b[0mSomeClass\u001b[0m\u001b[0;34m)\u001b[0m\u001b[0;34m:\u001b[0m\u001b[0;34m\u001b[0m\u001b[0;34m\u001b[0m\u001b[0m\n",
            "\u001b[0;31mTypeError\u001b[0m: SomeClass() takes no arguments"
          ]
        }
      ]
    }
  ]
}