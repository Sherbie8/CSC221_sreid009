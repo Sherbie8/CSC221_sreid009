{
  "nbformat": 4,
  "nbformat_minor": 0,
  "metadata": {
    "colab": {
      "provenance": [],
      "include_colab_link": true
    },
    "kernelspec": {
      "name": "python3",
      "display_name": "Python 3"
    },
    "language_info": {
      "name": "python"
    }
  },
  "cells": [
    {
      "cell_type": "markdown",
      "metadata": {
        "id": "view-in-github",
        "colab_type": "text"
      },
      "source": [
        "<a href=\"https://colab.research.google.com/github/Sherbie8/CSC221_sreid009/blob/main/Copy_of_Assignment18.ipynb\" target=\"_parent\"><img src=\"https://colab.research.google.com/assets/colab-badge.svg\" alt=\"Open In Colab\"/></a>"
      ]
    },
    {
      "cell_type": "markdown",
      "source": [
        "# Assignment 18\n",
        "## CSC 221\n",
        "- PLEASE INSERT YOUR NAME HERE!\n",
        "\n",
        "### Instructions:\n",
        "Fill in each code cell below the question. We are following along in Chapter 2 of Python Distilled."
      ],
      "metadata": {
        "id": "IAOUzGWE1eDx"
      }
    },
    {
      "cell_type": "code",
      "execution_count": null,
      "metadata": {
        "id": "Gnj3su7i5-lx",
        "colab": {
          "base_uri": "https://localhost:8080/"
        },
        "outputId": "5489b0f6-af4e-4298-f249-4b411d517abc"
      },
      "outputs": [
        {
          "output_type": "stream",
          "name": "stdout",
          "text": [
            "11101000100111\n",
            "0x3a27\n"
          ]
        }
      ],
      "source": [
        "# 2.1 Literals\n",
        "\n",
        "# Show how to compute hex 3a27 plus binary 110101111 - 30 decimal using Python literals\n",
        "\n",
        "# INSERT YOUR CODE HERE\n",
        "\n",
        "hex_string = \"3a27\"\n",
        "\n",
        "hex_integer = int(hex_string,16)\n",
        "\n",
        "binary_string = bin(hex_integer)\n",
        "\n",
        "binary_string = binary_string[2:]\n",
        "\n",
        "print(binary_string)\n",
        "#Converts hex to binary\n",
        "#################\n",
        "\n",
        "first_hex = \"3a27\"\n",
        "second_hex = \"1af\"\n",
        "third_hex = \"1e\"\n",
        "\n",
        "first_hexint = int(first_hex, 16)\n",
        "second_hexint = int(second_hex, 16)\n",
        "third_hexint = int(second_hex, 16)\n",
        "\n",
        "total = hex(first_hexint + second_hexint - third_hexint)\n",
        "\n",
        "print(total)\n",
        "\n",
        "#Calculates the the sum between all three hexadecimals."
      ]
    },
    {
      "cell_type": "code",
      "source": [
        "# 2.2 Expressions\n",
        "# I'll make you a small file in the cell below. You can just run this."
      ],
      "metadata": {
        "id": "w2uYd3DO2do6"
      },
      "execution_count": null,
      "outputs": []
    },
    {
      "cell_type": "code",
      "source": [
        "%%file small_file.txt\n",
        "I am the first line of the file.\n",
        "I am the second line. I contain secrets so please don't print me!\n",
        "I am the last line.\n"
      ],
      "metadata": {
        "colab": {
          "base_uri": "https://localhost:8080/"
        },
        "id": "Aa3ylzmV2wNF",
        "outputId": "9bbfcd76-b0a1-4b02-fc74-7b20e026f03a"
      },
      "execution_count": null,
      "outputs": [
        {
          "output_type": "stream",
          "name": "stdout",
          "text": [
            "Overwriting small_file.txt\n"
          ]
        }
      ]
    },
    {
      "cell_type": "code",
      "source": [
        "# Now fix the code below code and print all the lines of the file EXCEPT line 2\n",
        "file1 = open('small_file.txt', 'r')\n",
        "# FIX THE TWO LINES BELOW\n",
        "while (line:=file1.readline()):\n",
        "    print(line)\n",
        "file1.close()"
      ],
      "metadata": {
        "id": "RcnlhAYc26bz",
        "colab": {
          "base_uri": "https://localhost:8080/"
        },
        "outputId": "3cfd1044-d342-48f0-dda5-cded9f628e82"
      },
      "execution_count": null,
      "outputs": [
        {
          "output_type": "stream",
          "name": "stdout",
          "text": [
            "I am the first line of the file.\n",
            "\n",
            "I am the second line. I contain secrets so please don't print me!\n",
            "\n",
            "I am the last line.\n",
            "\n",
            "\n",
            "\n",
            "\n",
            "\n",
            "\n",
            "\n",
            "# Now fix the code below code and print all the lines of the file EXCEPT line 2\n",
            "\n",
            "file1 = open('small_file.txt', 'r')\n",
            "\n",
            "# FIX THE TWO LINES BELOW\n",
            "\n",
            "while (line:=file1.readline()):\n",
            "\n",
            "    print(line)\n",
            "\n",
            "file1.close()\n",
            "\n"
          ]
        }
      ]
    },
    {
      "cell_type": "code",
      "source": [
        "# 2.3 Standard Operators\n",
        "# Experiment with pow(x, y, modulo). What does modulo do?\n",
        "# INSERT YOUR CODE HERE\n",
        "\n",
        "x = 3\n",
        "y = 6\n",
        "print(pow(x,y))      #<----raises 3 to the 6th power\n",
        "print(x%y)          #<----modulo returns the remainder of dividing the left-hand operand by right-hand operand\n",
        "\n",
        "# Experiment with round(x, n). What does n do? What about n=2 vs n=-2?\n",
        "# INSERT YOUR CODE HERE\n",
        "\n",
        "print(round(x,-2))\n",
        "print(round(x,2))\n",
        "#rounds to the nearest multiple of 10-n"
      ],
      "metadata": {
        "id": "my7GSDpN3i0b",
        "colab": {
          "base_uri": "https://localhost:8080/"
        },
        "outputId": "99f9cab4-2cf7-45fe-e650-c729dac6fe16"
      },
      "execution_count": null,
      "outputs": [
        {
          "output_type": "stream",
          "name": "stdout",
          "text": [
            "729\n",
            "3\n",
            "0\n",
            "3\n"
          ]
        }
      ]
    },
    {
      "cell_type": "code",
      "source": [
        "# 2.4 In-Place Assignment\n",
        "# What should a = [1, 2, 3] followed by a += [7, 6, 5] do? Show me!\n",
        "# INSERT YOUR CODE HERE\n",
        "\n",
        "a = [1, 2, 3]\n",
        "\n",
        "a += [7, 6, 5]      #<---- creates a new reference to a without creating a new list\n",
        "\n",
        "print(a)\n",
        "\n",
        "# What should a = [1, 2, 3] followed by a *= 4 do? Show me!\n",
        "# INSERT YOUR CODE HERE\n",
        "\n",
        "a = [1, 2, 3]\n",
        "\n",
        "a *= 4        #<----- repeats the values *= n amount of times\n",
        "\n",
        "print(a)\n",
        "\n"
      ],
      "metadata": {
        "id": "EFrCMekW4ojR",
        "colab": {
          "base_uri": "https://localhost:8080/"
        },
        "outputId": "02e8f47b-cf76-4e89-d015-8e501fbc7d94"
      },
      "execution_count": null,
      "outputs": [
        {
          "output_type": "stream",
          "name": "stdout",
          "text": [
            "[1, 2, 3, 7, 6, 5]\n",
            "[1, 2, 3, 1, 2, 3, 1, 2, 3, 1, 2, 3]\n"
          ]
        }
      ]
    },
    {
      "cell_type": "code",
      "source": [
        "# 2.5 Object Comparison\n",
        "# Make an exanmple showing the difference between == and is.\n",
        "# INSERT YOUR CODE HERE\n",
        "\n",
        "   #<---- python assigns 4 to the variable 'a'\n",
        "\n",
        "a = 4\n",
        "b = 4\n",
        "\n",
        "a is b          ####<---- python returns false because a and b are not the same named variable\n",
        "\n",
        "a == b          ####<---- python returns true because a and b represent the same value\n",
        "\n",
        "#Two variables cannot be the same but they can have the same values attached to them"
      ],
      "metadata": {
        "id": "UWCXhW-z5la5",
        "colab": {
          "base_uri": "https://localhost:8080/"
        },
        "outputId": "44ee49a1-4973-435a-ad4d-76be264547a5"
      },
      "execution_count": null,
      "outputs": [
        {
          "output_type": "execute_result",
          "data": {
            "text/plain": [
              "True"
            ]
          },
          "metadata": {},
          "execution_count": 11
        }
      ]
    },
    {
      "cell_type": "code",
      "source": [
        "# 2.7 Boolean Expressions and Truth\n",
        "# Why does the code below only output 'Ned'?\n",
        "def ned():\n",
        "    print('Ned')\n",
        "    return False\n",
        "def lecky():\n",
        "    print(\"lecky\")\n",
        "    return False;\n",
        "if ned() and lecky():\n",
        "    print('wrote this')\n",
        "\n",
        "# YOUR EXPLANATION HERE\n",
        "\n",
        "#Due to the way python reads code from top to bottom, the function will read print('Ned') before returning false.\n",
        "#After returning false, python will not continue executing code unless def ned() returns True."
      ],
      "metadata": {
        "colab": {
          "base_uri": "https://localhost:8080/"
        },
        "id": "Fj_5lKR96FSS",
        "outputId": "36a666e3-61f0-4c46-c714-3ff2586dffbd"
      },
      "execution_count": null,
      "outputs": [
        {
          "output_type": "stream",
          "name": "stdout",
          "text": [
            "Ned\n"
          ]
        }
      ]
    },
    {
      "cell_type": "code",
      "source": [
        "# 2.8 Conditional Expressions\n",
        "# Convert the code called out into a one-line conditional expression...\n",
        "# And what does that format do?\n",
        "import random\n",
        "random.seed(42)\n",
        "\n",
        "def above_or_below():\n",
        "    x = random.randint(1,100)\n",
        "    # MAKE THE FOLLOWING 4 LINES INTO ONE CONDITIONAL EXPRESSION\n",
        "    if x < 50:\n",
        "        y = -1\n",
        "    else:\n",
        "        y = +1\n",
        "    return y\n",
        "   # y = -1 if x < 50 else y = +1  #Same format as the book but I am getting a syntax error?\n",
        "   # return y\n",
        "\n",
        "for i in range(10):\n",
        "    # WHAT DOES THIS LINE DO?\n",
        "    print(format(above_or_below(),\"+d\")) ###<----formats the function above_or_below into decimal or whole numbers in a range of 10\n",
        "\n",
        "\n",
        "\n"
      ],
      "metadata": {
        "colab": {
          "base_uri": "https://localhost:8080/"
        },
        "id": "9GKEDK3T6cTg",
        "outputId": "30380242-22d6-49e7-cf6e-e39f2ba2d2fc"
      },
      "execution_count": null,
      "outputs": [
        {
          "output_type": "stream",
          "name": "stdout",
          "text": [
            "+1\n",
            "-1\n",
            "-1\n",
            "+1\n",
            "-1\n",
            "-1\n",
            "-1\n",
            "-1\n",
            "+1\n",
            "-1\n"
          ]
        }
      ]
    },
    {
      "cell_type": "code",
      "source": [
        "# 2.9 Iterables\n",
        "# Show an example of every iterable in Table 2.5\n",
        "\n",
        "# INSERT YOUR CODE HERE\n",
        "for i in range(10):     #       <- Iteration\n",
        "  print(4)\n",
        "\n",
        "cars = ['toyota', 'audi', 'bmw']    #<- Variable Unpacking\n",
        "car_1, car_2, car_3 = cars\n",
        "print(car_2)\n",
        "\n",
        "print('toyota' in cars)       #<- Python membership\n",
        "\n",
        "cars.append('dodge')        #<- List expansion\n",
        "\n",
        "for car in cars:\n",
        "  print(car)"
      ],
      "metadata": {
        "id": "6H9OQXgx7ecP",
        "colab": {
          "base_uri": "https://localhost:8080/"
        },
        "outputId": "e72df380-8b17-4595-b8c1-d5cae5340eb8"
      },
      "execution_count": null,
      "outputs": [
        {
          "output_type": "stream",
          "name": "stdout",
          "text": [
            "4\n",
            "4\n",
            "4\n",
            "4\n",
            "4\n",
            "4\n",
            "4\n",
            "4\n",
            "4\n",
            "4\n",
            "audi\n",
            "True\n",
            "toyota\n",
            "audi\n",
            "bmw\n",
            "dodge\n"
          ]
        }
      ]
    },
    {
      "cell_type": "code",
      "source": [
        "# 2.10 Operations on Sequences\n",
        "# Show that the exam ple at the end pof section 2.10 are correct\n",
        "# The code starts with\n",
        "a = [0, 1, 2, 3, 4, 5, 6, 7, 8, 9]\n",
        "print(a[2:5])\n",
        "print(a[:3])\n",
        "print(a[-3:])\n",
        "print(a[::2])\n",
        "print(a[::-2])\n",
        "print(a[0:4:2])\n",
        "print(a[5:0:-2])\n",
        "print(a[:5:1])\n",
        "print(a[:5:-1])\n",
        "print(a[5::1])\n",
        "print(a[5::-1])\n",
        "print(a[5:0:-1])"
      ],
      "metadata": {
        "colab": {
          "base_uri": "https://localhost:8080/"
        },
        "id": "9ZO4s4n183Dq",
        "outputId": "fbd1684f-7cbf-42e6-a87c-908e37ed84ea"
      },
      "execution_count": null,
      "outputs": [
        {
          "output_type": "stream",
          "name": "stdout",
          "text": [
            "[2, 3, 4]\n",
            "[0, 1, 2]\n",
            "[7, 8, 9]\n",
            "[0, 2, 4, 6, 8]\n",
            "[9, 7, 5, 3, 1]\n",
            "[0, 2]\n",
            "[5, 3, 1]\n",
            "[0, 1, 2, 3, 4]\n",
            "[9, 8, 7, 6]\n",
            "[5, 6, 7, 8, 9]\n",
            "[5, 4, 3, 2, 1, 0]\n",
            "[5, 4, 3, 2, 1]\n"
          ]
        }
      ]
    },
    {
      "cell_type": "code",
      "source": [
        "# 2.11 Operations on Mutable Sequences\n",
        "# Create a list with the first 2 million positive integers in it ([1, 2, 3, ... , 2,000,000])\n",
        "# Replace the centermost 1,000,000 integers with the string 'MiddleStuff'\n",
        "# Figure out some way to print this and look at len(this) to demonstrate that it works\n",
        "\n",
        "# INSERT YOUR CODE HERE\n",
        "\n",
        "numbers = []\n",
        "\n",
        "for i in range(1, 1_000_001):\n",
        "  if i > 449999 and  i < 549999:\n",
        "    i = 'Middle Stuff'\n",
        "  numbers.append(i)\n",
        "print(len(numbers))\n"
      ],
      "metadata": {
        "id": "Gn3VwPlD9Vj0",
        "colab": {
          "base_uri": "https://localhost:8080/"
        },
        "outputId": "26297fd7-2e92-41e9-979f-e27b7dde5c00"
      },
      "execution_count": null,
      "outputs": [
        {
          "output_type": "stream",
          "name": "stdout",
          "text": [
            "1000000\n"
          ]
        }
      ]
    },
    {
      "cell_type": "code",
      "source": [
        "# 2.12 Operations on Sets\n",
        "# rand1 and rand2 are two independent lists of 1000 numbers between 1 and 1000 inclusive\n",
        "# What are set1 - set4?\n",
        "# How many numbers between 1 and 1000 appear in neither list?\n",
        "import random\n",
        "random.seed(42)\n",
        "\n",
        "rand1 = [random.randint(1,1000) for i in range(1000)]\n",
        "rand2 = [random.randint(1,1000) for i in range(1000)]\n",
        "set1 = set(rand1)     #<-----The amount of integers that dont appear between a random integer in a range of 10000\n",
        "set2 = set(rand2)     #<-----The amount from a different set of integers that dont appear(same as set 1)\n",
        "set3 = set1 | set2    #<-----The union of set 1 and 2\n",
        "set4 = set1 & set2    #<-----The point where set1 and set 2 intersect\n",
        "print(len(set1), len(set2), len(set3), len(set4))\n",
        "\n",
        "#363 integers dont appear in rand1 and 351 integers dont appear in rand2\n"
      ],
      "metadata": {
        "colab": {
          "base_uri": "https://localhost:8080/"
        },
        "id": "SBbTQw-n-G2D",
        "outputId": "dbf553dd-0039-4824-ac18-6c285c13ed40"
      },
      "execution_count": null,
      "outputs": [
        {
          "output_type": "stream",
          "name": "stdout",
          "text": [
            "637 649 884 402\n"
          ]
        }
      ]
    },
    {
      "cell_type": "code",
      "source": [
        "# 2.15 Generator Expression\n",
        "# Show that the code that begins with\n",
        "# Read a file\n",
        "# f = open....\n",
        "# in Section 2.15 actually print all the lines in a file that begin with a '#'\n",
        "\n",
        "# INSERT YOUR CODE HERE\n",
        "\n",
        "f = open('data.txt')\n",
        "\n",
        "lines = (t.strip() for t in f)\n",
        "\n",
        "comments = (t for t in lines if t[0] == '#')\n",
        "for c in comments:\n",
        "  print(c)"
      ],
      "metadata": {
        "id": "i901rirUBpy6",
        "colab": {
          "base_uri": "https://localhost:8080/",
          "height": 245
        },
        "outputId": "12d4e597-f942-43d6-e2fb-238f98442664"
      },
      "execution_count": 13,
      "outputs": [
        {
          "output_type": "error",
          "ename": "FileNotFoundError",
          "evalue": "ignored",
          "traceback": [
            "\u001b[0;31m---------------------------------------------------------------------------\u001b[0m",
            "\u001b[0;31mFileNotFoundError\u001b[0m                         Traceback (most recent call last)",
            "\u001b[0;32m<ipython-input-13-4439807dfcb7>\u001b[0m in \u001b[0;36m<cell line: 9>\u001b[0;34m()\u001b[0m\n\u001b[1;32m      7\u001b[0m \u001b[0;31m# INSERT YOUR CODE HERE\u001b[0m\u001b[0;34m\u001b[0m\u001b[0;34m\u001b[0m\u001b[0m\n\u001b[1;32m      8\u001b[0m \u001b[0;34m\u001b[0m\u001b[0m\n\u001b[0;32m----> 9\u001b[0;31m \u001b[0mf\u001b[0m \u001b[0;34m=\u001b[0m \u001b[0mopen\u001b[0m\u001b[0;34m(\u001b[0m\u001b[0;34m'data.txt'\u001b[0m\u001b[0;34m)\u001b[0m\u001b[0;34m\u001b[0m\u001b[0;34m\u001b[0m\u001b[0m\n\u001b[0m\u001b[1;32m     10\u001b[0m \u001b[0;34m\u001b[0m\u001b[0m\n\u001b[1;32m     11\u001b[0m \u001b[0mlines\u001b[0m \u001b[0;34m=\u001b[0m \u001b[0;34m(\u001b[0m\u001b[0mt\u001b[0m\u001b[0;34m.\u001b[0m\u001b[0mstrip\u001b[0m\u001b[0;34m(\u001b[0m\u001b[0;34m)\u001b[0m \u001b[0;32mfor\u001b[0m \u001b[0mt\u001b[0m \u001b[0;32min\u001b[0m \u001b[0mf\u001b[0m\u001b[0;34m)\u001b[0m\u001b[0;34m\u001b[0m\u001b[0;34m\u001b[0m\u001b[0m\n",
            "\u001b[0;31mFileNotFoundError\u001b[0m: [Errno 2] No such file or directory: 'data.txt'"
          ]
        }
      ]
    }
  ]
}